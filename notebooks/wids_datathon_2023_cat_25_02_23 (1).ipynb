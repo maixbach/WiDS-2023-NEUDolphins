{
  "metadata": {
    "kernelspec": {
      "language": "python",
      "display_name": "Python 3",
      "name": "python3"
    },
    "language_info": {
      "name": "python",
      "version": "3.7.12",
      "mimetype": "text/x-python",
      "codemirror_mode": {
        "name": "ipython",
        "version": 3
      },
      "pygments_lexer": "ipython3",
      "nbconvert_exporter": "python",
      "file_extension": ".py"
    },
    "colab": {
      "provenance": []
    },
    "accelerator": "GPU",
    "gpuClass": "standard"
  },
  "nbformat_minor": 0,
  "nbformat": 4,
  "cells": [
    {
      "cell_type": "code",
      "source": [
        "!pip install catboost"
      ],
      "metadata": {
        "colab": {
          "base_uri": "https://localhost:8080/"
        },
        "id": "xjgyo4Z13mIL",
        "outputId": "d5d99764-f59c-481e-fd31-7b9a2d94c2b2"
      },
      "execution_count": 1,
      "outputs": [
        {
          "output_type": "stream",
          "name": "stdout",
          "text": [
            "Looking in indexes: https://pypi.org/simple, https://us-python.pkg.dev/colab-wheels/public/simple/\n",
            "Collecting catboost\n",
            "  Downloading catboost-1.1.1-cp38-none-manylinux1_x86_64.whl (76.6 MB)\n",
            "\u001b[2K     \u001b[90m━━━━━━━━━━━━━━━━━━━━━━━━━━━━━━━━━━━━━━━━\u001b[0m \u001b[32m76.6/76.6 MB\u001b[0m \u001b[31m12.4 MB/s\u001b[0m eta \u001b[36m0:00:00\u001b[0m\n",
            "\u001b[?25hRequirement already satisfied: matplotlib in /usr/local/lib/python3.8/dist-packages (from catboost) (3.5.3)\n",
            "Requirement already satisfied: numpy>=1.16.0 in /usr/local/lib/python3.8/dist-packages (from catboost) (1.22.4)\n",
            "Requirement already satisfied: pandas>=0.24.0 in /usr/local/lib/python3.8/dist-packages (from catboost) (1.3.5)\n",
            "Requirement already satisfied: graphviz in /usr/local/lib/python3.8/dist-packages (from catboost) (0.10.1)\n",
            "Requirement already satisfied: six in /usr/local/lib/python3.8/dist-packages (from catboost) (1.15.0)\n",
            "Requirement already satisfied: scipy in /usr/local/lib/python3.8/dist-packages (from catboost) (1.7.3)\n",
            "Requirement already satisfied: plotly in /usr/local/lib/python3.8/dist-packages (from catboost) (5.5.0)\n",
            "Requirement already satisfied: python-dateutil>=2.7.3 in /usr/local/lib/python3.8/dist-packages (from pandas>=0.24.0->catboost) (2.8.2)\n",
            "Requirement already satisfied: pytz>=2017.3 in /usr/local/lib/python3.8/dist-packages (from pandas>=0.24.0->catboost) (2022.7.1)\n",
            "Requirement already satisfied: pyparsing>=2.2.1 in /usr/local/lib/python3.8/dist-packages (from matplotlib->catboost) (3.0.9)\n",
            "Requirement already satisfied: pillow>=6.2.0 in /usr/local/lib/python3.8/dist-packages (from matplotlib->catboost) (7.1.2)\n",
            "Requirement already satisfied: cycler>=0.10 in /usr/local/lib/python3.8/dist-packages (from matplotlib->catboost) (0.11.0)\n",
            "Requirement already satisfied: packaging>=20.0 in /usr/local/lib/python3.8/dist-packages (from matplotlib->catboost) (23.0)\n",
            "Requirement already satisfied: fonttools>=4.22.0 in /usr/local/lib/python3.8/dist-packages (from matplotlib->catboost) (4.38.0)\n",
            "Requirement already satisfied: kiwisolver>=1.0.1 in /usr/local/lib/python3.8/dist-packages (from matplotlib->catboost) (1.4.4)\n",
            "Requirement already satisfied: tenacity>=6.2.0 in /usr/local/lib/python3.8/dist-packages (from plotly->catboost) (8.2.1)\n",
            "Installing collected packages: catboost\n",
            "Successfully installed catboost-1.1.1\n"
          ]
        }
      ]
    },
    {
      "cell_type": "code",
      "source": [
        "!pip install --quiet optuna"
      ],
      "metadata": {
        "colab": {
          "base_uri": "https://localhost:8080/"
        },
        "id": "7OZ6GG933utF",
        "outputId": "f975c4f3-d46a-4d03-b814-e06d742d9a37"
      },
      "execution_count": 2,
      "outputs": [
        {
          "output_type": "stream",
          "name": "stdout",
          "text": [
            "\u001b[2K     \u001b[90m━━━━━━━━━━━━━━━━━━━━━━━━━━━━━━━━━━━━━━\u001b[0m \u001b[32m365.3/365.3 KB\u001b[0m \u001b[31m22.3 MB/s\u001b[0m eta \u001b[36m0:00:00\u001b[0m\n",
            "\u001b[2K     \u001b[90m━━━━━━━━━━━━━━━━━━━━━━━━━━━━━━━━━━━━━━\u001b[0m \u001b[32m210.5/210.5 KB\u001b[0m \u001b[31m25.1 MB/s\u001b[0m eta \u001b[36m0:00:00\u001b[0m\n",
            "\u001b[2K     \u001b[90m━━━━━━━━━━━━━━━━━━━━━━━━━━━━━━━━━━━━━━━━\u001b[0m \u001b[32m78.7/78.7 KB\u001b[0m \u001b[31m9.7 MB/s\u001b[0m eta \u001b[36m0:00:00\u001b[0m\n",
            "\u001b[?25h"
          ]
        }
      ]
    },
    {
      "cell_type": "code",
      "source": [
        "! pip install kaggle"
      ],
      "metadata": {
        "colab": {
          "base_uri": "https://localhost:8080/"
        },
        "id": "eDEb4dcb4zM0",
        "outputId": "532c4f0f-8efd-4a1e-b08f-048ccb8a23ac"
      },
      "execution_count": 3,
      "outputs": [
        {
          "output_type": "stream",
          "name": "stdout",
          "text": [
            "Looking in indexes: https://pypi.org/simple, https://us-python.pkg.dev/colab-wheels/public/simple/\n",
            "Requirement already satisfied: kaggle in /usr/local/lib/python3.8/dist-packages (1.5.12)\n",
            "Requirement already satisfied: six>=1.10 in /usr/local/lib/python3.8/dist-packages (from kaggle) (1.15.0)\n",
            "Requirement already satisfied: urllib3 in /usr/local/lib/python3.8/dist-packages (from kaggle) (1.24.3)\n",
            "Requirement already satisfied: tqdm in /usr/local/lib/python3.8/dist-packages (from kaggle) (4.64.1)\n",
            "Requirement already satisfied: python-dateutil in /usr/local/lib/python3.8/dist-packages (from kaggle) (2.8.2)\n",
            "Requirement already satisfied: requests in /usr/local/lib/python3.8/dist-packages (from kaggle) (2.25.1)\n",
            "Requirement already satisfied: python-slugify in /usr/local/lib/python3.8/dist-packages (from kaggle) (8.0.0)\n",
            "Requirement already satisfied: certifi in /usr/local/lib/python3.8/dist-packages (from kaggle) (2022.12.7)\n",
            "Requirement already satisfied: text-unidecode>=1.3 in /usr/local/lib/python3.8/dist-packages (from python-slugify->kaggle) (1.3)\n",
            "Requirement already satisfied: idna<3,>=2.5 in /usr/local/lib/python3.8/dist-packages (from requests->kaggle) (2.10)\n",
            "Requirement already satisfied: chardet<5,>=3.0.2 in /usr/local/lib/python3.8/dist-packages (from requests->kaggle) (4.0.0)\n"
          ]
        }
      ]
    },
    {
      "cell_type": "code",
      "source": [
        "! mkdir ~/.kaggle"
      ],
      "metadata": {
        "id": "CpdVJWh441Ec"
      },
      "execution_count": 4,
      "outputs": []
    },
    {
      "cell_type": "code",
      "source": [
        "! cp kaggle.json ~/.kaggle/"
      ],
      "metadata": {
        "id": "PYlSwtrj41ND"
      },
      "execution_count": 5,
      "outputs": []
    },
    {
      "cell_type": "code",
      "source": [
        "! chmod 600 ~/.kaggle/kaggle.json"
      ],
      "metadata": {
        "id": "_6jLBW2y41Wr"
      },
      "execution_count": 6,
      "outputs": []
    },
    {
      "cell_type": "code",
      "source": [
        "! kaggle competitions download -c widsdatathon2023"
      ],
      "metadata": {
        "colab": {
          "base_uri": "https://localhost:8080/"
        },
        "id": "fQuqi8ga49cG",
        "outputId": "48635da6-121a-412a-d8ee-ecb92a80fa40"
      },
      "execution_count": 7,
      "outputs": [
        {
          "output_type": "stream",
          "name": "stdout",
          "text": [
            "Downloading widsdatathon2023.zip to /content\n",
            " 93% 189M/203M [00:01<00:00, 184MB/s]\n",
            "100% 203M/203M [00:01<00:00, 196MB/s]\n"
          ]
        }
      ]
    },
    {
      "cell_type": "code",
      "source": [
        "! unzip /content/widsdatathon2023.zip"
      ],
      "metadata": {
        "colab": {
          "base_uri": "https://localhost:8080/"
        },
        "id": "cLpMFvbj5NgG",
        "outputId": "3ab5dddc-050e-4f13-9e37-a5d67764c854"
      },
      "execution_count": 8,
      "outputs": [
        {
          "output_type": "stream",
          "name": "stdout",
          "text": [
            "Archive:  /content/widsdatathon2023.zip\n",
            "  inflating: sample_solution.csv     \n",
            "  inflating: test_data.csv           \n",
            "  inflating: train_data.csv          \n"
          ]
        }
      ]
    },
    {
      "cell_type": "code",
      "source": [
        "# This Python 3 environment comes with many helpful analytics libraries installed\n",
        "# It is defined by the kaggle/python Docker image: https://github.com/kaggle/docker-python\n",
        "# For example, here's several helpful packages to load\n",
        "\n",
        "import numpy as np # linear algebra\n",
        "import pandas as pd # data processing, CSV file I/O (e.g. pd.read_csv)\n",
        "import matplotlib.pyplot as plt\n",
        "import seaborn as sb\n",
        "from datetime import datetime\n",
        "from sklearn.model_selection import train_test_split, StratifiedKFold, RandomizedSearchCV, GridSearchCV\n",
        "from sklearn.feature_selection import RFE\n",
        "from sklearn.neural_network import MLPRegressor\n",
        "from sklearn.linear_model import Lasso, LinearRegression\n",
        "from sklearn.preprocessing import LabelEncoder, OneHotEncoder\n",
        "from sklearn.ensemble import RandomForestRegressor, GradientBoostingRegressor\n",
        "from catboost import CatBoostRegressor\n",
        "from statsmodels.tsa.arima.model import ARIMA\n",
        "import xgboost as xgb\n",
        "from sklearn.metrics import mean_squared_error\n",
        "from sklearn.preprocessing import StandardScaler, MinMaxScaler\n",
        "from scipy.stats import uniform, randint\n",
        "from sklearn.pipeline import Pipeline\n",
        "#from skopt import BayesSearchCV\n",
        "#from skopt.space import Real, Integer\n",
        "import gc\n",
        "import lightgbm as lgb\n",
        "import optuna\n",
        "%matplotlib inline\n",
        "print(\"Libraries imported\")\n",
        "\n",
        "# Input data files are available in the read-only \"../input/\" directory\n",
        "# For example, running this (by clicking run or pressing Shift+Enter) will list all files under the input directory\n",
        "\n",
        "import os\n",
        "for dirname, _, filenames in os.walk('/kaggle/input'):\n",
        "    for filename in filenames:\n",
        "        print(os.path.join(dirname, filename))\n",
        "\n",
        "# You can write up to 20GB to the current directory (/kaggle/working/) that gets preserved as output when you create a version using \"Save & Run All\" \n",
        "# You can also write temporary files to /kaggle/temp/, but they won't be saved outside of the current session"
      ],
      "metadata": {
        "_uuid": "8f2839f25d086af736a60e9eeb907d3b93b6e0e5",
        "_cell_guid": "b1076dfc-b9ad-4769-8c92-a6c4dae69d19",
        "execution": {
          "iopub.status.busy": "2023-02-25T13:50:05.194693Z",
          "iopub.execute_input": "2023-02-25T13:50:05.195167Z",
          "iopub.status.idle": "2023-02-25T13:50:10.344110Z",
          "shell.execute_reply.started": "2023-02-25T13:50:05.195118Z",
          "shell.execute_reply": "2023-02-25T13:50:10.342630Z"
        },
        "trusted": true,
        "colab": {
          "base_uri": "https://localhost:8080/"
        },
        "id": "pLS7cX_33c9F",
        "outputId": "1d132e42-e913-43b0-adf4-e49e69ed235d"
      },
      "execution_count": 9,
      "outputs": [
        {
          "output_type": "stream",
          "name": "stdout",
          "text": [
            "Libraries imported\n"
          ]
        }
      ]
    },
    {
      "cell_type": "code",
      "source": [
        "from scipy import stats"
      ],
      "metadata": {
        "execution": {
          "iopub.status.busy": "2023-02-25T13:50:10.347039Z",
          "iopub.execute_input": "2023-02-25T13:50:10.348037Z",
          "iopub.status.idle": "2023-02-25T13:50:10.353773Z",
          "shell.execute_reply.started": "2023-02-25T13:50:10.347980Z",
          "shell.execute_reply": "2023-02-25T13:50:10.352670Z"
        },
        "trusted": true,
        "id": "uIF_qbUG3c9J"
      },
      "execution_count": 10,
      "outputs": []
    },
    {
      "cell_type": "markdown",
      "source": [
        "# Loading data"
      ],
      "metadata": {
        "id": "CDcOEc8h3c9J"
      }
    },
    {
      "cell_type": "markdown",
      "source": [
        "## Load the data of train and test set"
      ],
      "metadata": {
        "id": "ZHSVp_OC3c9K"
      }
    },
    {
      "cell_type": "code",
      "source": [
        "cc_train = pd.read_csv('/content/train_data.csv')\n",
        "cc_test = pd.read_csv('/content/test_data.csv')\n",
        "cc_sample = pd.read_csv('/content/sample_solution.csv')"
      ],
      "metadata": {
        "execution": {
          "iopub.status.busy": "2023-02-25T13:50:10.355818Z",
          "iopub.execute_input": "2023-02-25T13:50:10.356435Z",
          "iopub.status.idle": "2023-02-25T13:50:38.489932Z",
          "shell.execute_reply.started": "2023-02-25T13:50:10.356381Z",
          "shell.execute_reply": "2023-02-25T13:50:38.488617Z"
        },
        "trusted": true,
        "id": "BtvZgzwk3c9L"
      },
      "execution_count": 11,
      "outputs": []
    },
    {
      "cell_type": "markdown",
      "source": [
        "## Reduce the memory usage of the dataset\n",
        "[Reduce DF size](https://www.kaggle.com/competitions/widsdatathon2023/discussion/376649)"
      ],
      "metadata": {
        "id": "uM92t7AF3c9L"
      }
    },
    {
      "cell_type": "code",
      "source": [
        "def reduce_mem_usage(dataframe, verbose=True):\n",
        "  numerics = ['int16', 'int32', 'int64', 'float16', 'float32', 'float64']\n",
        "  start_memory = dataframe.memory_usage().sum() / 1024**2\n",
        "  for col in dataframe.columns:\n",
        "    col_type = dataframe[col].dtypes\n",
        "    if col_type in numerics:\n",
        "      c_min = dataframe[col].min()\n",
        "      c_max = dataframe[col].max()\n",
        "      if str(col_type)[:3] == 'int':\n",
        "        if c_min > np.iinfo(np.int8).min and c_max < np.iinfo(np.int8).max:\n",
        "          dataframe[col] = dataframe[col].astype(np.int8)\n",
        "        elif c_min > np.iinfo(np.int16).min and c_max < np.iinfo(np.int16).max:\n",
        "          dataframe[col] = dataframe[col].astype(np.int16)\n",
        "        elif c_min > np.iinfo(np.int32).min and c_max < np.iinfo(np.int32).max:\n",
        "          dataframe[col] = dataframe[col].astype(np.int32)\n",
        "        elif c_min > np.iinfo(np.int64).min and c_max < np.iinfo(np.int64).max:\n",
        "          dataframe[col] = dataframe[col].astype(np.int64)\n",
        "      else:\n",
        "        if c_min > np.finfo(np.float32).min and c_max < np.finfo(np.float32).max:\n",
        "          dataframe[col] = dataframe[col].astype(np.float32)\n",
        "        else:\n",
        "          dataframe[col] = dataframe[col].astype(np.float64)\n",
        "  end_memory = dataframe.memory_usage().sum() / 1024**2\n",
        "  print('Mem. usage decreased to {:5.2f} Mb ({:.1f}% reduction)'.format(end_memory, 100 * (start_memory - end_memory) / start_memory)) if verbose else print('Reduced to {:5.2f}'.format(end_memory))\n",
        "  return dataframe"
      ],
      "metadata": {
        "execution": {
          "iopub.status.busy": "2023-02-25T13:50:38.491276Z",
          "iopub.execute_input": "2023-02-25T13:50:38.491763Z",
          "iopub.status.idle": "2023-02-25T13:50:38.505893Z",
          "shell.execute_reply.started": "2023-02-25T13:50:38.491711Z",
          "shell.execute_reply": "2023-02-25T13:50:38.504347Z"
        },
        "trusted": true,
        "id": "sor-9bE73c9L"
      },
      "execution_count": 12,
      "outputs": []
    },
    {
      "cell_type": "code",
      "source": [
        "cc_train = reduce_mem_usage(cc_train)"
      ],
      "metadata": {
        "execution": {
          "iopub.status.busy": "2023-02-25T13:50:38.509399Z",
          "iopub.execute_input": "2023-02-25T13:50:38.509748Z",
          "iopub.status.idle": "2023-02-25T13:51:07.199568Z",
          "shell.execute_reply.started": "2023-02-25T13:50:38.509713Z",
          "shell.execute_reply": "2023-02-25T13:51:07.198281Z"
        },
        "trusted": true,
        "colab": {
          "base_uri": "https://localhost:8080/"
        },
        "id": "daWtiEl33c9M",
        "outputId": "c1d80db9-0777-46f5-bf90-ba62c745fa38"
      },
      "execution_count": 13,
      "outputs": [
        {
          "output_type": "stream",
          "name": "stdout",
          "text": [
            "Mem. usage decreased to 352.24 Mb (50.1% reduction)\n"
          ]
        }
      ]
    },
    {
      "cell_type": "markdown",
      "source": [
        "# Exploratary Data Analysis"
      ],
      "metadata": {
        "id": "tqQBc3-03c9M"
      }
    },
    {
      "cell_type": "markdown",
      "source": [
        "## Overview of the dataset"
      ],
      "metadata": {
        "id": "bF3RuDYn3c9N"
      }
    },
    {
      "cell_type": "code",
      "source": [
        "# Save into a new dataset\n",
        "train_df = cc_train.copy()\n",
        "test_df = cc_test.copy()"
      ],
      "metadata": {
        "execution": {
          "iopub.status.busy": "2023-02-25T13:51:07.200965Z",
          "iopub.execute_input": "2023-02-25T13:51:07.201340Z",
          "iopub.status.idle": "2023-02-25T13:51:07.649239Z",
          "shell.execute_reply.started": "2023-02-25T13:51:07.201304Z",
          "shell.execute_reply": "2023-02-25T13:51:07.648150Z"
        },
        "trusted": true,
        "id": "c1idDAtX3c9N"
      },
      "execution_count": 14,
      "outputs": []
    },
    {
      "cell_type": "code",
      "source": [
        "print(train_df.shape)\n",
        "print(test_df.shape)"
      ],
      "metadata": {
        "execution": {
          "iopub.status.busy": "2023-02-25T13:51:07.650470Z",
          "iopub.execute_input": "2023-02-25T13:51:07.650786Z",
          "iopub.status.idle": "2023-02-25T13:51:07.657557Z",
          "shell.execute_reply.started": "2023-02-25T13:51:07.650755Z",
          "shell.execute_reply": "2023-02-25T13:51:07.656035Z"
        },
        "trusted": true,
        "id": "GcibdOxi3c9N",
        "outputId": "33aed927-d126-4182-e9be-013264da2018",
        "colab": {
          "base_uri": "https://localhost:8080/"
        }
      },
      "execution_count": 15,
      "outputs": [
        {
          "output_type": "stream",
          "name": "stdout",
          "text": [
            "(375734, 246)\n",
            "(31354, 245)\n"
          ]
        }
      ]
    },
    {
      "cell_type": "markdown",
      "source": [
        "## Visualise the time gap between the train and the test data"
      ],
      "metadata": {
        "id": "XyFNsCtr3c9O"
      }
    },
    {
      "cell_type": "code",
      "source": [
        "# create a scatterplot using seaborn and matplotlib\n",
        "fig, ax = plt.subplots(figsize=(16, 8))\n",
        "sb.scatterplot(x=train_df.startdate, y=1, color='blue', label='Train Data', ax=ax)\n",
        "sb.scatterplot(x=test_df.startdate, y=1, color='red', label='Test Data', ax=ax)\n",
        "\n",
        "# add labels and a title to the plot\n",
        "ax.set_title('Scatterplot of Startdate and Target')\n",
        "ax.set_xlabel('Startdate')\n",
        "ax.set_ylabel('Target')\n",
        "ax.legend(loc='upper left')\n",
        "\n",
        "# display the plot\n",
        "plt.show()"
      ],
      "metadata": {
        "execution": {
          "iopub.status.busy": "2023-02-25T13:51:07.659327Z",
          "iopub.execute_input": "2023-02-25T13:51:07.659879Z",
          "iopub.status.idle": "2023-02-25T13:51:16.323982Z",
          "shell.execute_reply.started": "2023-02-25T13:51:07.659819Z",
          "shell.execute_reply": "2023-02-25T13:51:16.322447Z"
        },
        "trusted": true,
        "id": "eADKl32Y3c9O",
        "outputId": "1bfb6b53-c1ed-42eb-8ff0-3761bfd62a22"
      },
      "execution_count": null,
      "outputs": [
        {
          "output_type": "display_data",
          "data": {
            "text/plain": "<Figure size 1600x800 with 1 Axes>",
            "image/png": "[encoded data removed]"
          },
          "metadata": {}
        }
      ]
    },
    {
      "cell_type": "code",
      "source": [
        "train_df[\"startdate\"].describe()"
      ],
      "metadata": {
        "execution": {
          "iopub.status.busy": "2023-02-25T13:51:16.326641Z",
          "iopub.execute_input": "2023-02-25T13:51:16.327153Z",
          "iopub.status.idle": "2023-02-25T13:51:16.387394Z",
          "shell.execute_reply.started": "2023-02-25T13:51:16.327100Z",
          "shell.execute_reply": "2023-02-25T13:51:16.385512Z"
        },
        "trusted": true,
        "id": "F3z3xx8j3c9O",
        "outputId": "aca3ee52-a740-4fba-faee-ff78483b207b"
      },
      "execution_count": null,
      "outputs": [
        {
          "execution_count": 10,
          "output_type": "execute_result",
          "data": {
            "text/plain": "count     375734\nunique       731\ntop       9/1/14\nfreq         514\nName: startdate, dtype: object"
          },
          "metadata": {}
        }
      ]
    },
    {
      "cell_type": "code",
      "source": [
        "print(\"train date from {} to {}.\".format(train_df[\"startdate\"].unique()[0],  train_df[\"startdate\"].unique()[-1]))"
      ],
      "metadata": {
        "execution": {
          "iopub.status.busy": "2023-02-25T13:51:16.388912Z",
          "iopub.execute_input": "2023-02-25T13:51:16.389288Z",
          "iopub.status.idle": "2023-02-25T13:51:16.449509Z",
          "shell.execute_reply.started": "2023-02-25T13:51:16.389250Z",
          "shell.execute_reply": "2023-02-25T13:51:16.448129Z"
        },
        "trusted": true,
        "id": "urGVjtjX3c9O",
        "outputId": "b78248d7-c4cf-4060-c1bf-f12e6ad0d2e3"
      },
      "execution_count": null,
      "outputs": [
        {
          "name": "stdout",
          "text": "train date from 9/1/14 to 8/31/16.\n",
          "output_type": "stream"
        }
      ]
    },
    {
      "cell_type": "code",
      "source": [
        "test_df[\"startdate\"].describe()"
      ],
      "metadata": {
        "execution": {
          "iopub.status.busy": "2023-02-25T13:51:16.450998Z",
          "iopub.execute_input": "2023-02-25T13:51:16.451367Z",
          "iopub.status.idle": "2023-02-25T13:51:16.464757Z",
          "shell.execute_reply.started": "2023-02-25T13:51:16.451329Z",
          "shell.execute_reply": "2023-02-25T13:51:16.463381Z"
        },
        "trusted": true,
        "id": "FjEAsmYh3c9P",
        "outputId": "9b36223b-9144-413d-9b65-3f3ed048c40e"
      },
      "execution_count": null,
      "outputs": [
        {
          "execution_count": 12,
          "output_type": "execute_result",
          "data": {
            "text/plain": "count       31354\nunique         61\ntop       11/1/22\nfreq          514\nName: startdate, dtype: object"
          },
          "metadata": {}
        }
      ]
    },
    {
      "cell_type": "code",
      "source": [
        "print(\"test date from {} to {}.\".format(test_df[\"startdate\"].unique()[0],  test_df[\"startdate\"].unique()[-1]))"
      ],
      "metadata": {
        "execution": {
          "iopub.status.busy": "2023-02-25T13:51:16.466753Z",
          "iopub.execute_input": "2023-02-25T13:51:16.467315Z",
          "iopub.status.idle": "2023-02-25T13:51:16.483480Z",
          "shell.execute_reply.started": "2023-02-25T13:51:16.467249Z",
          "shell.execute_reply": "2023-02-25T13:51:16.482452Z"
        },
        "trusted": true,
        "id": "cYNRCLO13c9P",
        "outputId": "4e92b10b-f585-4a62-ea5f-b57492e69880"
      },
      "execution_count": null,
      "outputs": [
        {
          "name": "stdout",
          "text": "test date from 11/1/22 to 12/31/22.\n",
          "output_type": "stream"
        }
      ]
    },
    {
      "cell_type": "markdown",
      "source": [
        "**Based on the graph above the train data was from 2014 - 2016 and the test data is from 2022. There is a big time gap between the train and test data.**"
      ],
      "metadata": {
        "id": "8wPaluj03c9P"
      }
    },
    {
      "cell_type": "markdown",
      "source": [
        "## Analyising the distribution of values in both the train and test dataset"
      ],
      "metadata": {
        "id": "b6vA2hUv3c9P"
      }
    },
    {
      "cell_type": "code",
      "source": [
        "def train_test_dist(train, test):\n",
        "    fig, ax = plt.subplots(figsize = (10, 5))\n",
        "    sb.kdeplot(data=train,  color='blue', fill=True, ax=ax, label=\"Train Data\")\n",
        "    sb.kdeplot(data=test, color='orange', fill=True, ax=ax, label=\"Test Data\")\n",
        "    plt.legend()\n",
        "    plt.show()\n",
        "    \n",
        "train_target = cc_train['contest-pevpr-sfc-gauss-14d__pevpr']\n",
        "test_target = cc_test['contest-pevpr-sfc-gauss-14d__pevpr']\n",
        "train_test_dist(train_target, test_target)"
      ],
      "metadata": {
        "execution": {
          "iopub.status.busy": "2023-02-25T13:51:16.485104Z",
          "iopub.execute_input": "2023-02-25T13:51:16.485771Z",
          "iopub.status.idle": "2023-02-25T13:51:18.773283Z",
          "shell.execute_reply.started": "2023-02-25T13:51:16.485719Z",
          "shell.execute_reply": "2023-02-25T13:51:18.771863Z"
        },
        "trusted": true,
        "id": "6jWVb6mT3c9P",
        "outputId": "9e6c753d-674b-4be3-a7e0-298a30bde773"
      },
      "execution_count": null,
      "outputs": [
        {
          "output_type": "display_data",
          "data": {
            "text/plain": "<Figure size 1000x500 with 1 Axes>",
            "image/png": "[encoded data removed]"
          },
          "metadata": {}
        }
      ]
    },
    {
      "cell_type": "markdown",
      "source": [
        "## Visualizing the target variable\n",
        "> contest-tmp2m-14d__tmp2m"
      ],
      "metadata": {
        "id": "JqhoZowF3c9Q"
      }
    },
    {
      "cell_type": "code",
      "source": [
        "def target_var_visualized():\n",
        "  plt.figure(figsize=(15,7))\n",
        "  plt.subplot(121)\n",
        "  sb.kdeplot(cc_train['contest-tmp2m-14d__tmp2m'], color = \"#ffd514\")\n",
        "  plt.subplot(122)\n",
        "  sb.boxplot(data=cc_train['contest-tmp2m-14d__tmp2m'], color = \"#ff355d\")\n",
        "target_var_visualized()"
      ],
      "metadata": {
        "execution": {
          "iopub.status.busy": "2023-02-25T13:51:18.781858Z",
          "iopub.execute_input": "2023-02-25T13:51:18.783297Z",
          "iopub.status.idle": "2023-02-25T13:51:20.962576Z",
          "shell.execute_reply.started": "2023-02-25T13:51:18.783236Z",
          "shell.execute_reply": "2023-02-25T13:51:20.960387Z"
        },
        "trusted": true,
        "id": "3MVjpdq63c9Q",
        "outputId": "8658df84-3d02-4f5c-94ae-cdf6ef032269"
      },
      "execution_count": null,
      "outputs": [
        {
          "output_type": "display_data",
          "data": {
            "text/plain": "<Figure size 1500x700 with 2 Axes>",
            "image/png": "[encoded data removed]"
          },
          "metadata": {}
        }
      ]
    },
    {
      "cell_type": "markdown",
      "source": [
        "## Displaying the distribution of the target variable in the train and test"
      ],
      "metadata": {
        "id": "0mg2R9uo3c9R"
      }
    },
    {
      "cell_type": "code",
      "source": [
        "def histogram_plot(data, label, title):\n",
        "    sb.histplot(data, color='blue', label=label)\n",
        "    plt.legend()\n",
        "    plt.title(title)\n",
        "    plt.show()\n",
        "histogram_plot(data=cc_train['contest-tmp2m-14d__tmp2m'], label=\"contest-tmp2m-14d__tmp2m\", title=\"Target Variable distribution\")"
      ],
      "metadata": {
        "execution": {
          "iopub.status.busy": "2023-02-25T13:51:20.964208Z",
          "iopub.execute_input": "2023-02-25T13:51:20.964618Z",
          "iopub.status.idle": "2023-02-25T13:51:21.842256Z",
          "shell.execute_reply.started": "2023-02-25T13:51:20.964582Z",
          "shell.execute_reply": "2023-02-25T13:51:21.840966Z"
        },
        "trusted": true,
        "colab": {
          "base_uri": "https://localhost:8080/",
          "height": 296
        },
        "id": "TB-qhP7K3c9R",
        "outputId": "4a501bac-5b3b-473f-a63e-448b935dd3ca"
      },
      "execution_count": 27,
      "outputs": [
        {
          "output_type": "display_data",
          "data": {
            "text/plain": [
              "<Figure size 432x288 with 1 Axes>"
            ],
            "image/png": "[encoded data removed]"
          },
          "metadata": {
            "needs_background": "light"
          }
        }
      ]
    },
    {
      "cell_type": "markdown",
      "source": [
        "**The target variable is not in the test dataset**"
      ],
      "metadata": {
        "id": "dwS2jSjU3c9R"
      }
    },
    {
      "cell_type": "markdown",
      "source": [
        "# Data Preprocessing"
      ],
      "metadata": {
        "id": "Vv77Ob4n3c9R"
      }
    },
    {
      "cell_type": "markdown",
      "source": [
        "## Location features"
      ],
      "metadata": {
        "id": "9ZBKtwxj3c9R"
      }
    },
    {
      "cell_type": "code",
      "source": [
        "def location_feature(train, test):\n",
        "    # Reference: https://www.kaggle.com/code/flaviafelicioni/wids-2023-different-locations-train-test-solved\n",
        "    scale = 14\n",
        "    train.loc[:,'lat']=round(train.lat,scale)\n",
        "    train.loc[:,'lon']=round(train.lon,scale)\n",
        "    test.loc[:,'lat']=round(test.lat,scale)\n",
        "    test.loc[:,'lon']=round(test.lon,scale)\n",
        "    \n",
        "    train_and_test = pd.concat([train, test], axis=0)\n",
        "    train_and_test['loc_group'] = train_and_test.groupby(['lat', 'lon']).ngroup()\n",
        "    print(f'{train_and_test.loc_group.nunique()} unique locations')\n",
        "    \n",
        "    train = train_and_test.iloc[:len(train)]\n",
        "    test = train_and_test.iloc[len(train):].drop(target, axis=1)\n",
        "    \n",
        "    return train, test"
      ],
      "metadata": {
        "execution": {
          "iopub.status.busy": "2023-02-25T13:51:21.843567Z",
          "iopub.execute_input": "2023-02-25T13:51:21.843896Z",
          "iopub.status.idle": "2023-02-25T13:51:21.853749Z",
          "shell.execute_reply.started": "2023-02-25T13:51:21.843864Z",
          "shell.execute_reply": "2023-02-25T13:51:21.852315Z"
        },
        "trusted": true,
        "id": "oVDLuDv_3c9R"
      },
      "execution_count": 16,
      "outputs": []
    },
    {
      "cell_type": "markdown",
      "source": [
        "## Encoding categorical variables"
      ],
      "metadata": {
        "id": "psayIIpO3c9S"
      }
    },
    {
      "cell_type": "code",
      "source": [
        "def cat_encode(train, test):\n",
        "    # encoding the categorical feature in the train and test data set\n",
        "    # using OneHotEncoder\n",
        "    ohe = OneHotEncoder()\n",
        "    train_encoded = ohe.fit_transform(train[['climateregions__climateregion']])\n",
        "    test_encoded = ohe.transform(test[['climateregions__climateregion']])\n",
        "    \n",
        "    train = train.drop(['climateregions__climateregion'], axis=1)\n",
        "    test = test.drop(['climateregions__climateregion'], axis=1)\n",
        "    \n",
        "    train_encoded = pd.DataFrame(train_encoded.toarray(), columns=ohe.get_feature_names_out(['climateregions__climateregion']))\n",
        "    test_encoded = pd.DataFrame(test_encoded.toarray(), columns=ohe.get_feature_names_out(['climateregions__climateregion']))\n",
        "    \n",
        "    train = pd.concat([train, train_encoded], axis=1)\n",
        "    test = pd.concat([test, test_encoded], axis=1)\n",
        "    \n",
        "    return train, test"
      ],
      "metadata": {
        "execution": {
          "iopub.status.busy": "2023-02-25T13:51:21.855861Z",
          "iopub.execute_input": "2023-02-25T13:51:21.856361Z",
          "iopub.status.idle": "2023-02-25T13:51:21.868069Z",
          "shell.execute_reply.started": "2023-02-25T13:51:21.856309Z",
          "shell.execute_reply": "2023-02-25T13:51:21.866765Z"
        },
        "trusted": true,
        "id": "6MGY6ySp3c9S"
      },
      "execution_count": 17,
      "outputs": []
    },
    {
      "cell_type": "code",
      "source": [
        "def categorical_label_encode(train, test, cat_cols):\n",
        "    le = LabelEncoder()\n",
        "    for col in cat_cols:\n",
        "        train[col] = le.fit_transform(train[[col]])\n",
        "        test[col] = le.transform(test[[col]])\n",
        "    return train, test"
      ],
      "metadata": {
        "id": "ItgH7KjQu-U3"
      },
      "execution_count": 58,
      "outputs": []
    },
    {
      "cell_type": "markdown",
      "source": [
        "## Two ways to fill na: By Mean or Interpolation"
      ],
      "metadata": {
        "id": "NoA2vGGs3c9S"
      }
    },
    {
      "cell_type": "code",
      "source": [
        "def fill_na_rows(dataset):\n",
        "    # Find the columns with missing values\n",
        "    columns_with_missing_values = dataset.columns[dataset.isnull().any()].tolist()\n",
        "    \n",
        "    # Impute the missing values with the mean value of that column\n",
        "    for col in columns_with_missing_values:\n",
        "        dataset[col].fillna(dataset[col].mean(), inplace=True)\n",
        "        \n",
        "    return dataset"
      ],
      "metadata": {
        "execution": {
          "iopub.status.busy": "2023-02-25T13:51:21.869788Z",
          "iopub.execute_input": "2023-02-25T13:51:21.870155Z",
          "iopub.status.idle": "2023-02-25T13:51:21.878009Z",
          "shell.execute_reply.started": "2023-02-25T13:51:21.870119Z",
          "shell.execute_reply": "2023-02-25T13:51:21.876788Z"
        },
        "trusted": true,
        "id": "FhLbhszm3c9S"
      },
      "execution_count": 18,
      "outputs": []
    },
    {
      "cell_type": "code",
      "source": [
        "def linear_interpolation_by_level(df, feature):\n",
        "    \n",
        "    \"\"\"Function linear interpolation for the dataset considering the levels of a categorical feature\"\"\"\n",
        "    \n",
        "    #Initializing dataframe\n",
        "    imputation_val = pd.DataFrame()\n",
        "    #List of all locations\n",
        "    level_list = df[feature].unique().tolist()\n",
        "    \n",
        "    #Function\n",
        "    for i in level_list:\n",
        "        #Dataframe\n",
        "        dataf = df[df[feature]==i].interpolate(method='linear')\n",
        "        #Appending\n",
        "        imputation_val = pd.concat([imputation_val,dataf])\n",
        "    \n",
        "    return imputation_val"
      ],
      "metadata": {
        "execution": {
          "iopub.status.busy": "2023-02-25T13:51:21.879565Z",
          "iopub.execute_input": "2023-02-25T13:51:21.880229Z",
          "iopub.status.idle": "2023-02-25T13:51:21.890906Z",
          "shell.execute_reply.started": "2023-02-25T13:51:21.880178Z",
          "shell.execute_reply": "2023-02-25T13:51:21.889612Z"
        },
        "trusted": true,
        "id": "pA9v3ZUP3c9S"
      },
      "execution_count": 19,
      "outputs": []
    },
    {
      "cell_type": "markdown",
      "source": [
        "## Create new features on datetime"
      ],
      "metadata": {
        "id": "xvQhkOkz3c9S"
      }
    },
    {
      "cell_type": "code",
      "source": [
        "def create_new_feat(dataset):\n",
        "    dataset['year']=pd.DatetimeIndex(dataset['startdate']).year \n",
        "    dataset['month']=pd.DatetimeIndex(dataset['startdate']).month \n",
        "    dataset['day']=pd.DatetimeIndex(dataset['startdate']).day\n",
        "    return dataset"
      ],
      "metadata": {
        "execution": {
          "iopub.status.busy": "2023-02-25T13:51:21.892794Z",
          "iopub.execute_input": "2023-02-25T13:51:21.893275Z",
          "iopub.status.idle": "2023-02-25T13:51:21.907255Z",
          "shell.execute_reply.started": "2023-02-25T13:51:21.893206Z",
          "shell.execute_reply": "2023-02-25T13:51:21.906287Z"
        },
        "trusted": true,
        "id": "85BpTgyd3c9S"
      },
      "execution_count": 20,
      "outputs": []
    },
    {
      "cell_type": "markdown",
      "source": [
        "## Transformation"
      ],
      "metadata": {
        "id": "QSZBkX1x3c9T"
      }
    },
    {
      "cell_type": "code",
      "source": [
        "def yeojohnson_transform(train_data, test_data):\n",
        "    \"\"\"yeojohnson transformation for all train and test dataset\n",
        "    Note that: you must drop out 'index', 'startdate','contest-tmp2m-14d__tmp2m', 'climateregions__climateregion'\n",
        "    before using yeojohnson transformation\"\"\"\n",
        "    \n",
        "    # Get the numeric columns\n",
        "    numeric_cols = train_data.select_dtypes(include=\"number\").columns.tolist()\n",
        "\n",
        "    # Loop over each column in the training set\n",
        "    lambda_values = {}\n",
        "    transformed_train_data = pd.DataFrame()\n",
        "    for col in numeric_cols:\n",
        "        # Apply yeojohnson transformation on training set\n",
        "        transformed_col, lambda_value = stats.yeojohnson(train_data[col])\n",
        "        # Store the lambda value for each column\n",
        "        lambda_values[col] = lambda_value\n",
        "        # Store the transformed column in a new DataFrame\n",
        "        transformed_train_data[col] = transformed_col\n",
        "\n",
        "    # Apply yeojohnson transformation on test set using lambda values from training set\n",
        "    transformed_test_data = pd.DataFrame()\n",
        "    for col in numeric_cols:\n",
        "        transformed_test_data[col] = stats.yeojohnson(test_data[col], lambda_values[col])\n",
        "        \n",
        "    return transformed_train_data, transformed_test_data"
      ],
      "metadata": {
        "execution": {
          "iopub.status.busy": "2023-02-25T13:51:21.908846Z",
          "iopub.execute_input": "2023-02-25T13:51:21.909736Z",
          "iopub.status.idle": "2023-02-25T13:51:21.919828Z",
          "shell.execute_reply.started": "2023-02-25T13:51:21.909690Z",
          "shell.execute_reply": "2023-02-25T13:51:21.918816Z"
        },
        "trusted": true,
        "id": "tlDHqz3W3c9T"
      },
      "execution_count": null,
      "outputs": []
    },
    {
      "cell_type": "code",
      "source": [
        "def MinMaxScaler_transform(train_data, test_data):\n",
        "        # Get the numeric columns\n",
        "    numeric_cols = train_data.select_dtypes(include=\"number\").columns.tolist()\n",
        "\n",
        "    # Apply MinMaxScaler on training set\n",
        "    scaler = MinMaxScaler()\n",
        "    scaler.fit(train_data[numeric_cols])\n",
        "    transformed_train_data = pd.DataFrame(scaler.transform(train_data[numeric_cols]), columns=numeric_cols)\n",
        "\n",
        "    # Apply MinMaxScaler on test set using parameters from training set\n",
        "    transformed_test_data = pd.DataFrame(scaler.transform(test_data[numeric_cols]), columns=numeric_cols)\n",
        "    \n",
        "    return transformed_train_data, transformed_test_data"
      ],
      "metadata": {
        "execution": {
          "iopub.status.busy": "2023-02-25T13:51:21.921304Z",
          "iopub.execute_input": "2023-02-25T13:51:21.922233Z",
          "iopub.status.idle": "2023-02-25T13:51:21.933102Z",
          "shell.execute_reply.started": "2023-02-25T13:51:21.922158Z",
          "shell.execute_reply": "2023-02-25T13:51:21.932118Z"
        },
        "trusted": true,
        "id": "s3gOEQvg3c9T"
      },
      "execution_count": 21,
      "outputs": []
    },
    {
      "cell_type": "code",
      "source": [
        "def StandardScaler_transform(train_data, test_data):\n",
        "    # Get the numeric columns\n",
        "    numeric_cols = train_data.select_dtypes(include=\"number\").columns.tolist()\n",
        "\n",
        "    # Apply StandardScaler on training set\n",
        "    scaler = StandardScaler()\n",
        "    scaler.fit(train_data[numeric_cols])\n",
        "    transformed_train_data = pd.DataFrame(scaler.transform(train_data[numeric_cols]), columns=numeric_cols)\n",
        "\n",
        "    # Apply StandardScaler on test set using parameters from training set\n",
        "    transformed_test_data = pd.DataFrame(scaler.transform(test_data[numeric_cols]), columns=numeric_cols)\n",
        "    return transformed_train_data, transformed_test_data"
      ],
      "metadata": {
        "execution": {
          "iopub.status.busy": "2023-02-25T13:51:21.934640Z",
          "iopub.execute_input": "2023-02-25T13:51:21.935462Z",
          "iopub.status.idle": "2023-02-25T13:51:21.949180Z",
          "shell.execute_reply.started": "2023-02-25T13:51:21.935419Z",
          "shell.execute_reply": "2023-02-25T13:51:21.948284Z"
        },
        "trusted": true,
        "id": "xsmmar5f3c9T"
      },
      "execution_count": 22,
      "outputs": []
    },
    {
      "cell_type": "code",
      "source": [
        "def feature_scale(train, test):\n",
        "    scaler = MinMaxScaler()\n",
        "    train_ = scaler.fit_transform(train)\n",
        "    test_ = scaler.transform(test)\n",
        "    train = pd.DataFrame(train_, columns = train.columns)\n",
        "    test = pd.DataFrame(test_, columns = test.columns)\n",
        "    return train, test"
      ],
      "metadata": {
        "id": "DUo2z3_3wR-o"
      },
      "execution_count": 61,
      "outputs": []
    },
    {
      "cell_type": "code",
      "source": [
        "def identify_correlated(df, threshold):\n",
        "    corr_matrix = df.corr().abs()\n",
        "    mask = np.triu(np.ones_like(corr_matrix, dtype=bool))\n",
        "    reduced_corr_matrix = corr_matrix.mask(mask)\n",
        "    features_to_drop = [c for c in reduced_corr_matrix.columns if any(reduced_corr_matrix[c] > threshold)]\n",
        "    return features_to_drop"
      ],
      "metadata": {
        "id": "4JFbhL5psFuD"
      },
      "execution_count": 46,
      "outputs": []
    },
    {
      "cell_type": "code",
      "source": [
        "target=\"contest-tmp2m-14d__tmp2m\""
      ],
      "metadata": {
        "execution": {
          "iopub.status.busy": "2023-02-25T13:51:21.963237Z",
          "iopub.execute_input": "2023-02-25T13:51:21.963851Z",
          "iopub.status.idle": "2023-02-25T13:51:21.974178Z",
          "shell.execute_reply.started": "2023-02-25T13:51:21.963809Z",
          "shell.execute_reply": "2023-02-25T13:51:21.973265Z"
        },
        "trusted": true,
        "id": "NoWQBpG33c9T"
      },
      "execution_count": 24,
      "outputs": []
    },
    {
      "cell_type": "code",
      "source": [
        "def feature_engineering(origin_train, origin_test):\n",
        "    train, test = location_feature(origin_train, origin_test)\n",
        "    \n",
        "    train = linear_interpolation_by_level(train, \"lat\")\n",
        "    #train = fill_na_rows(train)\n",
        "\n",
        "    train = create_new_feat(train)\n",
        "    test = create_new_feat(test)\n",
        "\n",
        "    train, test =  categorical_label_encode(train, test, cat_cols=['climateregions__climateregion'])\n",
        "   \n",
        "    #train, test = cat_encode(train, test)\n",
        "    \n",
        "    #irrelevant_cols = ['index', 'startdate','contest-tmp2m-14d__tmp2m', 'climateregions__climateregion']\n",
        "    #features = [col for col in train.columns if col not in irrelevant_cols]\n",
        "\n",
        "    to_drop = identify_correlated(train.copy(), threshold=.85)\n",
        "    drop_cols = ['index', 'startdate', target]\n",
        "    drop_cols.extend(to_drop)\n",
        "    features = [col for col in train.columns if col not in drop_cols]\n",
        "   \n",
        "    X = train[features]\n",
        "    X_test = test[features]\n",
        "    y = train['contest-tmp2m-14d__tmp2m']\n",
        "    \n",
        "    #X, X_test = StandardScaler_transform(X, X_test)\n",
        "    #X, X_test = MinMaxScaler_transform(X, X_test)\n",
        "    X, X_test = feature_scale(X, X_test)\n",
        "    \n",
        "    return X, y, X_test"
      ],
      "metadata": {
        "execution": {
          "iopub.status.busy": "2023-02-25T13:51:21.951014Z",
          "iopub.execute_input": "2023-02-25T13:51:21.951449Z",
          "iopub.status.idle": "2023-02-25T13:51:21.961824Z",
          "shell.execute_reply.started": "2023-02-25T13:51:21.951413Z",
          "shell.execute_reply": "2023-02-25T13:51:21.960455Z"
        },
        "trusted": true,
        "id": "jSUNj6oi3c9T"
      },
      "execution_count": 62,
      "outputs": []
    },
    {
      "cell_type": "markdown",
      "source": [
        "target=\"contest-tmp2m-14d__tmp2m\""
      ],
      "metadata": {
        "id": "dmjThVMg3c9T"
      }
    },
    {
      "cell_type": "code",
      "source": [
        "X, y, X_test = feature_engineering(cc_train.copy(), cc_test.copy())"
      ],
      "metadata": {
        "execution": {
          "iopub.status.busy": "2023-02-25T13:51:21.975495Z",
          "iopub.execute_input": "2023-02-25T13:51:21.976034Z",
          "iopub.status.idle": "2023-02-25T13:52:56.417922Z",
          "shell.execute_reply.started": "2023-02-25T13:51:21.975998Z",
          "shell.execute_reply": "2023-02-25T13:52:56.416841Z"
        },
        "trusted": true,
        "id": "iU2q8T--3c9T",
        "colab": {
          "base_uri": "https://localhost:8080/"
        },
        "outputId": "ea831e9c-0971-42fe-f937-c240e8bff018"
      },
      "execution_count": 63,
      "outputs": [
        {
          "output_type": "stream",
          "name": "stdout",
          "text": [
            "1026 unique locations\n"
          ]
        },
        {
          "output_type": "stream",
          "name": "stderr",
          "text": [
            "/usr/local/lib/python3.8/dist-packages/sklearn/preprocessing/_label.py:115: DataConversionWarning: A column-vector y was passed when a 1d array was expected. Please change the shape of y to (n_samples, ), for example using ravel().\n",
            "  y = column_or_1d(y, warn=True)\n",
            "/usr/local/lib/python3.8/dist-packages/sklearn/preprocessing/_label.py:133: DataConversionWarning: A column-vector y was passed when a 1d array was expected. Please change the shape of y to (n_samples, ), for example using ravel().\n",
            "  y = column_or_1d(y, warn=True)\n"
          ]
        }
      ]
    },
    {
      "cell_type": "code",
      "source": [
        "histogram_plot(data=cc_train['contest-pevpr-sfc-gauss-14d__pevpr'], label=\"contest-pevpr-sfc-gauss-14d__pevpr\", title=\"contest-pevpr-sfc-gauss-14d__pevpr Variable distribution after transform\")"
      ],
      "metadata": {
        "execution": {
          "iopub.status.busy": "2023-02-25T13:52:56.419360Z",
          "iopub.execute_input": "2023-02-25T13:52:56.420517Z",
          "iopub.status.idle": "2023-02-25T13:52:57.281201Z",
          "shell.execute_reply.started": "2023-02-25T13:52:56.420471Z",
          "shell.execute_reply": "2023-02-25T13:52:57.279788Z"
        },
        "trusted": true,
        "colab": {
          "base_uri": "https://localhost:8080/",
          "height": 296
        },
        "id": "HgPTFZUs3c9U",
        "outputId": "881b6143-f01d-41f9-f27d-b1f9ecffab7a"
      },
      "execution_count": 28,
      "outputs": [
        {
          "output_type": "display_data",
          "data": {
            "text/plain": [
              "<Figure size 432x288 with 1 Axes>"
            ],
            "image/png": "[encoded data removed]"
          },
          "metadata": {
            "needs_background": "light"
          }
        }
      ]
    },
    {
      "cell_type": "code",
      "source": [
        "histogram_plot(data=X['contest-pevpr-sfc-gauss-14d__pevpr'], label=\"contest-pevpr-sfc-gauss-14d__pevpr\", title=\"contest-pevpr-sfc-gauss-14d__pevpr Variable distribution\")"
      ],
      "metadata": {
        "execution": {
          "iopub.status.busy": "2023-02-25T13:52:57.282869Z",
          "iopub.execute_input": "2023-02-25T13:52:57.283269Z",
          "iopub.status.idle": "2023-02-25T13:52:58.132451Z",
          "shell.execute_reply.started": "2023-02-25T13:52:57.283230Z",
          "shell.execute_reply": "2023-02-25T13:52:58.131300Z"
        },
        "trusted": true,
        "colab": {
          "base_uri": "https://localhost:8080/",
          "height": 296
        },
        "id": "cW8K41og3c9U",
        "outputId": "6b053b8b-bdbf-4311-b15c-ed85622f552d"
      },
      "execution_count": 29,
      "outputs": [
        {
          "output_type": "display_data",
          "data": {
            "text/plain": [
              "<Figure size 432x288 with 1 Axes>"
            ],
            "image/png": "[encoded data removed]"
          },
          "metadata": {
            "needs_background": "light"
          }
        }
      ]
    },
    {
      "cell_type": "markdown",
      "source": [
        "## Checking correlation"
      ],
      "metadata": {
        "id": "TcOVdGJA3c9U"
      }
    },
    {
      "cell_type": "code",
      "source": [
        "# plotting correlation heatmap\n",
        "#dataplot = sb.heatmap(cc_train.corr(), cmap=\"YlGnBu\", annot=True)\n",
        "  \n",
        "# displaying heatmap\n",
        "#plt.show()"
      ],
      "metadata": {
        "execution": {
          "iopub.status.busy": "2023-02-25T13:52:58.134170Z",
          "iopub.execute_input": "2023-02-25T13:52:58.134536Z",
          "iopub.status.idle": "2023-02-25T13:52:58.139477Z",
          "shell.execute_reply.started": "2023-02-25T13:52:58.134501Z",
          "shell.execute_reply": "2023-02-25T13:52:58.138048Z"
        },
        "trusted": true,
        "id": "QhHg0cpm3c9U"
      },
      "execution_count": null,
      "outputs": []
    },
    {
      "cell_type": "code",
      "source": [
        "train_correlation = cc_train.corr()"
      ],
      "metadata": {
        "execution": {
          "iopub.status.busy": "2023-02-25T13:52:58.141101Z",
          "iopub.execute_input": "2023-02-25T13:52:58.141746Z",
          "iopub.status.idle": "2023-02-25T13:53:57.957040Z",
          "shell.execute_reply.started": "2023-02-25T13:52:58.141703Z",
          "shell.execute_reply": "2023-02-25T13:53:57.955802Z"
        },
        "trusted": true,
        "id": "9gZzLJUV3c9W"
      },
      "execution_count": 26,
      "outputs": []
    },
    {
      "cell_type": "code",
      "source": [
        "train_correlation_thr_below005 = train_correlation[np.abs(train_correlation) < 0.05]"
      ],
      "metadata": {
        "id": "P48maUNj56i4"
      },
      "execution_count": 27,
      "outputs": []
    },
    {
      "cell_type": "code",
      "source": [
        "low_correl = []\n",
        "for i in range(244):\n",
        "    for j in range(244):\n",
        "        if not np.isnan(train_correlation_thr_below005.iloc[i, j]) and train_correlation_thr_below005.iloc[i, j] != 1:\n",
        "            if train_correlation_thr_below005.columns[i] == \"contest-tmp2m-14d__tmp2m\" or train_correlation_thr_below005.index[j] == \"contest-tmp2m-14d__tmp2m\":\n",
        "                print(train_correlation_thr_below005.columns[i],train_correlation_thr_below005.index[j], train_correlation_thr_below005.iloc[i, j])\n",
        "                low_correl.append(train_correlation_thr_below005.columns[i])\n",
        "                low_correl.append(train_correlation_thr_below005.index[j])\n",
        "low_correl_unique = np.unique(low_correl)"
      ],
      "metadata": {
        "colab": {
          "base_uri": "https://localhost:8080/"
        },
        "id": "Vd1QJ5Qu6ERP",
        "outputId": "92a2ce03-3500-4560-91ff-9fd0fd90f99e"
      },
      "execution_count": 28,
      "outputs": [
        {
          "output_type": "stream",
          "name": "stdout",
          "text": [
            "nmme-prate-34w__cfsv2 contest-tmp2m-14d__tmp2m 0.01449332607173707\n",
            "nmme-prate-34w__nasa contest-tmp2m-14d__tmp2m 0.002205549017090327\n",
            "nmme0-prate-56w__nmme0mean contest-tmp2m-14d__tmp2m 0.00319290989978141\n",
            "nmme0-prate-34w__cancm30 contest-tmp2m-14d__tmp2m 0.04122269189361413\n",
            "nmme0-prate-34w__cancm40 contest-tmp2m-14d__tmp2m -0.003955405502962272\n",
            "nmme0-prate-34w__gfdl0 contest-tmp2m-14d__tmp2m 0.010788422403246593\n",
            "nmme0-prate-34w__nmme0mean contest-tmp2m-14d__tmp2m -0.04919133323287327\n",
            "contest-tmp2m-14d__tmp2m nmme-prate-34w__cfsv2 0.01449332607173707\n",
            "contest-tmp2m-14d__tmp2m nmme-prate-34w__nasa 0.002205549017090327\n",
            "contest-tmp2m-14d__tmp2m nmme0-prate-56w__nmme0mean 0.00319290989978141\n",
            "contest-tmp2m-14d__tmp2m nmme0-prate-34w__cancm30 0.04122269189361413\n",
            "contest-tmp2m-14d__tmp2m nmme0-prate-34w__cancm40 -0.003955405502962272\n",
            "contest-tmp2m-14d__tmp2m nmme0-prate-34w__gfdl0 0.010788422403246593\n",
            "contest-tmp2m-14d__tmp2m nmme0-prate-34w__nmme0mean -0.04919133323287327\n",
            "contest-tmp2m-14d__tmp2m nmme-prate-56w__cfsv2 0.015907024347488922\n",
            "contest-tmp2m-14d__tmp2m nmme-prate-56w__nasa -0.004841835548551913\n",
            "contest-tmp2m-14d__tmp2m wind-vwnd-250-2010-6 -0.03447607873328912\n",
            "contest-tmp2m-14d__tmp2m wind-vwnd-250-2010-8 0.02237547764564239\n",
            "contest-tmp2m-14d__tmp2m wind-vwnd-250-2010-15 0.0022867666475546457\n",
            "contest-tmp2m-14d__tmp2m wind-vwnd-250-2010-20 -0.033871162966317855\n",
            "contest-tmp2m-14d__tmp2m wind-uwnd-250-2010-6 0.006461505843292815\n",
            "contest-tmp2m-14d__tmp2m wind-uwnd-250-2010-7 -0.03472587269315331\n",
            "contest-tmp2m-14d__tmp2m wind-uwnd-250-2010-10 -0.02460129934310323\n",
            "contest-tmp2m-14d__tmp2m wind-uwnd-250-2010-13 0.04395227304208291\n",
            "contest-tmp2m-14d__tmp2m wind-uwnd-250-2010-14 -0.0018841699746833653\n",
            "contest-tmp2m-14d__tmp2m wind-hgt-850-2010-4 0.00932242416658798\n",
            "contest-tmp2m-14d__tmp2m wind-hgt-850-2010-8 0.0007711797020519424\n",
            "contest-tmp2m-14d__tmp2m wind-hgt-850-2010-10 -0.02642566208291694\n",
            "contest-tmp2m-14d__tmp2m wind-uwnd-925-2010-3 0.018768062506581636\n",
            "contest-tmp2m-14d__tmp2m wind-uwnd-925-2010-17 0.03764146724683891\n",
            "contest-tmp2m-14d__tmp2m wind-uwnd-925-2010-19 -0.005322219083212903\n",
            "contest-tmp2m-14d__tmp2m wind-hgt-10-2010-6 -0.040605874092736145\n",
            "contest-tmp2m-14d__tmp2m wind-hgt-10-2010-8 0.01132643678800628\n",
            "contest-tmp2m-14d__tmp2m wind-hgt-100-2010-3 0.0252653573044842\n",
            "contest-tmp2m-14d__tmp2m wind-hgt-100-2010-4 -0.013187953623959511\n",
            "contest-tmp2m-14d__tmp2m wind-hgt-100-2010-5 0.002488509064167103\n",
            "contest-tmp2m-14d__tmp2m wind-hgt-100-2010-8 0.004020450816756566\n",
            "contest-tmp2m-14d__tmp2m wind-vwnd-925-2010-6 -0.036455218927951574\n",
            "contest-tmp2m-14d__tmp2m wind-vwnd-925-2010-8 0.043942620470787945\n",
            "contest-tmp2m-14d__tmp2m wind-vwnd-925-2010-11 -0.014704428622331522\n",
            "contest-tmp2m-14d__tmp2m wind-vwnd-925-2010-14 0.011794019199124615\n",
            "contest-tmp2m-14d__tmp2m wind-vwnd-925-2010-17 0.02235775572232605\n",
            "nmme-prate-56w__cfsv2 contest-tmp2m-14d__tmp2m 0.015907024347488922\n",
            "nmme-prate-56w__nasa contest-tmp2m-14d__tmp2m -0.004841835548551913\n",
            "wind-vwnd-250-2010-6 contest-tmp2m-14d__tmp2m -0.03447607873328912\n",
            "wind-vwnd-250-2010-8 contest-tmp2m-14d__tmp2m 0.02237547764564239\n",
            "wind-vwnd-250-2010-15 contest-tmp2m-14d__tmp2m 0.0022867666475546457\n",
            "wind-vwnd-250-2010-20 contest-tmp2m-14d__tmp2m -0.033871162966317855\n",
            "wind-uwnd-250-2010-6 contest-tmp2m-14d__tmp2m 0.006461505843292815\n",
            "wind-uwnd-250-2010-7 contest-tmp2m-14d__tmp2m -0.03472587269315331\n",
            "wind-uwnd-250-2010-10 contest-tmp2m-14d__tmp2m -0.02460129934310323\n",
            "wind-uwnd-250-2010-13 contest-tmp2m-14d__tmp2m 0.04395227304208291\n",
            "wind-uwnd-250-2010-14 contest-tmp2m-14d__tmp2m -0.0018841699746833653\n",
            "wind-hgt-850-2010-4 contest-tmp2m-14d__tmp2m 0.00932242416658798\n",
            "wind-hgt-850-2010-8 contest-tmp2m-14d__tmp2m 0.0007711797020519424\n",
            "wind-hgt-850-2010-10 contest-tmp2m-14d__tmp2m -0.02642566208291694\n",
            "wind-uwnd-925-2010-3 contest-tmp2m-14d__tmp2m 0.018768062506581636\n",
            "wind-uwnd-925-2010-17 contest-tmp2m-14d__tmp2m 0.03764146724683891\n",
            "wind-uwnd-925-2010-19 contest-tmp2m-14d__tmp2m -0.005322219083212903\n",
            "wind-hgt-10-2010-6 contest-tmp2m-14d__tmp2m -0.040605874092736145\n",
            "wind-hgt-10-2010-8 contest-tmp2m-14d__tmp2m 0.01132643678800628\n",
            "wind-hgt-100-2010-3 contest-tmp2m-14d__tmp2m 0.0252653573044842\n",
            "wind-hgt-100-2010-4 contest-tmp2m-14d__tmp2m -0.013187953623959511\n",
            "wind-hgt-100-2010-5 contest-tmp2m-14d__tmp2m 0.002488509064167103\n",
            "wind-hgt-100-2010-8 contest-tmp2m-14d__tmp2m 0.004020450816756566\n",
            "wind-vwnd-925-2010-6 contest-tmp2m-14d__tmp2m -0.036455218927951574\n",
            "wind-vwnd-925-2010-8 contest-tmp2m-14d__tmp2m 0.043942620470787945\n",
            "wind-vwnd-925-2010-11 contest-tmp2m-14d__tmp2m -0.014704428622331522\n",
            "wind-vwnd-925-2010-14 contest-tmp2m-14d__tmp2m 0.011794019199124615\n",
            "wind-vwnd-925-2010-17 contest-tmp2m-14d__tmp2m 0.02235775572232605\n"
          ]
        }
      ]
    },
    {
      "cell_type": "code",
      "source": [
        "low_correl_unique = list(low_correl_unique)\n",
        "low_correl_unique.remove(\"contest-tmp2m-14d__tmp2m\")\n",
        "print(len(low_correl_unique))\n",
        "low_correl_unique"
      ],
      "metadata": {
        "colab": {
          "base_uri": "https://localhost:8080/"
        },
        "id": "zkh2UHGE19Yv",
        "outputId": "65f6c9e6-f844-484c-b915-851aca18c85d"
      },
      "execution_count": 36,
      "outputs": [
        {
          "output_type": "stream",
          "name": "stdout",
          "text": [
            "35\n"
          ]
        },
        {
          "output_type": "execute_result",
          "data": {
            "text/plain": [
              "['nmme-prate-34w__cfsv2',\n",
              " 'nmme-prate-34w__nasa',\n",
              " 'nmme-prate-56w__cfsv2',\n",
              " 'nmme-prate-56w__nasa',\n",
              " 'nmme0-prate-34w__cancm30',\n",
              " 'nmme0-prate-34w__cancm40',\n",
              " 'nmme0-prate-34w__gfdl0',\n",
              " 'nmme0-prate-34w__nmme0mean',\n",
              " 'nmme0-prate-56w__nmme0mean',\n",
              " 'wind-hgt-10-2010-6',\n",
              " 'wind-hgt-10-2010-8',\n",
              " 'wind-hgt-100-2010-3',\n",
              " 'wind-hgt-100-2010-4',\n",
              " 'wind-hgt-100-2010-5',\n",
              " 'wind-hgt-100-2010-8',\n",
              " 'wind-hgt-850-2010-10',\n",
              " 'wind-hgt-850-2010-4',\n",
              " 'wind-hgt-850-2010-8',\n",
              " 'wind-uwnd-250-2010-10',\n",
              " 'wind-uwnd-250-2010-13',\n",
              " 'wind-uwnd-250-2010-14',\n",
              " 'wind-uwnd-250-2010-6',\n",
              " 'wind-uwnd-250-2010-7',\n",
              " 'wind-uwnd-925-2010-17',\n",
              " 'wind-uwnd-925-2010-19',\n",
              " 'wind-uwnd-925-2010-3',\n",
              " 'wind-vwnd-250-2010-15',\n",
              " 'wind-vwnd-250-2010-20',\n",
              " 'wind-vwnd-250-2010-6',\n",
              " 'wind-vwnd-250-2010-8',\n",
              " 'wind-vwnd-925-2010-11',\n",
              " 'wind-vwnd-925-2010-14',\n",
              " 'wind-vwnd-925-2010-17',\n",
              " 'wind-vwnd-925-2010-6',\n",
              " 'wind-vwnd-925-2010-8']"
            ]
          },
          "metadata": {},
          "execution_count": 36
        }
      ]
    },
    {
      "cell_type": "code",
      "source": [
        "train_correlation_thr_099 = train_correlation[np.abs(train_correlation) > 0.99]\n",
        "#train_correlation_thr_099"
      ],
      "metadata": {
        "execution": {
          "iopub.status.busy": "2023-02-25T13:53:57.958709Z",
          "iopub.execute_input": "2023-02-25T13:53:57.959372Z",
          "iopub.status.idle": "2023-02-25T13:53:58.002327Z",
          "shell.execute_reply.started": "2023-02-25T13:53:57.959325Z",
          "shell.execute_reply": "2023-02-25T13:53:58.000875Z"
        },
        "trusted": true,
        "colab": {
          "base_uri": "https://localhost:8080/",
          "height": 713
        },
        "id": "rX_ZuCdn3c9W",
        "outputId": "cad2767e-99c8-41a1-920b-3b040fe3a363"
      },
      "execution_count": 37,
      "outputs": [
        {
          "output_type": "execute_result",
          "data": {
            "text/plain": [
              "                                       index       lat  lon  \\\n",
              "index                               1.000000  0.995633  NaN   \n",
              "lat                                 0.995633  1.000000  NaN   \n",
              "lon                                      NaN       NaN  1.0   \n",
              "contest-pevpr-sfc-gauss-14d__pevpr       NaN       NaN  NaN   \n",
              "nmme0-tmp2m-34w__cancm30                 NaN       NaN  NaN   \n",
              "...                                      ...       ...  ...   \n",
              "wind-vwnd-925-2010-16                    NaN       NaN  NaN   \n",
              "wind-vwnd-925-2010-17                    NaN       NaN  NaN   \n",
              "wind-vwnd-925-2010-18                    NaN       NaN  NaN   \n",
              "wind-vwnd-925-2010-19                    NaN       NaN  NaN   \n",
              "wind-vwnd-925-2010-20                    NaN       NaN  NaN   \n",
              "\n",
              "                                    contest-pevpr-sfc-gauss-14d__pevpr  \\\n",
              "index                                                              NaN   \n",
              "lat                                                                NaN   \n",
              "lon                                                                NaN   \n",
              "contest-pevpr-sfc-gauss-14d__pevpr                                 1.0   \n",
              "nmme0-tmp2m-34w__cancm30                                           NaN   \n",
              "...                                                                ...   \n",
              "wind-vwnd-925-2010-16                                              NaN   \n",
              "wind-vwnd-925-2010-17                                              NaN   \n",
              "wind-vwnd-925-2010-18                                              NaN   \n",
              "wind-vwnd-925-2010-19                                              NaN   \n",
              "wind-vwnd-925-2010-20                                              NaN   \n",
              "\n",
              "                                    nmme0-tmp2m-34w__cancm30  \\\n",
              "index                                                    NaN   \n",
              "lat                                                      NaN   \n",
              "lon                                                      NaN   \n",
              "contest-pevpr-sfc-gauss-14d__pevpr                       NaN   \n",
              "nmme0-tmp2m-34w__cancm30                                 1.0   \n",
              "...                                                      ...   \n",
              "wind-vwnd-925-2010-16                                    NaN   \n",
              "wind-vwnd-925-2010-17                                    NaN   \n",
              "wind-vwnd-925-2010-18                                    NaN   \n",
              "wind-vwnd-925-2010-19                                    NaN   \n",
              "wind-vwnd-925-2010-20                                    NaN   \n",
              "\n",
              "                                    nmme0-tmp2m-34w__cancm40  \\\n",
              "index                                                    NaN   \n",
              "lat                                                      NaN   \n",
              "lon                                                      NaN   \n",
              "contest-pevpr-sfc-gauss-14d__pevpr                       NaN   \n",
              "nmme0-tmp2m-34w__cancm30                                 NaN   \n",
              "...                                                      ...   \n",
              "wind-vwnd-925-2010-16                                    NaN   \n",
              "wind-vwnd-925-2010-17                                    NaN   \n",
              "wind-vwnd-925-2010-18                                    NaN   \n",
              "wind-vwnd-925-2010-19                                    NaN   \n",
              "wind-vwnd-925-2010-20                                    NaN   \n",
              "\n",
              "                                    nmme0-tmp2m-34w__ccsm30  \\\n",
              "index                                                   NaN   \n",
              "lat                                                     NaN   \n",
              "lon                                                     NaN   \n",
              "contest-pevpr-sfc-gauss-14d__pevpr                      NaN   \n",
              "nmme0-tmp2m-34w__cancm30                                NaN   \n",
              "...                                                     ...   \n",
              "wind-vwnd-925-2010-16                                   NaN   \n",
              "wind-vwnd-925-2010-17                                   NaN   \n",
              "wind-vwnd-925-2010-18                                   NaN   \n",
              "wind-vwnd-925-2010-19                                   NaN   \n",
              "wind-vwnd-925-2010-20                                   NaN   \n",
              "\n",
              "                                    nmme0-tmp2m-34w__ccsm40  \\\n",
              "index                                                   NaN   \n",
              "lat                                                     NaN   \n",
              "lon                                                     NaN   \n",
              "contest-pevpr-sfc-gauss-14d__pevpr                      NaN   \n",
              "nmme0-tmp2m-34w__cancm30                                NaN   \n",
              "...                                                     ...   \n",
              "wind-vwnd-925-2010-16                                   NaN   \n",
              "wind-vwnd-925-2010-17                                   NaN   \n",
              "wind-vwnd-925-2010-18                                   NaN   \n",
              "wind-vwnd-925-2010-19                                   NaN   \n",
              "wind-vwnd-925-2010-20                                   NaN   \n",
              "\n",
              "                                    nmme0-tmp2m-34w__cfsv20  \\\n",
              "index                                                   NaN   \n",
              "lat                                                     NaN   \n",
              "lon                                                     NaN   \n",
              "contest-pevpr-sfc-gauss-14d__pevpr                      NaN   \n",
              "nmme0-tmp2m-34w__cancm30                                NaN   \n",
              "...                                                     ...   \n",
              "wind-vwnd-925-2010-16                                   NaN   \n",
              "wind-vwnd-925-2010-17                                   NaN   \n",
              "wind-vwnd-925-2010-18                                   NaN   \n",
              "wind-vwnd-925-2010-19                                   NaN   \n",
              "wind-vwnd-925-2010-20                                   NaN   \n",
              "\n",
              "                                    nmme0-tmp2m-34w__gfdlflora0  ...  \\\n",
              "index                                                       NaN  ...   \n",
              "lat                                                         NaN  ...   \n",
              "lon                                                         NaN  ...   \n",
              "contest-pevpr-sfc-gauss-14d__pevpr                          NaN  ...   \n",
              "nmme0-tmp2m-34w__cancm30                                    NaN  ...   \n",
              "...                                                         ...  ...   \n",
              "wind-vwnd-925-2010-16                                       NaN  ...   \n",
              "wind-vwnd-925-2010-17                                       NaN  ...   \n",
              "wind-vwnd-925-2010-18                                       NaN  ...   \n",
              "wind-vwnd-925-2010-19                                       NaN  ...   \n",
              "wind-vwnd-925-2010-20                                       NaN  ...   \n",
              "\n",
              "                                    wind-vwnd-925-2010-11  \\\n",
              "index                                                 NaN   \n",
              "lat                                                   NaN   \n",
              "lon                                                   NaN   \n",
              "contest-pevpr-sfc-gauss-14d__pevpr                    NaN   \n",
              "nmme0-tmp2m-34w__cancm30                              NaN   \n",
              "...                                                   ...   \n",
              "wind-vwnd-925-2010-16                                 NaN   \n",
              "wind-vwnd-925-2010-17                                 NaN   \n",
              "wind-vwnd-925-2010-18                                 NaN   \n",
              "wind-vwnd-925-2010-19                                 NaN   \n",
              "wind-vwnd-925-2010-20                                 NaN   \n",
              "\n",
              "                                    wind-vwnd-925-2010-12  \\\n",
              "index                                                 NaN   \n",
              "lat                                                   NaN   \n",
              "lon                                                   NaN   \n",
              "contest-pevpr-sfc-gauss-14d__pevpr                    NaN   \n",
              "nmme0-tmp2m-34w__cancm30                              NaN   \n",
              "...                                                   ...   \n",
              "wind-vwnd-925-2010-16                                 NaN   \n",
              "wind-vwnd-925-2010-17                                 NaN   \n",
              "wind-vwnd-925-2010-18                                 NaN   \n",
              "wind-vwnd-925-2010-19                                 NaN   \n",
              "wind-vwnd-925-2010-20                                 NaN   \n",
              "\n",
              "                                    wind-vwnd-925-2010-13  \\\n",
              "index                                                 NaN   \n",
              "lat                                                   NaN   \n",
              "lon                                                   NaN   \n",
              "contest-pevpr-sfc-gauss-14d__pevpr                    NaN   \n",
              "nmme0-tmp2m-34w__cancm30                              NaN   \n",
              "...                                                   ...   \n",
              "wind-vwnd-925-2010-16                                 NaN   \n",
              "wind-vwnd-925-2010-17                                 NaN   \n",
              "wind-vwnd-925-2010-18                                 NaN   \n",
              "wind-vwnd-925-2010-19                                 NaN   \n",
              "wind-vwnd-925-2010-20                                 NaN   \n",
              "\n",
              "                                    wind-vwnd-925-2010-14  \\\n",
              "index                                                 NaN   \n",
              "lat                                                   NaN   \n",
              "lon                                                   NaN   \n",
              "contest-pevpr-sfc-gauss-14d__pevpr                    NaN   \n",
              "nmme0-tmp2m-34w__cancm30                              NaN   \n",
              "...                                                   ...   \n",
              "wind-vwnd-925-2010-16                                 NaN   \n",
              "wind-vwnd-925-2010-17                                 NaN   \n",
              "wind-vwnd-925-2010-18                                 NaN   \n",
              "wind-vwnd-925-2010-19                                 NaN   \n",
              "wind-vwnd-925-2010-20                                 NaN   \n",
              "\n",
              "                                    wind-vwnd-925-2010-15  \\\n",
              "index                                                 NaN   \n",
              "lat                                                   NaN   \n",
              "lon                                                   NaN   \n",
              "contest-pevpr-sfc-gauss-14d__pevpr                    NaN   \n",
              "nmme0-tmp2m-34w__cancm30                              NaN   \n",
              "...                                                   ...   \n",
              "wind-vwnd-925-2010-16                                 NaN   \n",
              "wind-vwnd-925-2010-17                                 NaN   \n",
              "wind-vwnd-925-2010-18                                 NaN   \n",
              "wind-vwnd-925-2010-19                                 NaN   \n",
              "wind-vwnd-925-2010-20                                 NaN   \n",
              "\n",
              "                                    wind-vwnd-925-2010-16  \\\n",
              "index                                                 NaN   \n",
              "lat                                                   NaN   \n",
              "lon                                                   NaN   \n",
              "contest-pevpr-sfc-gauss-14d__pevpr                    NaN   \n",
              "nmme0-tmp2m-34w__cancm30                              NaN   \n",
              "...                                                   ...   \n",
              "wind-vwnd-925-2010-16                                 1.0   \n",
              "wind-vwnd-925-2010-17                                 NaN   \n",
              "wind-vwnd-925-2010-18                                 NaN   \n",
              "wind-vwnd-925-2010-19                                 NaN   \n",
              "wind-vwnd-925-2010-20                                 NaN   \n",
              "\n",
              "                                    wind-vwnd-925-2010-17  \\\n",
              "index                                                 NaN   \n",
              "lat                                                   NaN   \n",
              "lon                                                   NaN   \n",
              "contest-pevpr-sfc-gauss-14d__pevpr                    NaN   \n",
              "nmme0-tmp2m-34w__cancm30                              NaN   \n",
              "...                                                   ...   \n",
              "wind-vwnd-925-2010-16                                 NaN   \n",
              "wind-vwnd-925-2010-17                                 1.0   \n",
              "wind-vwnd-925-2010-18                                 NaN   \n",
              "wind-vwnd-925-2010-19                                 NaN   \n",
              "wind-vwnd-925-2010-20                                 NaN   \n",
              "\n",
              "                                    wind-vwnd-925-2010-18  \\\n",
              "index                                                 NaN   \n",
              "lat                                                   NaN   \n",
              "lon                                                   NaN   \n",
              "contest-pevpr-sfc-gauss-14d__pevpr                    NaN   \n",
              "nmme0-tmp2m-34w__cancm30                              NaN   \n",
              "...                                                   ...   \n",
              "wind-vwnd-925-2010-16                                 NaN   \n",
              "wind-vwnd-925-2010-17                                 NaN   \n",
              "wind-vwnd-925-2010-18                                 1.0   \n",
              "wind-vwnd-925-2010-19                                 NaN   \n",
              "wind-vwnd-925-2010-20                                 NaN   \n",
              "\n",
              "                                    wind-vwnd-925-2010-19  \\\n",
              "index                                                 NaN   \n",
              "lat                                                   NaN   \n",
              "lon                                                   NaN   \n",
              "contest-pevpr-sfc-gauss-14d__pevpr                    NaN   \n",
              "nmme0-tmp2m-34w__cancm30                              NaN   \n",
              "...                                                   ...   \n",
              "wind-vwnd-925-2010-16                                 NaN   \n",
              "wind-vwnd-925-2010-17                                 NaN   \n",
              "wind-vwnd-925-2010-18                                 NaN   \n",
              "wind-vwnd-925-2010-19                                 1.0   \n",
              "wind-vwnd-925-2010-20                                 NaN   \n",
              "\n",
              "                                    wind-vwnd-925-2010-20  \n",
              "index                                                 NaN  \n",
              "lat                                                   NaN  \n",
              "lon                                                   NaN  \n",
              "contest-pevpr-sfc-gauss-14d__pevpr                    NaN  \n",
              "nmme0-tmp2m-34w__cancm30                              NaN  \n",
              "...                                                   ...  \n",
              "wind-vwnd-925-2010-16                                 NaN  \n",
              "wind-vwnd-925-2010-17                                 NaN  \n",
              "wind-vwnd-925-2010-18                                 NaN  \n",
              "wind-vwnd-925-2010-19                                 NaN  \n",
              "wind-vwnd-925-2010-20                                 1.0  \n",
              "\n",
              "[244 rows x 244 columns]"
            ],
            "text/html": [
              "\n",
              "  <div id=\"df-a0817463-f09d-4146-b815-b6637603d5fa\">\n",
              "    <div class=\"colab-df-container\">\n",
              "      <div>\n",
              "<style scoped>\n",
              "    .dataframe tbody tr th:only-of-type {\n",
              "        vertical-align: middle;\n",
              "    }\n",
              "\n",
              "    .dataframe tbody tr th {\n",
              "        vertical-align: top;\n",
              "    }\n",
              "\n",
              "    .dataframe thead th {\n",
              "        text-align: right;\n",
              "    }\n",
              "</style>\n",
              "<table border=\"1\" class=\"dataframe\">\n",
              "  <thead>\n",
              "    <tr style=\"text-align: right;\">\n",
              "      <th></th>\n",
              "      <th>index</th>\n",
              "      <th>lat</th>\n",
              "      <th>lon</th>\n",
              "      <th>contest-pevpr-sfc-gauss-14d__pevpr</th>\n",
              "      <th>nmme0-tmp2m-34w__cancm30</th>\n",
              "      <th>nmme0-tmp2m-34w__cancm40</th>\n",
              "      <th>nmme0-tmp2m-34w__ccsm30</th>\n",
              "      <th>nmme0-tmp2m-34w__ccsm40</th>\n",
              "      <th>nmme0-tmp2m-34w__cfsv20</th>\n",
              "      <th>nmme0-tmp2m-34w__gfdlflora0</th>\n",
              "      <th>...</th>\n",
              "      <th>wind-vwnd-925-2010-11</th>\n",
              "      <th>wind-vwnd-925-2010-12</th>\n",
              "      <th>wind-vwnd-925-2010-13</th>\n",
              "      <th>wind-vwnd-925-2010-14</th>\n",
              "      <th>wind-vwnd-925-2010-15</th>\n",
              "      <th>wind-vwnd-925-2010-16</th>\n",
              "      <th>wind-vwnd-925-2010-17</th>\n",
              "      <th>wind-vwnd-925-2010-18</th>\n",
              "      <th>wind-vwnd-925-2010-19</th>\n",
              "      <th>wind-vwnd-925-2010-20</th>\n",
              "    </tr>\n",
              "  </thead>\n",
              "  <tbody>\n",
              "    <tr>\n",
              "      <th>index</th>\n",
              "      <td>1.000000</td>\n",
              "      <td>0.995633</td>\n",
              "      <td>NaN</td>\n",
              "      <td>NaN</td>\n",
              "      <td>NaN</td>\n",
              "      <td>NaN</td>\n",
              "      <td>NaN</td>\n",
              "      <td>NaN</td>\n",
              "      <td>NaN</td>\n",
              "      <td>NaN</td>\n",
              "      <td>...</td>\n",
              "      <td>NaN</td>\n",
              "      <td>NaN</td>\n",
              "      <td>NaN</td>\n",
              "      <td>NaN</td>\n",
              "      <td>NaN</td>\n",
              "      <td>NaN</td>\n",
              "      <td>NaN</td>\n",
              "      <td>NaN</td>\n",
              "      <td>NaN</td>\n",
              "      <td>NaN</td>\n",
              "    </tr>\n",
              "    <tr>\n",
              "      <th>lat</th>\n",
              "      <td>0.995633</td>\n",
              "      <td>1.000000</td>\n",
              "      <td>NaN</td>\n",
              "      <td>NaN</td>\n",
              "      <td>NaN</td>\n",
              "      <td>NaN</td>\n",
              "      <td>NaN</td>\n",
              "      <td>NaN</td>\n",
              "      <td>NaN</td>\n",
              "      <td>NaN</td>\n",
              "      <td>...</td>\n",
              "      <td>NaN</td>\n",
              "      <td>NaN</td>\n",
              "      <td>NaN</td>\n",
              "      <td>NaN</td>\n",
              "      <td>NaN</td>\n",
              "      <td>NaN</td>\n",
              "      <td>NaN</td>\n",
              "      <td>NaN</td>\n",
              "      <td>NaN</td>\n",
              "      <td>NaN</td>\n",
              "    </tr>\n",
              "    <tr>\n",
              "      <th>lon</th>\n",
              "      <td>NaN</td>\n",
              "      <td>NaN</td>\n",
              "      <td>1.0</td>\n",
              "      <td>NaN</td>\n",
              "      <td>NaN</td>\n",
              "      <td>NaN</td>\n",
              "      <td>NaN</td>\n",
              "      <td>NaN</td>\n",
              "      <td>NaN</td>\n",
              "      <td>NaN</td>\n",
              "      <td>...</td>\n",
              "      <td>NaN</td>\n",
              "      <td>NaN</td>\n",
              "      <td>NaN</td>\n",
              "      <td>NaN</td>\n",
              "      <td>NaN</td>\n",
              "      <td>NaN</td>\n",
              "      <td>NaN</td>\n",
              "      <td>NaN</td>\n",
              "      <td>NaN</td>\n",
              "      <td>NaN</td>\n",
              "    </tr>\n",
              "    <tr>\n",
              "      <th>contest-pevpr-sfc-gauss-14d__pevpr</th>\n",
              "      <td>NaN</td>\n",
              "      <td>NaN</td>\n",
              "      <td>NaN</td>\n",
              "      <td>1.0</td>\n",
              "      <td>NaN</td>\n",
              "      <td>NaN</td>\n",
              "      <td>NaN</td>\n",
              "      <td>NaN</td>\n",
              "      <td>NaN</td>\n",
              "      <td>NaN</td>\n",
              "      <td>...</td>\n",
              "      <td>NaN</td>\n",
              "      <td>NaN</td>\n",
              "      <td>NaN</td>\n",
              "      <td>NaN</td>\n",
              "      <td>NaN</td>\n",
              "      <td>NaN</td>\n",
              "      <td>NaN</td>\n",
              "      <td>NaN</td>\n",
              "      <td>NaN</td>\n",
              "      <td>NaN</td>\n",
              "    </tr>\n",
              "    <tr>\n",
              "      <th>nmme0-tmp2m-34w__cancm30</th>\n",
              "      <td>NaN</td>\n",
              "      <td>NaN</td>\n",
              "      <td>NaN</td>\n",
              "      <td>NaN</td>\n",
              "      <td>1.0</td>\n",
              "      <td>NaN</td>\n",
              "      <td>NaN</td>\n",
              "      <td>NaN</td>\n",
              "      <td>NaN</td>\n",
              "      <td>NaN</td>\n",
              "      <td>...</td>\n",
              "      <td>NaN</td>\n",
              "      <td>NaN</td>\n",
              "      <td>NaN</td>\n",
              "      <td>NaN</td>\n",
              "      <td>NaN</td>\n",
              "      <td>NaN</td>\n",
              "      <td>NaN</td>\n",
              "      <td>NaN</td>\n",
              "      <td>NaN</td>\n",
              "      <td>NaN</td>\n",
              "    </tr>\n",
              "    <tr>\n",
              "      <th>...</th>\n",
              "      <td>...</td>\n",
              "      <td>...</td>\n",
              "      <td>...</td>\n",
              "      <td>...</td>\n",
              "      <td>...</td>\n",
              "      <td>...</td>\n",
              "      <td>...</td>\n",
              "      <td>...</td>\n",
              "      <td>...</td>\n",
              "      <td>...</td>\n",
              "      <td>...</td>\n",
              "      <td>...</td>\n",
              "      <td>...</td>\n",
              "      <td>...</td>\n",
              "      <td>...</td>\n",
              "      <td>...</td>\n",
              "      <td>...</td>\n",
              "      <td>...</td>\n",
              "      <td>...</td>\n",
              "      <td>...</td>\n",
              "      <td>...</td>\n",
              "    </tr>\n",
              "    <tr>\n",
              "      <th>wind-vwnd-925-2010-16</th>\n",
              "      <td>NaN</td>\n",
              "      <td>NaN</td>\n",
              "      <td>NaN</td>\n",
              "      <td>NaN</td>\n",
              "      <td>NaN</td>\n",
              "      <td>NaN</td>\n",
              "      <td>NaN</td>\n",
              "      <td>NaN</td>\n",
              "      <td>NaN</td>\n",
              "      <td>NaN</td>\n",
              "      <td>...</td>\n",
              "      <td>NaN</td>\n",
              "      <td>NaN</td>\n",
              "      <td>NaN</td>\n",
              "      <td>NaN</td>\n",
              "      <td>NaN</td>\n",
              "      <td>1.0</td>\n",
              "      <td>NaN</td>\n",
              "      <td>NaN</td>\n",
              "      <td>NaN</td>\n",
              "      <td>NaN</td>\n",
              "    </tr>\n",
              "    <tr>\n",
              "      <th>wind-vwnd-925-2010-17</th>\n",
              "      <td>NaN</td>\n",
              "      <td>NaN</td>\n",
              "      <td>NaN</td>\n",
              "      <td>NaN</td>\n",
              "      <td>NaN</td>\n",
              "      <td>NaN</td>\n",
              "      <td>NaN</td>\n",
              "      <td>NaN</td>\n",
              "      <td>NaN</td>\n",
              "      <td>NaN</td>\n",
              "      <td>...</td>\n",
              "      <td>NaN</td>\n",
              "      <td>NaN</td>\n",
              "      <td>NaN</td>\n",
              "      <td>NaN</td>\n",
              "      <td>NaN</td>\n",
              "      <td>NaN</td>\n",
              "      <td>1.0</td>\n",
              "      <td>NaN</td>\n",
              "      <td>NaN</td>\n",
              "      <td>NaN</td>\n",
              "    </tr>\n",
              "    <tr>\n",
              "      <th>wind-vwnd-925-2010-18</th>\n",
              "      <td>NaN</td>\n",
              "      <td>NaN</td>\n",
              "      <td>NaN</td>\n",
              "      <td>NaN</td>\n",
              "      <td>NaN</td>\n",
              "      <td>NaN</td>\n",
              "      <td>NaN</td>\n",
              "      <td>NaN</td>\n",
              "      <td>NaN</td>\n",
              "      <td>NaN</td>\n",
              "      <td>...</td>\n",
              "      <td>NaN</td>\n",
              "      <td>NaN</td>\n",
              "      <td>NaN</td>\n",
              "      <td>NaN</td>\n",
              "      <td>NaN</td>\n",
              "      <td>NaN</td>\n",
              "      <td>NaN</td>\n",
              "      <td>1.0</td>\n",
              "      <td>NaN</td>\n",
              "      <td>NaN</td>\n",
              "    </tr>\n",
              "    <tr>\n",
              "      <th>wind-vwnd-925-2010-19</th>\n",
              "      <td>NaN</td>\n",
              "      <td>NaN</td>\n",
              "      <td>NaN</td>\n",
              "      <td>NaN</td>\n",
              "      <td>NaN</td>\n",
              "      <td>NaN</td>\n",
              "      <td>NaN</td>\n",
              "      <td>NaN</td>\n",
              "      <td>NaN</td>\n",
              "      <td>NaN</td>\n",
              "      <td>...</td>\n",
              "      <td>NaN</td>\n",
              "      <td>NaN</td>\n",
              "      <td>NaN</td>\n",
              "      <td>NaN</td>\n",
              "      <td>NaN</td>\n",
              "      <td>NaN</td>\n",
              "      <td>NaN</td>\n",
              "      <td>NaN</td>\n",
              "      <td>1.0</td>\n",
              "      <td>NaN</td>\n",
              "    </tr>\n",
              "    <tr>\n",
              "      <th>wind-vwnd-925-2010-20</th>\n",
              "      <td>NaN</td>\n",
              "      <td>NaN</td>\n",
              "      <td>NaN</td>\n",
              "      <td>NaN</td>\n",
              "      <td>NaN</td>\n",
              "      <td>NaN</td>\n",
              "      <td>NaN</td>\n",
              "      <td>NaN</td>\n",
              "      <td>NaN</td>\n",
              "      <td>NaN</td>\n",
              "      <td>...</td>\n",
              "      <td>NaN</td>\n",
              "      <td>NaN</td>\n",
              "      <td>NaN</td>\n",
              "      <td>NaN</td>\n",
              "      <td>NaN</td>\n",
              "      <td>NaN</td>\n",
              "      <td>NaN</td>\n",
              "      <td>NaN</td>\n",
              "      <td>NaN</td>\n",
              "      <td>1.0</td>\n",
              "    </tr>\n",
              "  </tbody>\n",
              "</table>\n",
              "<p>244 rows × 244 columns</p>\n",
              "</div>\n",
              "      <button class=\"colab-df-convert\" onclick=\"convertToInteractive('df-a0817463-f09d-4146-b815-b6637603d5fa')\"\n",
              "              title=\"Convert this dataframe to an interactive table.\"\n",
              "              style=\"display:none;\">\n",
              "        \n",
              "  <svg xmlns=\"http://www.w3.org/2000/svg\" height=\"24px\"viewBox=\"0 0 24 24\"\n",
              "       width=\"24px\">\n",
              "    <path d=\"M0 0h24v24H0V0z\" fill=\"none\"/>\n",
              "    <path d=\"M18.56 5.44l.94 2.06.94-2.06 2.06-.94-2.06-.94-.94-2.06-.94 2.06-2.06.94zm-11 1L8.5 8.5l.94-2.06 2.06-.94-2.06-.94L8.5 2.5l-.94 2.06-2.06.94zm10 10l.94 2.06.94-2.06 2.06-.94-2.06-.94-.94-2.06-.94 2.06-2.06.94z\"/><path d=\"M17.41 7.96l-1.37-1.37c-.4-.4-.92-.59-1.43-.59-.52 0-1.04.2-1.43.59L10.3 9.45l-7.72 7.72c-.78.78-.78 2.05 0 2.83L4 21.41c.39.39.9.59 1.41.59.51 0 1.02-.2 1.41-.59l7.78-7.78 2.81-2.81c.8-.78.8-2.07 0-2.86zM5.41 20L4 18.59l7.72-7.72 1.47 1.35L5.41 20z\"/>\n",
              "  </svg>\n",
              "      </button>\n",
              "      \n",
              "  <style>\n",
              "    .colab-df-container {\n",
              "      display:flex;\n",
              "      flex-wrap:wrap;\n",
              "      gap: 12px;\n",
              "    }\n",
              "\n",
              "    .colab-df-convert {\n",
              "      background-color: #E8F0FE;\n",
              "      border: none;\n",
              "      border-radius: 50%;\n",
              "      cursor: pointer;\n",
              "      display: none;\n",
              "      fill: #1967D2;\n",
              "      height: 32px;\n",
              "      padding: 0 0 0 0;\n",
              "      width: 32px;\n",
              "    }\n",
              "\n",
              "    .colab-df-convert:hover {\n",
              "      background-color: #E2EBFA;\n",
              "      box-shadow: 0px 1px 2px rgba(60, 64, 67, 0.3), 0px 1px 3px 1px rgba(60, 64, 67, 0.15);\n",
              "      fill: #174EA6;\n",
              "    }\n",
              "\n",
              "    [theme=dark] .colab-df-convert {\n",
              "      background-color: #3B4455;\n",
              "      fill: #D2E3FC;\n",
              "    }\n",
              "\n",
              "    [theme=dark] .colab-df-convert:hover {\n",
              "      background-color: #434B5C;\n",
              "      box-shadow: 0px 1px 3px 1px rgba(0, 0, 0, 0.15);\n",
              "      filter: drop-shadow(0px 1px 2px rgba(0, 0, 0, 0.3));\n",
              "      fill: #FFFFFF;\n",
              "    }\n",
              "  </style>\n",
              "\n",
              "      <script>\n",
              "        const buttonEl =\n",
              "          document.querySelector('#df-a0817463-f09d-4146-b815-b6637603d5fa button.colab-df-convert');\n",
              "        buttonEl.style.display =\n",
              "          google.colab.kernel.accessAllowed ? 'block' : 'none';\n",
              "\n",
              "        async function convertToInteractive(key) {\n",
              "          const element = document.querySelector('#df-a0817463-f09d-4146-b815-b6637603d5fa');\n",
              "          const dataTable =\n",
              "            await google.colab.kernel.invokeFunction('convertToInteractive',\n",
              "                                                     [key], {});\n",
              "          if (!dataTable) return;\n",
              "\n",
              "          const docLinkHtml = 'Like what you see? Visit the ' +\n",
              "            '<a target=\"_blank\" href=https://colab.research.google.com/notebooks/data_table.ipynb>data table notebook</a>'\n",
              "            + ' to learn more about interactive tables.';\n",
              "          element.innerHTML = '';\n",
              "          dataTable['output_type'] = 'display_data';\n",
              "          await google.colab.output.renderOutput(dataTable, element);\n",
              "          const docLink = document.createElement('div');\n",
              "          docLink.innerHTML = docLinkHtml;\n",
              "          element.appendChild(docLink);\n",
              "        }\n",
              "      </script>\n",
              "    </div>\n",
              "  </div>\n",
              "  "
            ]
          },
          "metadata": {},
          "execution_count": 37
        }
      ]
    },
    {
      "cell_type": "code",
      "source": [
        "features_to_drop = []\n",
        "for i in range(244):\n",
        "    for j in range(244):\n",
        "        if not np.isnan(train_correlation_thr_099.iloc[i, j]) and train_correlation_thr_099.iloc[i, j] != 1:\n",
        "            if train_correlation_thr_099.columns[i] != \"contest-tmp2m-14d__tmp2m\" and train_correlation_thr_099.index[j] != \"contest-tmp2m-14d__tmp2m\":\n",
        "                # print(train_correlation_thr_099.columns[i],train_correlation_thr_099.index[j], train_correlation_thr_099.iloc[i, j])\n",
        "                features_to_drop.append(train_correlation_thr_099.columns[i])\n",
        "                features_to_drop.append(train_correlation_thr_099.index[j])\n",
        "features_to_drop_unique = np.unique(features_to_drop)"
      ],
      "metadata": {
        "execution": {
          "iopub.status.busy": "2023-02-25T13:53:58.004366Z",
          "iopub.execute_input": "2023-02-25T13:53:58.005381Z",
          "iopub.status.idle": "2023-02-25T13:54:00.081047Z",
          "shell.execute_reply.started": "2023-02-25T13:53:58.005318Z",
          "shell.execute_reply": "2023-02-25T13:54:00.079751Z"
        },
        "trusted": true,
        "id": "TEO98eqG3c9W"
      },
      "execution_count": 38,
      "outputs": []
    },
    {
      "cell_type": "code",
      "source": [
        "features_to_drop_unique"
      ],
      "metadata": {
        "execution": {
          "iopub.status.busy": "2023-02-25T13:54:00.082973Z",
          "iopub.execute_input": "2023-02-25T13:54:00.084076Z",
          "iopub.status.idle": "2023-02-25T13:54:00.091554Z",
          "shell.execute_reply.started": "2023-02-25T13:54:00.084017Z",
          "shell.execute_reply": "2023-02-25T13:54:00.090645Z"
        },
        "trusted": true,
        "colab": {
          "base_uri": "https://localhost:8080/"
        },
        "id": "jpi37YkJ3c9W",
        "outputId": "83b02446-0bdf-4b8d-ac25-58a1202f5ad1"
      },
      "execution_count": 39,
      "outputs": [
        {
          "output_type": "execute_result",
          "data": {
            "text/plain": [
              "array(['cancm30', 'ccsm40', 'cfsv20', 'gfdlflora0', 'gfdlflorb0', 'index',\n",
              "       'lat', 'nmme-prate-34w__nmmemean', 'nmme-prate-56w__nmmemean',\n",
              "       'nmme-tmp2m-34w__cancm3', 'nmme-tmp2m-34w__cancm4',\n",
              "       'nmme-tmp2m-34w__ccsm4', 'nmme-tmp2m-34w__cfsv2',\n",
              "       'nmme-tmp2m-34w__gfdl', 'nmme-tmp2m-34w__gfdlflora',\n",
              "       'nmme-tmp2m-34w__gfdlflorb', 'nmme-tmp2m-34w__nasa',\n",
              "       'nmme-tmp2m-34w__nmmemean', 'nmme-tmp2m-56w__cancm3',\n",
              "       'nmme-tmp2m-56w__cancm4', 'nmme-tmp2m-56w__ccsm4',\n",
              "       'nmme-tmp2m-56w__cfsv2', 'nmme-tmp2m-56w__gfdl',\n",
              "       'nmme-tmp2m-56w__gfdlflora', 'nmme-tmp2m-56w__gfdlflorb',\n",
              "       'nmme-tmp2m-56w__nasa', 'nmme-tmp2m-56w__nmmemean',\n",
              "       'nmme0-tmp2m-34w__cancm30', 'nmme0-tmp2m-34w__ccsm40',\n",
              "       'nmme0-tmp2m-34w__cfsv20', 'nmme0-tmp2m-34w__gfdlflora0',\n",
              "       'nmme0-tmp2m-34w__gfdlflorb0', 'nmme0-tmp2m-34w__nmme0mean',\n",
              "       'nmme0mean'], dtype='<U27')"
            ]
          },
          "metadata": {},
          "execution_count": 39
        }
      ]
    },
    {
      "cell_type": "code",
      "source": [
        "len(features_to_drop_unique)"
      ],
      "metadata": {
        "execution": {
          "iopub.status.busy": "2023-02-25T13:54:00.092691Z",
          "iopub.execute_input": "2023-02-25T13:54:00.093273Z",
          "iopub.status.idle": "2023-02-25T13:54:00.111032Z",
          "shell.execute_reply.started": "2023-02-25T13:54:00.093236Z",
          "shell.execute_reply": "2023-02-25T13:54:00.109488Z"
        },
        "trusted": true,
        "colab": {
          "base_uri": "https://localhost:8080/"
        },
        "id": "8pKCwbnA3c9W",
        "outputId": "9e7d496b-204d-44b2-d630-e6df440d29b3"
      },
      "execution_count": 40,
      "outputs": [
        {
          "output_type": "execute_result",
          "data": {
            "text/plain": [
              "34"
            ]
          },
          "metadata": {},
          "execution_count": 40
        }
      ]
    },
    {
      "cell_type": "code",
      "source": [
        "train_correlation_thr_08 = train_correlation[np.abs(train_correlation) > 0.8]\n",
        "#train_correlation_thr_08"
      ],
      "metadata": {
        "execution": {
          "iopub.status.busy": "2023-02-25T13:54:00.113693Z",
          "iopub.execute_input": "2023-02-25T13:54:00.114074Z",
          "iopub.status.idle": "2023-02-25T13:54:00.157711Z",
          "shell.execute_reply.started": "2023-02-25T13:54:00.114035Z",
          "shell.execute_reply": "2023-02-25T13:54:00.156548Z"
        },
        "trusted": true,
        "colab": {
          "base_uri": "https://localhost:8080/",
          "height": 713
        },
        "id": "QKA2dGQw3c9X",
        "outputId": "62f6409b-bd08-4f39-e94d-ea68aa73fe4a"
      },
      "execution_count": 41,
      "outputs": [
        {
          "output_type": "execute_result",
          "data": {
            "text/plain": [
              "                                       index       lat  lon  \\\n",
              "index                               1.000000  0.995633  NaN   \n",
              "lat                                 0.995633  1.000000  NaN   \n",
              "lon                                      NaN       NaN  1.0   \n",
              "contest-pevpr-sfc-gauss-14d__pevpr       NaN       NaN  NaN   \n",
              "nmme0-tmp2m-34w__cancm30                 NaN       NaN  NaN   \n",
              "...                                      ...       ...  ...   \n",
              "wind-vwnd-925-2010-16                    NaN       NaN  NaN   \n",
              "wind-vwnd-925-2010-17                    NaN       NaN  NaN   \n",
              "wind-vwnd-925-2010-18                    NaN       NaN  NaN   \n",
              "wind-vwnd-925-2010-19                    NaN       NaN  NaN   \n",
              "wind-vwnd-925-2010-20                    NaN       NaN  NaN   \n",
              "\n",
              "                                    contest-pevpr-sfc-gauss-14d__pevpr  \\\n",
              "index                                                              NaN   \n",
              "lat                                                                NaN   \n",
              "lon                                                                NaN   \n",
              "contest-pevpr-sfc-gauss-14d__pevpr                                 1.0   \n",
              "nmme0-tmp2m-34w__cancm30                                           NaN   \n",
              "...                                                                ...   \n",
              "wind-vwnd-925-2010-16                                              NaN   \n",
              "wind-vwnd-925-2010-17                                              NaN   \n",
              "wind-vwnd-925-2010-18                                              NaN   \n",
              "wind-vwnd-925-2010-19                                              NaN   \n",
              "wind-vwnd-925-2010-20                                              NaN   \n",
              "\n",
              "                                    nmme0-tmp2m-34w__cancm30  \\\n",
              "index                                                    NaN   \n",
              "lat                                                      NaN   \n",
              "lon                                                      NaN   \n",
              "contest-pevpr-sfc-gauss-14d__pevpr                       NaN   \n",
              "nmme0-tmp2m-34w__cancm30                                 1.0   \n",
              "...                                                      ...   \n",
              "wind-vwnd-925-2010-16                                    NaN   \n",
              "wind-vwnd-925-2010-17                                    NaN   \n",
              "wind-vwnd-925-2010-18                                    NaN   \n",
              "wind-vwnd-925-2010-19                                    NaN   \n",
              "wind-vwnd-925-2010-20                                    NaN   \n",
              "\n",
              "                                    nmme0-tmp2m-34w__cancm40  \\\n",
              "index                                                    NaN   \n",
              "lat                                                      NaN   \n",
              "lon                                                      NaN   \n",
              "contest-pevpr-sfc-gauss-14d__pevpr                       NaN   \n",
              "nmme0-tmp2m-34w__cancm30                            0.989678   \n",
              "...                                                      ...   \n",
              "wind-vwnd-925-2010-16                                    NaN   \n",
              "wind-vwnd-925-2010-17                                    NaN   \n",
              "wind-vwnd-925-2010-18                                    NaN   \n",
              "wind-vwnd-925-2010-19                                    NaN   \n",
              "wind-vwnd-925-2010-20                                    NaN   \n",
              "\n",
              "                                    nmme0-tmp2m-34w__ccsm30  \\\n",
              "index                                                   NaN   \n",
              "lat                                                     NaN   \n",
              "lon                                                     NaN   \n",
              "contest-pevpr-sfc-gauss-14d__pevpr                      NaN   \n",
              "nmme0-tmp2m-34w__cancm30                           0.984421   \n",
              "...                                                     ...   \n",
              "wind-vwnd-925-2010-16                                   NaN   \n",
              "wind-vwnd-925-2010-17                                   NaN   \n",
              "wind-vwnd-925-2010-18                                   NaN   \n",
              "wind-vwnd-925-2010-19                                   NaN   \n",
              "wind-vwnd-925-2010-20                                   NaN   \n",
              "\n",
              "                                    nmme0-tmp2m-34w__ccsm40  \\\n",
              "index                                                   NaN   \n",
              "lat                                                     NaN   \n",
              "lon                                                     NaN   \n",
              "contest-pevpr-sfc-gauss-14d__pevpr                      NaN   \n",
              "nmme0-tmp2m-34w__cancm30                           0.982819   \n",
              "...                                                     ...   \n",
              "wind-vwnd-925-2010-16                                   NaN   \n",
              "wind-vwnd-925-2010-17                                   NaN   \n",
              "wind-vwnd-925-2010-18                                   NaN   \n",
              "wind-vwnd-925-2010-19                                   NaN   \n",
              "wind-vwnd-925-2010-20                                   NaN   \n",
              "\n",
              "                                    nmme0-tmp2m-34w__cfsv20  \\\n",
              "index                                                   NaN   \n",
              "lat                                                     NaN   \n",
              "lon                                                     NaN   \n",
              "contest-pevpr-sfc-gauss-14d__pevpr                      NaN   \n",
              "nmme0-tmp2m-34w__cancm30                            0.97741   \n",
              "...                                                     ...   \n",
              "wind-vwnd-925-2010-16                                   NaN   \n",
              "wind-vwnd-925-2010-17                                   NaN   \n",
              "wind-vwnd-925-2010-18                                   NaN   \n",
              "wind-vwnd-925-2010-19                                   NaN   \n",
              "wind-vwnd-925-2010-20                                   NaN   \n",
              "\n",
              "                                    nmme0-tmp2m-34w__gfdlflora0  ...  \\\n",
              "index                                                       NaN  ...   \n",
              "lat                                                         NaN  ...   \n",
              "lon                                                         NaN  ...   \n",
              "contest-pevpr-sfc-gauss-14d__pevpr                          NaN  ...   \n",
              "nmme0-tmp2m-34w__cancm30                                0.97104  ...   \n",
              "...                                                         ...  ...   \n",
              "wind-vwnd-925-2010-16                                       NaN  ...   \n",
              "wind-vwnd-925-2010-17                                       NaN  ...   \n",
              "wind-vwnd-925-2010-18                                       NaN  ...   \n",
              "wind-vwnd-925-2010-19                                       NaN  ...   \n",
              "wind-vwnd-925-2010-20                                       NaN  ...   \n",
              "\n",
              "                                    wind-vwnd-925-2010-11  \\\n",
              "index                                                 NaN   \n",
              "lat                                                   NaN   \n",
              "lon                                                   NaN   \n",
              "contest-pevpr-sfc-gauss-14d__pevpr                    NaN   \n",
              "nmme0-tmp2m-34w__cancm30                              NaN   \n",
              "...                                                   ...   \n",
              "wind-vwnd-925-2010-16                                 NaN   \n",
              "wind-vwnd-925-2010-17                                 NaN   \n",
              "wind-vwnd-925-2010-18                                 NaN   \n",
              "wind-vwnd-925-2010-19                                 NaN   \n",
              "wind-vwnd-925-2010-20                                 NaN   \n",
              "\n",
              "                                    wind-vwnd-925-2010-12  \\\n",
              "index                                                 NaN   \n",
              "lat                                                   NaN   \n",
              "lon                                                   NaN   \n",
              "contest-pevpr-sfc-gauss-14d__pevpr                    NaN   \n",
              "nmme0-tmp2m-34w__cancm30                              NaN   \n",
              "...                                                   ...   \n",
              "wind-vwnd-925-2010-16                                 NaN   \n",
              "wind-vwnd-925-2010-17                                 NaN   \n",
              "wind-vwnd-925-2010-18                                 NaN   \n",
              "wind-vwnd-925-2010-19                                 NaN   \n",
              "wind-vwnd-925-2010-20                                 NaN   \n",
              "\n",
              "                                    wind-vwnd-925-2010-13  \\\n",
              "index                                                 NaN   \n",
              "lat                                                   NaN   \n",
              "lon                                                   NaN   \n",
              "contest-pevpr-sfc-gauss-14d__pevpr                    NaN   \n",
              "nmme0-tmp2m-34w__cancm30                              NaN   \n",
              "...                                                   ...   \n",
              "wind-vwnd-925-2010-16                                 NaN   \n",
              "wind-vwnd-925-2010-17                                 NaN   \n",
              "wind-vwnd-925-2010-18                                 NaN   \n",
              "wind-vwnd-925-2010-19                                 NaN   \n",
              "wind-vwnd-925-2010-20                                 NaN   \n",
              "\n",
              "                                    wind-vwnd-925-2010-14  \\\n",
              "index                                                 NaN   \n",
              "lat                                                   NaN   \n",
              "lon                                                   NaN   \n",
              "contest-pevpr-sfc-gauss-14d__pevpr                    NaN   \n",
              "nmme0-tmp2m-34w__cancm30                              NaN   \n",
              "...                                                   ...   \n",
              "wind-vwnd-925-2010-16                                 NaN   \n",
              "wind-vwnd-925-2010-17                                 NaN   \n",
              "wind-vwnd-925-2010-18                                 NaN   \n",
              "wind-vwnd-925-2010-19                                 NaN   \n",
              "wind-vwnd-925-2010-20                                 NaN   \n",
              "\n",
              "                                    wind-vwnd-925-2010-15  \\\n",
              "index                                                 NaN   \n",
              "lat                                                   NaN   \n",
              "lon                                                   NaN   \n",
              "contest-pevpr-sfc-gauss-14d__pevpr                    NaN   \n",
              "nmme0-tmp2m-34w__cancm30                              NaN   \n",
              "...                                                   ...   \n",
              "wind-vwnd-925-2010-16                                 NaN   \n",
              "wind-vwnd-925-2010-17                                 NaN   \n",
              "wind-vwnd-925-2010-18                                 NaN   \n",
              "wind-vwnd-925-2010-19                                 NaN   \n",
              "wind-vwnd-925-2010-20                                 NaN   \n",
              "\n",
              "                                    wind-vwnd-925-2010-16  \\\n",
              "index                                                 NaN   \n",
              "lat                                                   NaN   \n",
              "lon                                                   NaN   \n",
              "contest-pevpr-sfc-gauss-14d__pevpr                    NaN   \n",
              "nmme0-tmp2m-34w__cancm30                              NaN   \n",
              "...                                                   ...   \n",
              "wind-vwnd-925-2010-16                                 1.0   \n",
              "wind-vwnd-925-2010-17                                 NaN   \n",
              "wind-vwnd-925-2010-18                                 NaN   \n",
              "wind-vwnd-925-2010-19                                 NaN   \n",
              "wind-vwnd-925-2010-20                                 NaN   \n",
              "\n",
              "                                    wind-vwnd-925-2010-17  \\\n",
              "index                                                 NaN   \n",
              "lat                                                   NaN   \n",
              "lon                                                   NaN   \n",
              "contest-pevpr-sfc-gauss-14d__pevpr                    NaN   \n",
              "nmme0-tmp2m-34w__cancm30                              NaN   \n",
              "...                                                   ...   \n",
              "wind-vwnd-925-2010-16                                 NaN   \n",
              "wind-vwnd-925-2010-17                                 1.0   \n",
              "wind-vwnd-925-2010-18                                 NaN   \n",
              "wind-vwnd-925-2010-19                                 NaN   \n",
              "wind-vwnd-925-2010-20                                 NaN   \n",
              "\n",
              "                                    wind-vwnd-925-2010-18  \\\n",
              "index                                                 NaN   \n",
              "lat                                                   NaN   \n",
              "lon                                                   NaN   \n",
              "contest-pevpr-sfc-gauss-14d__pevpr                    NaN   \n",
              "nmme0-tmp2m-34w__cancm30                              NaN   \n",
              "...                                                   ...   \n",
              "wind-vwnd-925-2010-16                                 NaN   \n",
              "wind-vwnd-925-2010-17                                 NaN   \n",
              "wind-vwnd-925-2010-18                                 1.0   \n",
              "wind-vwnd-925-2010-19                                 NaN   \n",
              "wind-vwnd-925-2010-20                                 NaN   \n",
              "\n",
              "                                    wind-vwnd-925-2010-19  \\\n",
              "index                                                 NaN   \n",
              "lat                                                   NaN   \n",
              "lon                                                   NaN   \n",
              "contest-pevpr-sfc-gauss-14d__pevpr                    NaN   \n",
              "nmme0-tmp2m-34w__cancm30                              NaN   \n",
              "...                                                   ...   \n",
              "wind-vwnd-925-2010-16                                 NaN   \n",
              "wind-vwnd-925-2010-17                                 NaN   \n",
              "wind-vwnd-925-2010-18                                 NaN   \n",
              "wind-vwnd-925-2010-19                                 1.0   \n",
              "wind-vwnd-925-2010-20                                 NaN   \n",
              "\n",
              "                                    wind-vwnd-925-2010-20  \n",
              "index                                                 NaN  \n",
              "lat                                                   NaN  \n",
              "lon                                                   NaN  \n",
              "contest-pevpr-sfc-gauss-14d__pevpr                    NaN  \n",
              "nmme0-tmp2m-34w__cancm30                              NaN  \n",
              "...                                                   ...  \n",
              "wind-vwnd-925-2010-16                                 NaN  \n",
              "wind-vwnd-925-2010-17                                 NaN  \n",
              "wind-vwnd-925-2010-18                                 NaN  \n",
              "wind-vwnd-925-2010-19                                 NaN  \n",
              "wind-vwnd-925-2010-20                                 1.0  \n",
              "\n",
              "[244 rows x 244 columns]"
            ],
            "text/html": [
              "\n",
              "  <div id=\"df-a8b2e663-2e2b-4bc0-9322-9c000f10d806\">\n",
              "    <div class=\"colab-df-container\">\n",
              "      <div>\n",
              "<style scoped>\n",
              "    .dataframe tbody tr th:only-of-type {\n",
              "        vertical-align: middle;\n",
              "    }\n",
              "\n",
              "    .dataframe tbody tr th {\n",
              "        vertical-align: top;\n",
              "    }\n",
              "\n",
              "    .dataframe thead th {\n",
              "        text-align: right;\n",
              "    }\n",
              "</style>\n",
              "<table border=\"1\" class=\"dataframe\">\n",
              "  <thead>\n",
              "    <tr style=\"text-align: right;\">\n",
              "      <th></th>\n",
              "      <th>index</th>\n",
              "      <th>lat</th>\n",
              "      <th>lon</th>\n",
              "      <th>contest-pevpr-sfc-gauss-14d__pevpr</th>\n",
              "      <th>nmme0-tmp2m-34w__cancm30</th>\n",
              "      <th>nmme0-tmp2m-34w__cancm40</th>\n",
              "      <th>nmme0-tmp2m-34w__ccsm30</th>\n",
              "      <th>nmme0-tmp2m-34w__ccsm40</th>\n",
              "      <th>nmme0-tmp2m-34w__cfsv20</th>\n",
              "      <th>nmme0-tmp2m-34w__gfdlflora0</th>\n",
              "      <th>...</th>\n",
              "      <th>wind-vwnd-925-2010-11</th>\n",
              "      <th>wind-vwnd-925-2010-12</th>\n",
              "      <th>wind-vwnd-925-2010-13</th>\n",
              "      <th>wind-vwnd-925-2010-14</th>\n",
              "      <th>wind-vwnd-925-2010-15</th>\n",
              "      <th>wind-vwnd-925-2010-16</th>\n",
              "      <th>wind-vwnd-925-2010-17</th>\n",
              "      <th>wind-vwnd-925-2010-18</th>\n",
              "      <th>wind-vwnd-925-2010-19</th>\n",
              "      <th>wind-vwnd-925-2010-20</th>\n",
              "    </tr>\n",
              "  </thead>\n",
              "  <tbody>\n",
              "    <tr>\n",
              "      <th>index</th>\n",
              "      <td>1.000000</td>\n",
              "      <td>0.995633</td>\n",
              "      <td>NaN</td>\n",
              "      <td>NaN</td>\n",
              "      <td>NaN</td>\n",
              "      <td>NaN</td>\n",
              "      <td>NaN</td>\n",
              "      <td>NaN</td>\n",
              "      <td>NaN</td>\n",
              "      <td>NaN</td>\n",
              "      <td>...</td>\n",
              "      <td>NaN</td>\n",
              "      <td>NaN</td>\n",
              "      <td>NaN</td>\n",
              "      <td>NaN</td>\n",
              "      <td>NaN</td>\n",
              "      <td>NaN</td>\n",
              "      <td>NaN</td>\n",
              "      <td>NaN</td>\n",
              "      <td>NaN</td>\n",
              "      <td>NaN</td>\n",
              "    </tr>\n",
              "    <tr>\n",
              "      <th>lat</th>\n",
              "      <td>0.995633</td>\n",
              "      <td>1.000000</td>\n",
              "      <td>NaN</td>\n",
              "      <td>NaN</td>\n",
              "      <td>NaN</td>\n",
              "      <td>NaN</td>\n",
              "      <td>NaN</td>\n",
              "      <td>NaN</td>\n",
              "      <td>NaN</td>\n",
              "      <td>NaN</td>\n",
              "      <td>...</td>\n",
              "      <td>NaN</td>\n",
              "      <td>NaN</td>\n",
              "      <td>NaN</td>\n",
              "      <td>NaN</td>\n",
              "      <td>NaN</td>\n",
              "      <td>NaN</td>\n",
              "      <td>NaN</td>\n",
              "      <td>NaN</td>\n",
              "      <td>NaN</td>\n",
              "      <td>NaN</td>\n",
              "    </tr>\n",
              "    <tr>\n",
              "      <th>lon</th>\n",
              "      <td>NaN</td>\n",
              "      <td>NaN</td>\n",
              "      <td>1.0</td>\n",
              "      <td>NaN</td>\n",
              "      <td>NaN</td>\n",
              "      <td>NaN</td>\n",
              "      <td>NaN</td>\n",
              "      <td>NaN</td>\n",
              "      <td>NaN</td>\n",
              "      <td>NaN</td>\n",
              "      <td>...</td>\n",
              "      <td>NaN</td>\n",
              "      <td>NaN</td>\n",
              "      <td>NaN</td>\n",
              "      <td>NaN</td>\n",
              "      <td>NaN</td>\n",
              "      <td>NaN</td>\n",
              "      <td>NaN</td>\n",
              "      <td>NaN</td>\n",
              "      <td>NaN</td>\n",
              "      <td>NaN</td>\n",
              "    </tr>\n",
              "    <tr>\n",
              "      <th>contest-pevpr-sfc-gauss-14d__pevpr</th>\n",
              "      <td>NaN</td>\n",
              "      <td>NaN</td>\n",
              "      <td>NaN</td>\n",
              "      <td>1.0</td>\n",
              "      <td>NaN</td>\n",
              "      <td>NaN</td>\n",
              "      <td>NaN</td>\n",
              "      <td>NaN</td>\n",
              "      <td>NaN</td>\n",
              "      <td>NaN</td>\n",
              "      <td>...</td>\n",
              "      <td>NaN</td>\n",
              "      <td>NaN</td>\n",
              "      <td>NaN</td>\n",
              "      <td>NaN</td>\n",
              "      <td>NaN</td>\n",
              "      <td>NaN</td>\n",
              "      <td>NaN</td>\n",
              "      <td>NaN</td>\n",
              "      <td>NaN</td>\n",
              "      <td>NaN</td>\n",
              "    </tr>\n",
              "    <tr>\n",
              "      <th>nmme0-tmp2m-34w__cancm30</th>\n",
              "      <td>NaN</td>\n",
              "      <td>NaN</td>\n",
              "      <td>NaN</td>\n",
              "      <td>NaN</td>\n",
              "      <td>1.0</td>\n",
              "      <td>0.989678</td>\n",
              "      <td>0.984421</td>\n",
              "      <td>0.982819</td>\n",
              "      <td>0.97741</td>\n",
              "      <td>0.97104</td>\n",
              "      <td>...</td>\n",
              "      <td>NaN</td>\n",
              "      <td>NaN</td>\n",
              "      <td>NaN</td>\n",
              "      <td>NaN</td>\n",
              "      <td>NaN</td>\n",
              "      <td>NaN</td>\n",
              "      <td>NaN</td>\n",
              "      <td>NaN</td>\n",
              "      <td>NaN</td>\n",
              "      <td>NaN</td>\n",
              "    </tr>\n",
              "    <tr>\n",
              "      <th>...</th>\n",
              "      <td>...</td>\n",
              "      <td>...</td>\n",
              "      <td>...</td>\n",
              "      <td>...</td>\n",
              "      <td>...</td>\n",
              "      <td>...</td>\n",
              "      <td>...</td>\n",
              "      <td>...</td>\n",
              "      <td>...</td>\n",
              "      <td>...</td>\n",
              "      <td>...</td>\n",
              "      <td>...</td>\n",
              "      <td>...</td>\n",
              "      <td>...</td>\n",
              "      <td>...</td>\n",
              "      <td>...</td>\n",
              "      <td>...</td>\n",
              "      <td>...</td>\n",
              "      <td>...</td>\n",
              "      <td>...</td>\n",
              "      <td>...</td>\n",
              "    </tr>\n",
              "    <tr>\n",
              "      <th>wind-vwnd-925-2010-16</th>\n",
              "      <td>NaN</td>\n",
              "      <td>NaN</td>\n",
              "      <td>NaN</td>\n",
              "      <td>NaN</td>\n",
              "      <td>NaN</td>\n",
              "      <td>NaN</td>\n",
              "      <td>NaN</td>\n",
              "      <td>NaN</td>\n",
              "      <td>NaN</td>\n",
              "      <td>NaN</td>\n",
              "      <td>...</td>\n",
              "      <td>NaN</td>\n",
              "      <td>NaN</td>\n",
              "      <td>NaN</td>\n",
              "      <td>NaN</td>\n",
              "      <td>NaN</td>\n",
              "      <td>1.0</td>\n",
              "      <td>NaN</td>\n",
              "      <td>NaN</td>\n",
              "      <td>NaN</td>\n",
              "      <td>NaN</td>\n",
              "    </tr>\n",
              "    <tr>\n",
              "      <th>wind-vwnd-925-2010-17</th>\n",
              "      <td>NaN</td>\n",
              "      <td>NaN</td>\n",
              "      <td>NaN</td>\n",
              "      <td>NaN</td>\n",
              "      <td>NaN</td>\n",
              "      <td>NaN</td>\n",
              "      <td>NaN</td>\n",
              "      <td>NaN</td>\n",
              "      <td>NaN</td>\n",
              "      <td>NaN</td>\n",
              "      <td>...</td>\n",
              "      <td>NaN</td>\n",
              "      <td>NaN</td>\n",
              "      <td>NaN</td>\n",
              "      <td>NaN</td>\n",
              "      <td>NaN</td>\n",
              "      <td>NaN</td>\n",
              "      <td>1.0</td>\n",
              "      <td>NaN</td>\n",
              "      <td>NaN</td>\n",
              "      <td>NaN</td>\n",
              "    </tr>\n",
              "    <tr>\n",
              "      <th>wind-vwnd-925-2010-18</th>\n",
              "      <td>NaN</td>\n",
              "      <td>NaN</td>\n",
              "      <td>NaN</td>\n",
              "      <td>NaN</td>\n",
              "      <td>NaN</td>\n",
              "      <td>NaN</td>\n",
              "      <td>NaN</td>\n",
              "      <td>NaN</td>\n",
              "      <td>NaN</td>\n",
              "      <td>NaN</td>\n",
              "      <td>...</td>\n",
              "      <td>NaN</td>\n",
              "      <td>NaN</td>\n",
              "      <td>NaN</td>\n",
              "      <td>NaN</td>\n",
              "      <td>NaN</td>\n",
              "      <td>NaN</td>\n",
              "      <td>NaN</td>\n",
              "      <td>1.0</td>\n",
              "      <td>NaN</td>\n",
              "      <td>NaN</td>\n",
              "    </tr>\n",
              "    <tr>\n",
              "      <th>wind-vwnd-925-2010-19</th>\n",
              "      <td>NaN</td>\n",
              "      <td>NaN</td>\n",
              "      <td>NaN</td>\n",
              "      <td>NaN</td>\n",
              "      <td>NaN</td>\n",
              "      <td>NaN</td>\n",
              "      <td>NaN</td>\n",
              "      <td>NaN</td>\n",
              "      <td>NaN</td>\n",
              "      <td>NaN</td>\n",
              "      <td>...</td>\n",
              "      <td>NaN</td>\n",
              "      <td>NaN</td>\n",
              "      <td>NaN</td>\n",
              "      <td>NaN</td>\n",
              "      <td>NaN</td>\n",
              "      <td>NaN</td>\n",
              "      <td>NaN</td>\n",
              "      <td>NaN</td>\n",
              "      <td>1.0</td>\n",
              "      <td>NaN</td>\n",
              "    </tr>\n",
              "    <tr>\n",
              "      <th>wind-vwnd-925-2010-20</th>\n",
              "      <td>NaN</td>\n",
              "      <td>NaN</td>\n",
              "      <td>NaN</td>\n",
              "      <td>NaN</td>\n",
              "      <td>NaN</td>\n",
              "      <td>NaN</td>\n",
              "      <td>NaN</td>\n",
              "      <td>NaN</td>\n",
              "      <td>NaN</td>\n",
              "      <td>NaN</td>\n",
              "      <td>...</td>\n",
              "      <td>NaN</td>\n",
              "      <td>NaN</td>\n",
              "      <td>NaN</td>\n",
              "      <td>NaN</td>\n",
              "      <td>NaN</td>\n",
              "      <td>NaN</td>\n",
              "      <td>NaN</td>\n",
              "      <td>NaN</td>\n",
              "      <td>NaN</td>\n",
              "      <td>1.0</td>\n",
              "    </tr>\n",
              "  </tbody>\n",
              "</table>\n",
              "<p>244 rows × 244 columns</p>\n",
              "</div>\n",
              "      <button class=\"colab-df-convert\" onclick=\"convertToInteractive('df-a8b2e663-2e2b-4bc0-9322-9c000f10d806')\"\n",
              "              title=\"Convert this dataframe to an interactive table.\"\n",
              "              style=\"display:none;\">\n",
              "        \n",
              "  <svg xmlns=\"http://www.w3.org/2000/svg\" height=\"24px\"viewBox=\"0 0 24 24\"\n",
              "       width=\"24px\">\n",
              "    <path d=\"M0 0h24v24H0V0z\" fill=\"none\"/>\n",
              "    <path d=\"M18.56 5.44l.94 2.06.94-2.06 2.06-.94-2.06-.94-.94-2.06-.94 2.06-2.06.94zm-11 1L8.5 8.5l.94-2.06 2.06-.94-2.06-.94L8.5 2.5l-.94 2.06-2.06.94zm10 10l.94 2.06.94-2.06 2.06-.94-2.06-.94-.94-2.06-.94 2.06-2.06.94z\"/><path d=\"M17.41 7.96l-1.37-1.37c-.4-.4-.92-.59-1.43-.59-.52 0-1.04.2-1.43.59L10.3 9.45l-7.72 7.72c-.78.78-.78 2.05 0 2.83L4 21.41c.39.39.9.59 1.41.59.51 0 1.02-.2 1.41-.59l7.78-7.78 2.81-2.81c.8-.78.8-2.07 0-2.86zM5.41 20L4 18.59l7.72-7.72 1.47 1.35L5.41 20z\"/>\n",
              "  </svg>\n",
              "      </button>\n",
              "      \n",
              "  <style>\n",
              "    .colab-df-container {\n",
              "      display:flex;\n",
              "      flex-wrap:wrap;\n",
              "      gap: 12px;\n",
              "    }\n",
              "\n",
              "    .colab-df-convert {\n",
              "      background-color: #E8F0FE;\n",
              "      border: none;\n",
              "      border-radius: 50%;\n",
              "      cursor: pointer;\n",
              "      display: none;\n",
              "      fill: #1967D2;\n",
              "      height: 32px;\n",
              "      padding: 0 0 0 0;\n",
              "      width: 32px;\n",
              "    }\n",
              "\n",
              "    .colab-df-convert:hover {\n",
              "      background-color: #E2EBFA;\n",
              "      box-shadow: 0px 1px 2px rgba(60, 64, 67, 0.3), 0px 1px 3px 1px rgba(60, 64, 67, 0.15);\n",
              "      fill: #174EA6;\n",
              "    }\n",
              "\n",
              "    [theme=dark] .colab-df-convert {\n",
              "      background-color: #3B4455;\n",
              "      fill: #D2E3FC;\n",
              "    }\n",
              "\n",
              "    [theme=dark] .colab-df-convert:hover {\n",
              "      background-color: #434B5C;\n",
              "      box-shadow: 0px 1px 3px 1px rgba(0, 0, 0, 0.15);\n",
              "      filter: drop-shadow(0px 1px 2px rgba(0, 0, 0, 0.3));\n",
              "      fill: #FFFFFF;\n",
              "    }\n",
              "  </style>\n",
              "\n",
              "      <script>\n",
              "        const buttonEl =\n",
              "          document.querySelector('#df-a8b2e663-2e2b-4bc0-9322-9c000f10d806 button.colab-df-convert');\n",
              "        buttonEl.style.display =\n",
              "          google.colab.kernel.accessAllowed ? 'block' : 'none';\n",
              "\n",
              "        async function convertToInteractive(key) {\n",
              "          const element = document.querySelector('#df-a8b2e663-2e2b-4bc0-9322-9c000f10d806');\n",
              "          const dataTable =\n",
              "            await google.colab.kernel.invokeFunction('convertToInteractive',\n",
              "                                                     [key], {});\n",
              "          if (!dataTable) return;\n",
              "\n",
              "          const docLinkHtml = 'Like what you see? Visit the ' +\n",
              "            '<a target=\"_blank\" href=https://colab.research.google.com/notebooks/data_table.ipynb>data table notebook</a>'\n",
              "            + ' to learn more about interactive tables.';\n",
              "          element.innerHTML = '';\n",
              "          dataTable['output_type'] = 'display_data';\n",
              "          await google.colab.output.renderOutput(dataTable, element);\n",
              "          const docLink = document.createElement('div');\n",
              "          docLink.innerHTML = docLinkHtml;\n",
              "          element.appendChild(docLink);\n",
              "        }\n",
              "      </script>\n",
              "    </div>\n",
              "  </div>\n",
              "  "
            ]
          },
          "metadata": {},
          "execution_count": 41
        }
      ]
    },
    {
      "cell_type": "code",
      "source": [
        "features_have_to_keep = []\n",
        "for i in range(244):\n",
        "    for j in range(244):\n",
        "        if not np.isnan(train_correlation_thr_08.iloc[i, j]) and train_correlation_thr_08.iloc[i, j] != 1:\n",
        "            if train_correlation_thr_08.columns[i] == \"contest-tmp2m-14d__tmp2m\" or train_correlation_thr_08.index[j] == \"contest-tmp2m-14d__tmp2m\":\n",
        "                #print(train_correlation_thr_08.columns[i],train_correlation_thr_08.index[j], train_correlation_thr_08.iloc[i, j])\n",
        "                features_have_to_keep.append(train_correlation_thr_08.columns[i])\n",
        "                features_have_to_keep.append(train_correlation_thr_08.index[j])\n",
        "features_have_to_keep_unique = np.unique(features_have_to_keep)"
      ],
      "metadata": {
        "execution": {
          "iopub.status.busy": "2023-02-25T13:54:00.159178Z",
          "iopub.execute_input": "2023-02-25T13:54:00.159589Z",
          "iopub.status.idle": "2023-02-25T13:54:02.197556Z",
          "shell.execute_reply.started": "2023-02-25T13:54:00.159548Z",
          "shell.execute_reply": "2023-02-25T13:54:02.196163Z"
        },
        "trusted": true,
        "id": "7qPoZcOJ3c9X"
      },
      "execution_count": 42,
      "outputs": []
    },
    {
      "cell_type": "code",
      "source": [
        "features_have_to_keep_unique"
      ],
      "metadata": {
        "execution": {
          "iopub.status.busy": "2023-02-25T13:54:02.199487Z",
          "iopub.execute_input": "2023-02-25T13:54:02.200619Z",
          "iopub.status.idle": "2023-02-25T13:54:02.208721Z",
          "shell.execute_reply.started": "2023-02-25T13:54:02.200575Z",
          "shell.execute_reply": "2023-02-25T13:54:02.207529Z"
        },
        "trusted": true,
        "colab": {
          "base_uri": "https://localhost:8080/"
        },
        "id": "QaMUZIae3c9X",
        "outputId": "da5e16a8-ae17-4f10-d7d3-d334d8affe96"
      },
      "execution_count": 43,
      "outputs": [
        {
          "output_type": "execute_result",
          "data": {
            "text/plain": [
              "array(['contest-pevpr-sfc-gauss-14d__pevpr', 'contest-tmp2m-14d__tmp2m',\n",
              "       'contest-wind-h100-14d__wind-hgt-100',\n",
              "       'contest-wind-h500-14d__wind-hgt-500', 'nmme-tmp2m-34w__cancm3',\n",
              "       'nmme-tmp2m-34w__cancm4', 'nmme-tmp2m-34w__ccsm3',\n",
              "       'nmme-tmp2m-34w__ccsm4', 'nmme-tmp2m-34w__cfsv2',\n",
              "       'nmme-tmp2m-34w__gfdl', 'nmme-tmp2m-34w__gfdlflora',\n",
              "       'nmme-tmp2m-34w__gfdlflorb', 'nmme-tmp2m-34w__nasa',\n",
              "       'nmme-tmp2m-34w__nmmemean', 'nmme-tmp2m-56w__cancm3',\n",
              "       'nmme-tmp2m-56w__cancm4', 'nmme-tmp2m-56w__ccsm3',\n",
              "       'nmme-tmp2m-56w__ccsm4', 'nmme-tmp2m-56w__cfsv2',\n",
              "       'nmme-tmp2m-56w__gfdl', 'nmme-tmp2m-56w__gfdlflora',\n",
              "       'nmme-tmp2m-56w__gfdlflorb', 'nmme-tmp2m-56w__nasa',\n",
              "       'nmme-tmp2m-56w__nmmemean', 'nmme0-tmp2m-34w__cancm30',\n",
              "       'nmme0-tmp2m-34w__cancm40', 'nmme0-tmp2m-34w__ccsm30',\n",
              "       'nmme0-tmp2m-34w__ccsm40', 'nmme0-tmp2m-34w__cfsv20',\n",
              "       'nmme0-tmp2m-34w__gfdl0', 'nmme0-tmp2m-34w__gfdlflora0',\n",
              "       'nmme0-tmp2m-34w__gfdlflorb0', 'nmme0-tmp2m-34w__nasa0',\n",
              "       'nmme0-tmp2m-34w__nmme0mean', 'wind-hgt-10-2010-1',\n",
              "       'wind-hgt-100-2010-1', 'wind-hgt-500-2010-1',\n",
              "       'wind-vwnd-925-2010-1'], dtype='<U35')"
            ]
          },
          "metadata": {},
          "execution_count": 43
        }
      ]
    },
    {
      "cell_type": "code",
      "source": [
        "len(features_have_to_keep_unique)"
      ],
      "metadata": {
        "execution": {
          "iopub.status.busy": "2023-02-25T13:54:02.210653Z",
          "iopub.execute_input": "2023-02-25T13:54:02.211013Z",
          "iopub.status.idle": "2023-02-25T13:54:02.222066Z",
          "shell.execute_reply.started": "2023-02-25T13:54:02.210978Z",
          "shell.execute_reply": "2023-02-25T13:54:02.220815Z"
        },
        "trusted": true,
        "colab": {
          "base_uri": "https://localhost:8080/"
        },
        "id": "QwK4NZUk3c9X",
        "outputId": "dfa90512-28ca-4dee-8710-f4377aa6ce04"
      },
      "execution_count": 44,
      "outputs": [
        {
          "output_type": "execute_result",
          "data": {
            "text/plain": [
              "38"
            ]
          },
          "metadata": {},
          "execution_count": 44
        }
      ]
    },
    {
      "cell_type": "code",
      "source": [
        "def intersection(lst1, lst2):\n",
        "    return list(set(lst1) & set(lst2))\n",
        "features_to_keep = intersection(features_to_drop_unique, features_have_to_keep_unique)\n",
        "\n",
        "features_to_drop_v1 = []\n",
        "for feat in features_to_drop_unique:\n",
        "    if feat in features_to_keep:\n",
        "        continue\n",
        "    else:\n",
        "        features_to_drop_v1.append(feat)\n",
        "        \n",
        "print(len(features_to_drop_v1))\n",
        "features_to_drop_v1.remove(\"index\")\n",
        "features_to_drop_v1"
      ],
      "metadata": {
        "execution": {
          "iopub.status.busy": "2023-02-25T13:54:02.224259Z",
          "iopub.execute_input": "2023-02-25T13:54:02.225985Z",
          "iopub.status.idle": "2023-02-25T13:54:02.240692Z",
          "shell.execute_reply.started": "2023-02-25T13:54:02.225834Z",
          "shell.execute_reply": "2023-02-25T13:54:02.239450Z"
        },
        "trusted": true,
        "colab": {
          "base_uri": "https://localhost:8080/"
        },
        "id": "lSkbZDdP3c9X",
        "outputId": "2877852a-cd22-49ed-c169-d03ad585991c"
      },
      "execution_count": 45,
      "outputs": [
        {
          "output_type": "stream",
          "name": "stdout",
          "text": [
            "10\n"
          ]
        },
        {
          "output_type": "execute_result",
          "data": {
            "text/plain": [
              "['cancm30',\n",
              " 'ccsm40',\n",
              " 'cfsv20',\n",
              " 'gfdlflora0',\n",
              " 'gfdlflorb0',\n",
              " 'lat',\n",
              " 'nmme-prate-34w__nmmemean',\n",
              " 'nmme-prate-56w__nmmemean',\n",
              " 'nmme0mean']"
            ]
          },
          "metadata": {},
          "execution_count": 45
        }
      ]
    },
    {
      "cell_type": "code",
      "source": [
        "for feat in low_correl_unique:\n",
        "  features_to_drop_v1.append(feat)\n",
        "len(features_to_drop_v1)\n",
        "features_to_drop_v1"
      ],
      "metadata": {
        "colab": {
          "base_uri": "https://localhost:8080/"
        },
        "id": "8txaXr032eTz",
        "outputId": "eb17f59e-271d-4644-b4ab-8c9c4eca084f"
      },
      "execution_count": 46,
      "outputs": [
        {
          "output_type": "execute_result",
          "data": {
            "text/plain": [
              "['cancm30',\n",
              " 'ccsm40',\n",
              " 'cfsv20',\n",
              " 'gfdlflora0',\n",
              " 'gfdlflorb0',\n",
              " 'lat',\n",
              " 'nmme-prate-34w__nmmemean',\n",
              " 'nmme-prate-56w__nmmemean',\n",
              " 'nmme0mean',\n",
              " 'nmme-prate-34w__cfsv2',\n",
              " 'nmme-prate-34w__nasa',\n",
              " 'nmme-prate-56w__cfsv2',\n",
              " 'nmme-prate-56w__nasa',\n",
              " 'nmme0-prate-34w__cancm30',\n",
              " 'nmme0-prate-34w__cancm40',\n",
              " 'nmme0-prate-34w__gfdl0',\n",
              " 'nmme0-prate-34w__nmme0mean',\n",
              " 'nmme0-prate-56w__nmme0mean',\n",
              " 'wind-hgt-10-2010-6',\n",
              " 'wind-hgt-10-2010-8',\n",
              " 'wind-hgt-100-2010-3',\n",
              " 'wind-hgt-100-2010-4',\n",
              " 'wind-hgt-100-2010-5',\n",
              " 'wind-hgt-100-2010-8',\n",
              " 'wind-hgt-850-2010-10',\n",
              " 'wind-hgt-850-2010-4',\n",
              " 'wind-hgt-850-2010-8',\n",
              " 'wind-uwnd-250-2010-10',\n",
              " 'wind-uwnd-250-2010-13',\n",
              " 'wind-uwnd-250-2010-14',\n",
              " 'wind-uwnd-250-2010-6',\n",
              " 'wind-uwnd-250-2010-7',\n",
              " 'wind-uwnd-925-2010-17',\n",
              " 'wind-uwnd-925-2010-19',\n",
              " 'wind-uwnd-925-2010-3',\n",
              " 'wind-vwnd-250-2010-15',\n",
              " 'wind-vwnd-250-2010-20',\n",
              " 'wind-vwnd-250-2010-6',\n",
              " 'wind-vwnd-250-2010-8',\n",
              " 'wind-vwnd-925-2010-11',\n",
              " 'wind-vwnd-925-2010-14',\n",
              " 'wind-vwnd-925-2010-17',\n",
              " 'wind-vwnd-925-2010-6',\n",
              " 'wind-vwnd-925-2010-8']"
            ]
          },
          "metadata": {},
          "execution_count": 46
        }
      ]
    },
    {
      "cell_type": "code",
      "source": [
        "print(len(features_to_drop_v1))"
      ],
      "metadata": {
        "colab": {
          "base_uri": "https://localhost:8080/"
        },
        "id": "dZ7FgLeb2xrd",
        "outputId": "79e05085-48df-43ca-e904-330df166cd4c"
      },
      "execution_count": 47,
      "outputs": [
        {
          "output_type": "stream",
          "name": "stdout",
          "text": [
            "44\n"
          ]
        }
      ]
    },
    {
      "cell_type": "code",
      "source": [
        "# from feature importance\n",
        "features_to_drop_v2 = ['wind-vwnd-250-2010-18', 'wind-hgt-100-2010-3',\n",
        "       'wind-hgt-100-2010-4', 'wind-uwnd-925-2010-17',\n",
        "       'wind-vwnd-250-2010-14', 'icec-2010-8', 'sst-2010-2',\n",
        "       'wind-uwnd-250-2010-2', 'icec-2010-3', 'wind-uwnd-250-2010-20',\n",
        "       'wind-uwnd-925-2010-6', 'wind-uwnd-250-2010-17', 'gfdlflorb0',\n",
        "       'elevation__elevation', 'wind-hgt-500-2010-5']"
      ],
      "metadata": {
        "id": "7SbO3c1aMTBw"
      },
      "execution_count": 29,
      "outputs": []
    },
    {
      "cell_type": "code",
      "source": [
        "cc_train_reduced = pd.DataFrame(X.drop(features_to_drop_v2, axis=1))\n",
        "cc_test_reduced = pd.DataFrame(X_test.drop(features_to_drop_v2, axis=1))\n",
        "#print(\"Dropped features that are highly correlated\")\n",
        "print(\"Drop according to feature importances\")"
      ],
      "metadata": {
        "execution": {
          "iopub.status.busy": "2023-02-25T13:54:02.242106Z",
          "iopub.execute_input": "2023-02-25T13:54:02.242446Z",
          "iopub.status.idle": "2023-02-25T13:54:02.522951Z",
          "shell.execute_reply.started": "2023-02-25T13:54:02.242414Z",
          "shell.execute_reply": "2023-02-25T13:54:02.521689Z"
        },
        "trusted": true,
        "colab": {
          "base_uri": "https://localhost:8080/"
        },
        "id": "a5CIbAfv3c9X",
        "outputId": "dc4349f9-40ce-4642-b847-eb6521962d2f"
      },
      "execution_count": 30,
      "outputs": [
        {
          "output_type": "stream",
          "name": "stdout",
          "text": [
            "Drop according to feature importances\n"
          ]
        }
      ]
    },
    {
      "cell_type": "code",
      "source": [
        "X_train, X_test_tts, y_train, y_test = train_test_split(X.copy(), y, test_size=0.33, random_state=42)\n",
        "print(\"Split the dataset for training successfully\")"
      ],
      "metadata": {
        "colab": {
          "base_uri": "https://localhost:8080/"
        },
        "id": "kybOZwpzrwA5",
        "outputId": "032c5e78-9319-46b3-9940-099b25665a0b"
      },
      "execution_count": 64,
      "outputs": [
        {
          "output_type": "stream",
          "name": "stdout",
          "text": [
            "Split the dataset for training successfully\n"
          ]
        }
      ]
    },
    {
      "cell_type": "code",
      "source": [
        "#X_train, X_test_tts, y_train, y_test = train_test_split(cc_train_reduced, y, test_size=0.33, random_state=42)\n",
        "#print(\"Split the dataset for training successfully\")"
      ],
      "metadata": {
        "execution": {
          "iopub.status.busy": "2023-02-25T13:54:02.529534Z",
          "iopub.execute_input": "2023-02-25T13:54:02.530003Z",
          "iopub.status.idle": "2023-02-25T13:54:03.271352Z",
          "shell.execute_reply.started": "2023-02-25T13:54:02.529967Z",
          "shell.execute_reply": "2023-02-25T13:54:03.269285Z"
        },
        "trusted": true,
        "colab": {
          "base_uri": "https://localhost:8080/"
        },
        "id": "z-CuKy5k3c9X",
        "outputId": "b974da9c-fa61-4134-fd68-7efdce5b7def"
      },
      "execution_count": 31,
      "outputs": [
        {
          "output_type": "stream",
          "name": "stdout",
          "text": [
            "Split the dataset for training successfully\n"
          ]
        }
      ]
    },
    {
      "cell_type": "code",
      "source": [
        "print(f'Train_shape: {X_train.shape}    |   Val_shape: {X_test_tts.shape}    |   Test_shape: {X_test.shape}')"
      ],
      "metadata": {
        "colab": {
          "base_uri": "https://localhost:8080/"
        },
        "id": "57-izOaAoyWR",
        "outputId": "ee2c1c94-0888-4b37-ab70-67c6f2244bf2"
      },
      "execution_count": 65,
      "outputs": [
        {
          "output_type": "stream",
          "name": "stdout",
          "text": [
            "Train_shape: (251741, 158)    |   Val_shape: (123993, 158)    |   Test_shape: (31354, 158)\n"
          ]
        }
      ]
    },
    {
      "cell_type": "code",
      "source": [
        "X_train.columns"
      ],
      "metadata": {
        "colab": {
          "base_uri": "https://localhost:8080/"
        },
        "id": "lR6v0IsZ3B3l",
        "outputId": "b3f03750-2e49-4c29-9013-a0b57c14ab0c"
      },
      "execution_count": 79,
      "outputs": [
        {
          "output_type": "execute_result",
          "data": {
            "text/plain": [
              "Index(['lon', 'contest-pevpr-sfc-gauss-14d__pevpr',\n",
              "       'contest-rhum-sig995-14d__rhum', 'nmme0-prate-34w__ccsm30',\n",
              "       'nmme0-prate-34w__gfdl0', 'nmme0-prate-34w__nasa0',\n",
              "       'contest-slp-14d__slp', 'contest-wind-vwnd-925-14d__wind-vwnd-925',\n",
              "       'nmme-prate-56w__ccsm3', 'nmme-prate-56w__nasa',\n",
              "       ...\n",
              "       'wind-vwnd-925-2010-15', 'wind-vwnd-925-2010-16',\n",
              "       'wind-vwnd-925-2010-17', 'wind-vwnd-925-2010-18',\n",
              "       'wind-vwnd-925-2010-19', 'wind-vwnd-925-2010-20', 'loc_group', 'year',\n",
              "       'month', 'day'],\n",
              "      dtype='object', length=158)"
            ]
          },
          "metadata": {},
          "execution_count": 79
        }
      ]
    },
    {
      "cell_type": "markdown",
      "source": [
        "# MODELING"
      ],
      "metadata": {
        "id": "dOG9Gg373c9Y"
      }
    },
    {
      "cell_type": "code",
      "source": [
        "X_train.sort_values()"
      ],
      "metadata": {
        "id": "TUoDX2Gn4oAx"
      },
      "execution_count": null,
      "outputs": []
    },
    {
      "cell_type": "code",
      "source": [
        "import time"
      ],
      "metadata": {
        "execution": {
          "iopub.status.busy": "2023-02-25T13:54:03.272835Z",
          "iopub.execute_input": "2023-02-25T13:54:03.273159Z",
          "iopub.status.idle": "2023-02-25T13:54:03.277829Z",
          "shell.execute_reply.started": "2023-02-25T13:54:03.273126Z",
          "shell.execute_reply": "2023-02-25T13:54:03.276740Z"
        },
        "trusted": true,
        "id": "s81rz0sH3c9Y"
      },
      "execution_count": 32,
      "outputs": []
    },
    {
      "cell_type": "markdown",
      "source": [
        "## Random Forest"
      ],
      "metadata": {
        "id": "YaIaG5nU3c9Y"
      }
    },
    {
      "cell_type": "code",
      "source": [
        "start = time.time()\n",
        "# Train the Random Forest Regressor\n",
        "params = {\n",
        "    'n_estimators': 500,\n",
        "    'max_depth': 30,\n",
        "    'min_samples_split': 2,\n",
        "    'min_samples_leaf': 1,\n",
        "    'max_features': 'sqrt',\n",
        "    'bootstrap': True,\n",
        "    'oob_score': True\n",
        "}\n",
        "regr_rfr = RandomForestRegressor(**params)\n",
        "regr_rfr.fit(X_train, y_train)\n",
        "end = time.time()\n",
        "print(\"train time: \", end - start)\n",
        "# make predictions on the test data\n",
        "y_pred_rfr = regr_rfr.predict(X_test_tts)\n",
        "\n",
        "# calculate the RMSE\n",
        "rmse = np.sqrt(mean_squared_error(y_test, y_pred_rfr))\n",
        "print(\"RMSE:\", rmse)"
      ],
      "metadata": {
        "execution": {
          "iopub.status.busy": "2023-02-25T13:54:03.278850Z",
          "iopub.execute_input": "2023-02-25T13:54:03.279165Z"
        },
        "trusted": true,
        "id": "MTRBl7Z-3c9Y"
      },
      "execution_count": null,
      "outputs": []
    },
    {
      "cell_type": "code",
      "source": [
        "cc_test_pred = regr_rfr.predict(cc_test_reduced)"
      ],
      "metadata": {
        "trusted": true,
        "id": "KFEn3Uew3c9Y"
      },
      "execution_count": null,
      "outputs": []
    },
    {
      "cell_type": "code",
      "source": [
        "cc_test_copy[target] = cc_test_pred\n",
        "cc_test_copy[[target,\"index\"]].to_csv(\"rfrpredictions_mxb_250223_version1.csv\",index = False)"
      ],
      "metadata": {
        "trusted": true,
        "id": "fpVTf5tW3c9Y"
      },
      "execution_count": null,
      "outputs": []
    },
    {
      "cell_type": "markdown",
      "source": [
        "## CatBoost"
      ],
      "metadata": {
        "id": "H7GLjMV33c9Y"
      }
    },
    {
      "cell_type": "code",
      "source": [
        "reg_catb  = CatBoostRegressor(n_estimators= 8000, eval_metric= 'RMSE', learning_rate=0.15, random_seed= 1234)\n",
        "\n",
        "reg_catb.fit(X_train, y_train,eval_set=[(X_train, y_train), (X_test_tts, y_test)],verbose=100)"
      ],
      "metadata": {
        "colab": {
          "base_uri": "https://localhost:8080/"
        },
        "id": "mOqNq3IT3c9Y",
        "outputId": "d05d136a-e926-41d7-e4bd-16af84081239"
      },
      "execution_count": null,
      "outputs": [
        {
          "output_type": "stream",
          "name": "stdout",
          "text": [
            "0:\tlearn: 8.5801828\ttest: 8.5801828\ttest1: 8.5744677\tbest: 8.5744677 (0)\ttotal: 461ms\tremaining: 1h 1m 24s\n",
            "100:\tlearn: 1.1504919\ttest: 1.1504919\ttest1: 1.1571067\tbest: 1.1571067 (100)\ttotal: 31.1s\tremaining: 40m 31s\n",
            "200:\tlearn: 0.9157486\ttest: 0.9157486\ttest1: 0.9275274\tbest: 0.9275274 (200)\ttotal: 1m 2s\tremaining: 40m 29s\n",
            "300:\tlearn: 0.7957813\ttest: 0.7957813\ttest1: 0.8106864\tbest: 0.8106864 (300)\ttotal: 1m 39s\tremaining: 42m 37s\n",
            "400:\tlearn: 0.7195237\ttest: 0.7195237\ttest1: 0.7361504\tbest: 0.7361504 (400)\ttotal: 2m 10s\tremaining: 41m 20s\n",
            "500:\tlearn: 0.6631628\ttest: 0.6631628\ttest1: 0.6819144\tbest: 0.6819144 (500)\ttotal: 2m 40s\tremaining: 39m 58s\n",
            "600:\tlearn: 0.6153352\ttest: 0.6153352\ttest1: 0.6357375\tbest: 0.6357375 (600)\ttotal: 3m 11s\tremaining: 39m 15s\n",
            "700:\tlearn: 0.5795834\ttest: 0.5795834\ttest1: 0.6015719\tbest: 0.6015719 (700)\ttotal: 3m 40s\tremaining: 38m 20s\n",
            "800:\tlearn: 0.5494256\ttest: 0.5494256\ttest1: 0.5728597\tbest: 0.5728597 (800)\ttotal: 4m 10s\tremaining: 37m 28s\n",
            "900:\tlearn: 0.5225522\ttest: 0.5225522\ttest1: 0.5475687\tbest: 0.5475687 (900)\ttotal: 4m 40s\tremaining: 36m 48s\n",
            "1000:\tlearn: 0.4975923\ttest: 0.4975923\ttest1: 0.5238113\tbest: 0.5238113 (1000)\ttotal: 5m 11s\tremaining: 36m 15s\n",
            "1100:\tlearn: 0.4767477\ttest: 0.4767477\ttest1: 0.5040090\tbest: 0.5040090 (1100)\ttotal: 5m 41s\tremaining: 35m 39s\n",
            "1200:\tlearn: 0.4586671\ttest: 0.4586671\ttest1: 0.4871797\tbest: 0.4871797 (1200)\ttotal: 6m 11s\tremaining: 35m\n",
            "1300:\tlearn: 0.4422943\ttest: 0.4422943\ttest1: 0.4718167\tbest: 0.4718167 (1300)\ttotal: 6m 40s\tremaining: 34m 21s\n",
            "1400:\tlearn: 0.4278497\ttest: 0.4278497\ttest1: 0.4583243\tbest: 0.4583243 (1400)\ttotal: 7m 11s\tremaining: 33m 51s\n",
            "1500:\tlearn: 0.4143207\ttest: 0.4143207\ttest1: 0.4459933\tbest: 0.4459933 (1500)\ttotal: 7m 41s\tremaining: 33m 19s\n",
            "1600:\tlearn: 0.4012919\ttest: 0.4012919\ttest1: 0.4340092\tbest: 0.4340092 (1600)\ttotal: 8m 11s\tremaining: 32m 45s\n",
            "1700:\tlearn: 0.3899775\ttest: 0.3899775\ttest1: 0.4237789\tbest: 0.4237789 (1700)\ttotal: 8m 40s\tremaining: 32m 6s\n",
            "1800:\tlearn: 0.3793514\ttest: 0.3793514\ttest1: 0.4140755\tbest: 0.4140755 (1800)\ttotal: 9m 11s\tremaining: 31m 38s\n",
            "1900:\tlearn: 0.3696404\ttest: 0.3696404\ttest1: 0.4052262\tbest: 0.4052262 (1900)\ttotal: 9m 40s\tremaining: 31m 3s\n",
            "2000:\tlearn: 0.3600516\ttest: 0.3600516\ttest1: 0.3964513\tbest: 0.3964513 (2000)\ttotal: 10m 11s\tremaining: 30m 32s\n",
            "2100:\tlearn: 0.3515710\ttest: 0.3515710\ttest1: 0.3886778\tbest: 0.3886778 (2100)\ttotal: 10m 40s\tremaining: 29m 58s\n",
            "2200:\tlearn: 0.3437436\ttest: 0.3437436\ttest1: 0.3814387\tbest: 0.3814387 (2200)\ttotal: 11m 10s\tremaining: 29m 26s\n",
            "2300:\tlearn: 0.3361826\ttest: 0.3361826\ttest1: 0.3745801\tbest: 0.3745801 (2300)\ttotal: 11m 39s\tremaining: 28m 53s\n",
            "2400:\tlearn: 0.3288197\ttest: 0.3288197\ttest1: 0.3679555\tbest: 0.3679555 (2400)\ttotal: 12m 9s\tremaining: 28m 21s\n",
            "2500:\tlearn: 0.3218789\ttest: 0.3218789\ttest1: 0.3616210\tbest: 0.3616210 (2500)\ttotal: 12m 39s\tremaining: 27m 48s\n",
            "2600:\tlearn: 0.3155716\ttest: 0.3155716\ttest1: 0.3559531\tbest: 0.3559531 (2600)\ttotal: 13m 7s\tremaining: 27m 15s\n",
            "2700:\tlearn: 0.3096811\ttest: 0.3096811\ttest1: 0.3507061\tbest: 0.3507061 (2700)\ttotal: 13m 38s\tremaining: 26m 46s\n",
            "2800:\tlearn: 0.3038265\ttest: 0.3038265\ttest1: 0.3455668\tbest: 0.3455668 (2800)\ttotal: 14m 8s\tremaining: 26m 15s\n",
            "2900:\tlearn: 0.2982197\ttest: 0.2982197\ttest1: 0.3404265\tbest: 0.3404265 (2900)\ttotal: 14m 37s\tremaining: 25m 41s\n",
            "3000:\tlearn: 0.2929919\ttest: 0.2929919\ttest1: 0.3358272\tbest: 0.3358272 (3000)\ttotal: 15m 5s\tremaining: 25m 8s\n",
            "3100:\tlearn: 0.2879476\ttest: 0.2879476\ttest1: 0.3312640\tbest: 0.3312640 (3100)\ttotal: 15m 34s\tremaining: 24m 36s\n",
            "3200:\tlearn: 0.2833198\ttest: 0.2833198\ttest1: 0.3271719\tbest: 0.3271719 (3200)\ttotal: 16m 7s\tremaining: 24m 10s\n",
            "3300:\tlearn: 0.2787215\ttest: 0.2787215\ttest1: 0.3229723\tbest: 0.3229723 (3300)\ttotal: 16m 36s\tremaining: 23m 38s\n",
            "3400:\tlearn: 0.2745391\ttest: 0.2745391\ttest1: 0.3192962\tbest: 0.3192962 (3400)\ttotal: 17m 4s\tremaining: 23m 5s\n",
            "3500:\tlearn: 0.2704060\ttest: 0.2704060\ttest1: 0.3156702\tbest: 0.3156702 (3500)\ttotal: 17m 34s\tremaining: 22m 34s\n",
            "3600:\tlearn: 0.2665034\ttest: 0.2665034\ttest1: 0.3123514\tbest: 0.3123514 (3600)\ttotal: 18m 2s\tremaining: 22m 2s\n",
            "3700:\tlearn: 0.2623403\ttest: 0.2623403\ttest1: 0.3086429\tbest: 0.3086429 (3700)\ttotal: 18m 33s\tremaining: 21m 33s\n",
            "3800:\tlearn: 0.2585213\ttest: 0.2585213\ttest1: 0.3052821\tbest: 0.3052821 (3800)\ttotal: 19m 3s\tremaining: 21m 3s\n",
            "3900:\tlearn: 0.2549587\ttest: 0.2549587\ttest1: 0.3022361\tbest: 0.3022361 (3900)\ttotal: 19m 32s\tremaining: 20m 32s\n",
            "4000:\tlearn: 0.2513687\ttest: 0.2513687\ttest1: 0.2991888\tbest: 0.2991888 (4000)\ttotal: 20m 2s\tremaining: 20m 1s\n",
            "4100:\tlearn: 0.2478639\ttest: 0.2478639\ttest1: 0.2961023\tbest: 0.2961023 (4100)\ttotal: 20m 33s\tremaining: 19m 32s\n",
            "4200:\tlearn: 0.2445938\ttest: 0.2445938\ttest1: 0.2932434\tbest: 0.2932434 (4200)\ttotal: 21m 2s\tremaining: 19m 1s\n",
            "4300:\tlearn: 0.2415579\ttest: 0.2415579\ttest1: 0.2906661\tbest: 0.2906661 (4300)\ttotal: 21m 30s\tremaining: 18m 30s\n",
            "4400:\tlearn: 0.2383537\ttest: 0.2383537\ttest1: 0.2879807\tbest: 0.2879807 (4400)\ttotal: 22m\tremaining: 17m 59s\n",
            "4500:\tlearn: 0.2352604\ttest: 0.2352604\ttest1: 0.2853085\tbest: 0.2853085 (4500)\ttotal: 22m 30s\tremaining: 17m 30s\n",
            "4600:\tlearn: 0.2323768\ttest: 0.2323768\ttest1: 0.2828166\tbest: 0.2828166 (4600)\ttotal: 23m\tremaining: 16m 59s\n",
            "4700:\tlearn: 0.2294616\ttest: 0.2294616\ttest1: 0.2802875\tbest: 0.2802875 (4700)\ttotal: 23m 30s\tremaining: 16m 30s\n",
            "4800:\tlearn: 0.2267128\ttest: 0.2267128\ttest1: 0.2779422\tbest: 0.2779422 (4800)\ttotal: 23m 59s\tremaining: 15m 59s\n",
            "4900:\tlearn: 0.2240945\ttest: 0.2240945\ttest1: 0.2757173\tbest: 0.2757173 (4900)\ttotal: 24m 32s\tremaining: 15m 30s\n",
            "5000:\tlearn: 0.2215232\ttest: 0.2215232\ttest1: 0.2735543\tbest: 0.2735543 (5000)\ttotal: 25m 4s\tremaining: 15m 2s\n",
            "5100:\tlearn: 0.2189894\ttest: 0.2189894\ttest1: 0.2713603\tbest: 0.2713603 (5100)\ttotal: 25m 33s\tremaining: 14m 31s\n",
            "5200:\tlearn: 0.2166674\ttest: 0.2166674\ttest1: 0.2694405\tbest: 0.2694405 (5200)\ttotal: 26m 2s\tremaining: 14m\n",
            "5300:\tlearn: 0.2142703\ttest: 0.2142703\ttest1: 0.2673563\tbest: 0.2673563 (5300)\ttotal: 26m 33s\tremaining: 13m 31s\n",
            "5400:\tlearn: 0.2119642\ttest: 0.2119642\ttest1: 0.2654364\tbest: 0.2654364 (5400)\ttotal: 27m 2s\tremaining: 13m\n",
            "5500:\tlearn: 0.2097446\ttest: 0.2097446\ttest1: 0.2635950\tbest: 0.2635950 (5500)\ttotal: 27m 30s\tremaining: 12m 29s\n",
            "5600:\tlearn: 0.2074616\ttest: 0.2074616\ttest1: 0.2616665\tbest: 0.2616665 (5600)\ttotal: 28m\tremaining: 11m 59s\n",
            "5700:\tlearn: 0.2053503\ttest: 0.2053503\ttest1: 0.2599331\tbest: 0.2599331 (5700)\ttotal: 28m 28s\tremaining: 11m 29s\n",
            "5800:\tlearn: 0.2032280\ttest: 0.2032280\ttest1: 0.2581247\tbest: 0.2581247 (5800)\ttotal: 28m 59s\tremaining: 10m 59s\n",
            "5900:\tlearn: 0.2012061\ttest: 0.2012061\ttest1: 0.2564401\tbest: 0.2564401 (5900)\ttotal: 29m 31s\tremaining: 10m 29s\n",
            "6000:\tlearn: 0.1992272\ttest: 0.1992272\ttest1: 0.2548471\tbest: 0.2548471 (6000)\ttotal: 29m 59s\tremaining: 9m 59s\n",
            "6100:\tlearn: 0.1973047\ttest: 0.1973047\ttest1: 0.2532939\tbest: 0.2532939 (6100)\ttotal: 30m 29s\tremaining: 9m 29s\n",
            "6200:\tlearn: 0.1954094\ttest: 0.1954094\ttest1: 0.2517523\tbest: 0.2517523 (6200)\ttotal: 30m 58s\tremaining: 8m 59s\n",
            "6300:\tlearn: 0.1936821\ttest: 0.1936821\ttest1: 0.2504011\tbest: 0.2504011 (6300)\ttotal: 31m 28s\tremaining: 8m 29s\n",
            "6400:\tlearn: 0.1919264\ttest: 0.1919264\ttest1: 0.2489998\tbest: 0.2489998 (6400)\ttotal: 31m 57s\tremaining: 7m 59s\n",
            "6500:\tlearn: 0.1901172\ttest: 0.1901172\ttest1: 0.2475051\tbest: 0.2475051 (6500)\ttotal: 32m 26s\tremaining: 7m 28s\n",
            "6600:\tlearn: 0.1883582\ttest: 0.1883582\ttest1: 0.2460562\tbest: 0.2460562 (6600)\ttotal: 32m 56s\tremaining: 6m 58s\n",
            "6700:\tlearn: 0.1866600\ttest: 0.1866600\ttest1: 0.2446632\tbest: 0.2446632 (6700)\ttotal: 33m 26s\tremaining: 6m 28s\n",
            "6800:\tlearn: 0.1850520\ttest: 0.1850520\ttest1: 0.2433663\tbest: 0.2433663 (6800)\ttotal: 33m 56s\tremaining: 5m 59s\n",
            "6900:\tlearn: 0.1834487\ttest: 0.1834487\ttest1: 0.2421026\tbest: 0.2421026 (6900)\ttotal: 34m 26s\tremaining: 5m 29s\n",
            "7000:\tlearn: 0.1819046\ttest: 0.1819046\ttest1: 0.2408705\tbest: 0.2408705 (7000)\ttotal: 34m 56s\tremaining: 4m 59s\n",
            "7100:\tlearn: 0.1803853\ttest: 0.1803853\ttest1: 0.2396275\tbest: 0.2396275 (7100)\ttotal: 35m 26s\tremaining: 4m 29s\n",
            "7200:\tlearn: 0.1789190\ttest: 0.1789190\ttest1: 0.2385010\tbest: 0.2385010 (7200)\ttotal: 35m 56s\tremaining: 3m 59s\n",
            "7300:\tlearn: 0.1774915\ttest: 0.1774915\ttest1: 0.2373649\tbest: 0.2373649 (7300)\ttotal: 36m 24s\tremaining: 3m 29s\n",
            "7400:\tlearn: 0.1761041\ttest: 0.1761041\ttest1: 0.2362868\tbest: 0.2362868 (7400)\ttotal: 36m 53s\tremaining: 2m 59s\n",
            "7500:\tlearn: 0.1746688\ttest: 0.1746688\ttest1: 0.2351097\tbest: 0.2351097 (7500)\ttotal: 37m 21s\tremaining: 2m 29s\n",
            "7600:\tlearn: 0.1732828\ttest: 0.1732828\ttest1: 0.2339862\tbest: 0.2339862 (7600)\ttotal: 37m 50s\tremaining: 1m 59s\n",
            "7700:\tlearn: 0.1719341\ttest: 0.1719341\ttest1: 0.2329328\tbest: 0.2329328 (7700)\ttotal: 38m 21s\tremaining: 1m 29s\n",
            "7800:\tlearn: 0.1705775\ttest: 0.1705775\ttest1: 0.2319130\tbest: 0.2319130 (7800)\ttotal: 38m 50s\tremaining: 59.4s\n",
            "7900:\tlearn: 0.1693277\ttest: 0.1693277\ttest1: 0.2309047\tbest: 0.2309047 (7900)\ttotal: 39m 18s\tremaining: 29.6s\n",
            "7999:\tlearn: 0.1680255\ttest: 0.1680255\ttest1: 0.2298684\tbest: 0.2298684 (7999)\ttotal: 39m 52s\tremaining: 0us\n",
            "\n",
            "bestTest = 0.2298684404\n",
            "bestIteration = 7999\n",
            "\n"
          ]
        },
        {
          "output_type": "execute_result",
          "data": {
            "text/plain": [
              "<catboost.core.CatBoostRegressor at 0x7fb0760a6640>"
            ]
          },
          "metadata": {},
          "execution_count": 86
        }
      ]
    },
    {
      "cell_type": "code",
      "source": [
        "X_test_prediction_cat = reg_catb.predict(X_test_tts)"
      ],
      "metadata": {
        "id": "ENvFyuI73c9Y"
      },
      "execution_count": null,
      "outputs": []
    },
    {
      "cell_type": "code",
      "source": [
        "#error on test dataset\n",
        "\n",
        "score = np.sqrt(mean_squared_error(y_test, X_test_prediction_cat))\n",
        "print(f'RMSE Score on Test set: {score:0.2f}')"
      ],
      "metadata": {
        "colab": {
          "base_uri": "https://localhost:8080/"
        },
        "id": "2AS5ANo73c9Y",
        "outputId": "40c4a25f-7833-451e-af9f-e86478b232c2"
      },
      "execution_count": null,
      "outputs": [
        {
          "output_type": "stream",
          "name": "stdout",
          "text": [
            "RMSE Score on Test set: 0.23\n"
          ]
        }
      ]
    },
    {
      "cell_type": "markdown",
      "source": [
        "### Ver 2"
      ],
      "metadata": {
        "id": "FKBsXiyIM_yT"
      }
    },
    {
      "cell_type": "code",
      "source": [
        "reg_catb  = CatBoostRegressor(n_estimators= 10000, eval_metric= 'RMSE', learning_rate=0.1, random_seed= 1234)\n",
        "\n",
        "reg_catb.fit(X_train, y_train,eval_set=[(X_train, y_train), (X_test_tts, y_test)],verbose=100)"
      ],
      "metadata": {
        "colab": {
          "base_uri": "https://localhost:8080/"
        },
        "id": "kwr4A4wXM4Ug",
        "outputId": "1e7ecd1b-4fce-45ab-994e-a324d79efeff"
      },
      "execution_count": null,
      "outputs": [
        {
          "output_type": "stream",
          "name": "stdout",
          "text": [
            "0:\tlearn: 9.0355720\ttest: 9.0355720\ttest1: 9.0299495\tbest: 9.0299495 (0)\ttotal: 349ms\tremaining: 58m 5s\n",
            "100:\tlearn: 1.3560611\ttest: 1.3560611\ttest1: 1.3571136\tbest: 1.3571136 (100)\ttotal: 28s\tremaining: 45m 41s\n",
            "200:\tlearn: 1.0549009\ttest: 1.0549009\ttest1: 1.0579497\tbest: 1.0579497 (200)\ttotal: 55.7s\tremaining: 45m 15s\n",
            "300:\tlearn: 0.9025142\ttest: 0.9025142\ttest1: 0.9082231\tbest: 0.9082231 (300)\ttotal: 1m 23s\tremaining: 45m 5s\n",
            "400:\tlearn: 0.8045548\ttest: 0.8045548\ttest1: 0.8124419\tbest: 0.8124419 (400)\ttotal: 1m 52s\tremaining: 44m 56s\n",
            "500:\tlearn: 0.7377445\ttest: 0.7377445\ttest1: 0.7476019\tbest: 0.7476019 (500)\ttotal: 2m 20s\tremaining: 44m 31s\n",
            "600:\tlearn: 0.6854472\ttest: 0.6854472\ttest1: 0.6969094\tbest: 0.6969094 (600)\ttotal: 2m 52s\tremaining: 45m 1s\n",
            "700:\tlearn: 0.6446250\ttest: 0.6446250\ttest1: 0.6578441\tbest: 0.6578441 (700)\ttotal: 3m 21s\tremaining: 44m 26s\n",
            "800:\tlearn: 0.6097000\ttest: 0.6097000\ttest1: 0.6241497\tbest: 0.6241497 (800)\ttotal: 3m 49s\tremaining: 43m 52s\n",
            "900:\tlearn: 0.5813826\ttest: 0.5813826\ttest1: 0.5970100\tbest: 0.5970100 (900)\ttotal: 4m 16s\tremaining: 43m 15s\n",
            "1000:\tlearn: 0.5581778\ttest: 0.5581778\ttest1: 0.5750148\tbest: 0.5750148 (1000)\ttotal: 4m 44s\tremaining: 42m 40s\n",
            "1100:\tlearn: 0.5358558\ttest: 0.5358558\ttest1: 0.5537381\tbest: 0.5537381 (1100)\ttotal: 5m 12s\tremaining: 42m 7s\n",
            "1200:\tlearn: 0.5161538\ttest: 0.5161538\ttest1: 0.5349227\tbest: 0.5349227 (1200)\ttotal: 5m 40s\tremaining: 41m 37s\n",
            "1300:\tlearn: 0.4993510\ttest: 0.4993510\ttest1: 0.5192740\tbest: 0.5192740 (1300)\ttotal: 6m 8s\tremaining: 41m 1s\n",
            "1400:\tlearn: 0.4839454\ttest: 0.4839454\ttest1: 0.5047867\tbest: 0.5047867 (1400)\ttotal: 6m 36s\tremaining: 40m 31s\n",
            "1500:\tlearn: 0.4702397\ttest: 0.4702397\ttest1: 0.4920371\tbest: 0.4920371 (1500)\ttotal: 7m 4s\tremaining: 40m 4s\n",
            "1600:\tlearn: 0.4567774\ttest: 0.4567774\ttest1: 0.4795197\tbest: 0.4795197 (1600)\ttotal: 7m 32s\tremaining: 39m 36s\n",
            "1700:\tlearn: 0.4445969\ttest: 0.4445969\ttest1: 0.4681633\tbest: 0.4681633 (1700)\ttotal: 8m 1s\tremaining: 39m 6s\n",
            "1800:\tlearn: 0.4328246\ttest: 0.4328246\ttest1: 0.4571975\tbest: 0.4571975 (1800)\ttotal: 8m 29s\tremaining: 38m 39s\n",
            "1900:\tlearn: 0.4217167\ttest: 0.4217167\ttest1: 0.4468363\tbest: 0.4468363 (1900)\ttotal: 8m 57s\tremaining: 38m 9s\n",
            "2000:\tlearn: 0.4109027\ttest: 0.4109027\ttest1: 0.4367750\tbest: 0.4367750 (2000)\ttotal: 9m 25s\tremaining: 37m 39s\n",
            "2100:\tlearn: 0.4020664\ttest: 0.4020664\ttest1: 0.4285747\tbest: 0.4285747 (2100)\ttotal: 9m 53s\tremaining: 37m 11s\n",
            "2200:\tlearn: 0.3931842\ttest: 0.3931842\ttest1: 0.4202899\tbest: 0.4202899 (2200)\ttotal: 10m 23s\tremaining: 36m 48s\n",
            "2300:\tlearn: 0.3850479\ttest: 0.3850479\ttest1: 0.4128569\tbest: 0.4128569 (2300)\ttotal: 10m 53s\tremaining: 36m 26s\n",
            "2400:\tlearn: 0.3769689\ttest: 0.3769689\ttest1: 0.4054062\tbest: 0.4054062 (2400)\ttotal: 11m 20s\tremaining: 35m 55s\n",
            "2500:\tlearn: 0.3694944\ttest: 0.3694944\ttest1: 0.3984941\tbest: 0.3984941 (2500)\ttotal: 11m 48s\tremaining: 35m 23s\n",
            "2600:\tlearn: 0.3621481\ttest: 0.3621481\ttest1: 0.3916617\tbest: 0.3916617 (2600)\ttotal: 12m 16s\tremaining: 34m 54s\n",
            "2700:\tlearn: 0.3553584\ttest: 0.3553584\ttest1: 0.3854578\tbest: 0.3854578 (2700)\ttotal: 12m 44s\tremaining: 34m 26s\n",
            "2800:\tlearn: 0.3490082\ttest: 0.3490082\ttest1: 0.3795857\tbest: 0.3795857 (2800)\ttotal: 13m 12s\tremaining: 33m 56s\n",
            "2900:\tlearn: 0.3430139\ttest: 0.3430139\ttest1: 0.3740632\tbest: 0.3740632 (2900)\ttotal: 13m 40s\tremaining: 33m 27s\n",
            "3000:\tlearn: 0.3370434\ttest: 0.3370434\ttest1: 0.3686228\tbest: 0.3686228 (3000)\ttotal: 14m 9s\tremaining: 33m\n",
            "3100:\tlearn: 0.3312339\ttest: 0.3312339\ttest1: 0.3634112\tbest: 0.3634112 (3100)\ttotal: 14m 38s\tremaining: 32m 33s\n",
            "3200:\tlearn: 0.3259979\ttest: 0.3259979\ttest1: 0.3585952\tbest: 0.3585952 (3200)\ttotal: 15m 5s\tremaining: 32m 3s\n",
            "3300:\tlearn: 0.3208108\ttest: 0.3208108\ttest1: 0.3538658\tbest: 0.3538658 (3300)\ttotal: 15m 33s\tremaining: 31m 34s\n",
            "3400:\tlearn: 0.3158046\ttest: 0.3158046\ttest1: 0.3492451\tbest: 0.3492451 (3400)\ttotal: 16m\tremaining: 31m 4s\n",
            "3500:\tlearn: 0.3109954\ttest: 0.3109954\ttest1: 0.3448373\tbest: 0.3448373 (3500)\ttotal: 16m 28s\tremaining: 30m 35s\n",
            "3600:\tlearn: 0.3065399\ttest: 0.3065399\ttest1: 0.3408469\tbest: 0.3408469 (3600)\ttotal: 16m 55s\tremaining: 30m 5s\n",
            "3700:\tlearn: 0.3022500\ttest: 0.3022500\ttest1: 0.3370071\tbest: 0.3370071 (3700)\ttotal: 17m 23s\tremaining: 29m 35s\n",
            "3800:\tlearn: 0.2977909\ttest: 0.2977909\ttest1: 0.3329616\tbest: 0.3329616 (3800)\ttotal: 17m 50s\tremaining: 29m 6s\n",
            "3900:\tlearn: 0.2935757\ttest: 0.2935757\ttest1: 0.3291681\tbest: 0.3291681 (3900)\ttotal: 18m 19s\tremaining: 28m 38s\n",
            "4000:\tlearn: 0.2896210\ttest: 0.2896210\ttest1: 0.3256173\tbest: 0.3256173 (4000)\ttotal: 18m 48s\tremaining: 28m 12s\n",
            "4100:\tlearn: 0.2856479\ttest: 0.2856479\ttest1: 0.3220171\tbest: 0.3220171 (4100)\ttotal: 19m 17s\tremaining: 27m 44s\n",
            "4200:\tlearn: 0.2820079\ttest: 0.2820079\ttest1: 0.3188230\tbest: 0.3188230 (4200)\ttotal: 19m 45s\tremaining: 27m 15s\n",
            "4300:\tlearn: 0.2785008\ttest: 0.2785008\ttest1: 0.3156478\tbest: 0.3156478 (4300)\ttotal: 20m 12s\tremaining: 26m 46s\n",
            "4400:\tlearn: 0.2751019\ttest: 0.2751019\ttest1: 0.3126036\tbest: 0.3126036 (4400)\ttotal: 20m 40s\tremaining: 26m 18s\n",
            "4500:\tlearn: 0.2715929\ttest: 0.2715929\ttest1: 0.3095579\tbest: 0.3095579 (4500)\ttotal: 21m 8s\tremaining: 25m 49s\n",
            "4600:\tlearn: 0.2684218\ttest: 0.2684218\ttest1: 0.3067129\tbest: 0.3067129 (4600)\ttotal: 21m 35s\tremaining: 25m 20s\n",
            "4700:\tlearn: 0.2653130\ttest: 0.2653130\ttest1: 0.3039265\tbest: 0.3039265 (4700)\ttotal: 22m 3s\tremaining: 24m 52s\n",
            "4800:\tlearn: 0.2622028\ttest: 0.2622028\ttest1: 0.3011594\tbest: 0.3011594 (4800)\ttotal: 22m 31s\tremaining: 24m 23s\n",
            "4900:\tlearn: 0.2592026\ttest: 0.2592026\ttest1: 0.2985432\tbest: 0.2985432 (4900)\ttotal: 22m 59s\tremaining: 23m 54s\n",
            "5000:\tlearn: 0.2563260\ttest: 0.2563260\ttest1: 0.2960281\tbest: 0.2960281 (5000)\ttotal: 23m 27s\tremaining: 23m 26s\n",
            "5100:\tlearn: 0.2534713\ttest: 0.2534713\ttest1: 0.2935004\tbest: 0.2935004 (5100)\ttotal: 23m 56s\tremaining: 22m 59s\n",
            "5200:\tlearn: 0.2507810\ttest: 0.2507810\ttest1: 0.2910992\tbest: 0.2910992 (5200)\ttotal: 24m 24s\tremaining: 22m 30s\n",
            "5300:\tlearn: 0.2481340\ttest: 0.2481340\ttest1: 0.2887545\tbest: 0.2887545 (5300)\ttotal: 24m 52s\tremaining: 22m 2s\n",
            "5400:\tlearn: 0.2455544\ttest: 0.2455544\ttest1: 0.2864753\tbest: 0.2864753 (5400)\ttotal: 25m 20s\tremaining: 21m 34s\n",
            "5500:\tlearn: 0.2431521\ttest: 0.2431521\ttest1: 0.2843342\tbest: 0.2843342 (5500)\ttotal: 25m 47s\tremaining: 21m 5s\n",
            "5600:\tlearn: 0.2406029\ttest: 0.2406029\ttest1: 0.2820225\tbest: 0.2820225 (5600)\ttotal: 26m 15s\tremaining: 20m 37s\n",
            "5700:\tlearn: 0.2382911\ttest: 0.2382911\ttest1: 0.2799744\tbest: 0.2799744 (5700)\ttotal: 26m 44s\tremaining: 20m 9s\n",
            "5800:\tlearn: 0.2359321\ttest: 0.2359321\ttest1: 0.2778950\tbest: 0.2778950 (5800)\ttotal: 27m 12s\tremaining: 19m 41s\n",
            "5900:\tlearn: 0.2335616\ttest: 0.2335616\ttest1: 0.2757916\tbest: 0.2757916 (5900)\ttotal: 27m 40s\tremaining: 19m 13s\n",
            "6000:\tlearn: 0.2313036\ttest: 0.2313036\ttest1: 0.2737821\tbest: 0.2737821 (6000)\ttotal: 28m 8s\tremaining: 18m 45s\n",
            "6100:\tlearn: 0.2291985\ttest: 0.2291985\ttest1: 0.2719441\tbest: 0.2719441 (6100)\ttotal: 28m 35s\tremaining: 18m 16s\n",
            "6200:\tlearn: 0.2270243\ttest: 0.2270243\ttest1: 0.2699385\tbest: 0.2699385 (6200)\ttotal: 29m 5s\tremaining: 17m 49s\n",
            "6300:\tlearn: 0.2249124\ttest: 0.2249124\ttest1: 0.2680731\tbest: 0.2680731 (6300)\ttotal: 29m 44s\tremaining: 17m 27s\n",
            "6400:\tlearn: 0.2228832\ttest: 0.2228832\ttest1: 0.2663143\tbest: 0.2663143 (6400)\ttotal: 30m 14s\tremaining: 17m\n",
            "6500:\tlearn: 0.2209457\ttest: 0.2209457\ttest1: 0.2646265\tbest: 0.2646265 (6500)\ttotal: 30m 41s\tremaining: 16m 31s\n",
            "6600:\tlearn: 0.2190231\ttest: 0.2190231\ttest1: 0.2629834\tbest: 0.2629834 (6600)\ttotal: 31m 9s\tremaining: 16m 2s\n",
            "6700:\tlearn: 0.2170464\ttest: 0.2170464\ttest1: 0.2612498\tbest: 0.2612498 (6700)\ttotal: 31m 37s\tremaining: 15m 34s\n",
            "6800:\tlearn: 0.2151344\ttest: 0.2151344\ttest1: 0.2595591\tbest: 0.2595591 (6800)\ttotal: 32m 4s\tremaining: 15m 5s\n",
            "6900:\tlearn: 0.2132898\ttest: 0.2132898\ttest1: 0.2579657\tbest: 0.2579657 (6900)\ttotal: 32m 32s\tremaining: 14m 36s\n",
            "7000:\tlearn: 0.2115364\ttest: 0.2115364\ttest1: 0.2564178\tbest: 0.2564178 (7000)\ttotal: 32m 59s\tremaining: 14m 8s\n",
            "7100:\tlearn: 0.2098613\ttest: 0.2098613\ttest1: 0.2549864\tbest: 0.2549864 (7100)\ttotal: 33m 26s\tremaining: 13m 39s\n",
            "7200:\tlearn: 0.2081532\ttest: 0.2081532\ttest1: 0.2535552\tbest: 0.2535552 (7200)\ttotal: 33m 54s\tremaining: 13m 10s\n",
            "7300:\tlearn: 0.2065303\ttest: 0.2065303\ttest1: 0.2521715\tbest: 0.2521715 (7300)\ttotal: 34m 25s\tremaining: 12m 43s\n",
            "7400:\tlearn: 0.2048424\ttest: 0.2048424\ttest1: 0.2506851\tbest: 0.2506851 (7400)\ttotal: 34m 55s\tremaining: 12m 15s\n",
            "7500:\tlearn: 0.2032343\ttest: 0.2032343\ttest1: 0.2492888\tbest: 0.2492888 (7500)\ttotal: 35m 24s\tremaining: 11m 47s\n",
            "7600:\tlearn: 0.2016306\ttest: 0.2016306\ttest1: 0.2478779\tbest: 0.2478779 (7600)\ttotal: 35m 53s\tremaining: 11m 19s\n",
            "7700:\tlearn: 0.2000718\ttest: 0.2000718\ttest1: 0.2465447\tbest: 0.2465447 (7700)\ttotal: 36m 21s\tremaining: 10m 51s\n",
            "7800:\tlearn: 0.1985190\ttest: 0.1985190\ttest1: 0.2451884\tbest: 0.2451884 (7800)\ttotal: 36m 49s\tremaining: 10m 22s\n",
            "7900:\tlearn: 0.1970595\ttest: 0.1970595\ttest1: 0.2439517\tbest: 0.2439517 (7900)\ttotal: 37m 18s\tremaining: 9m 54s\n",
            "8000:\tlearn: 0.1955562\ttest: 0.1955562\ttest1: 0.2426808\tbest: 0.2426808 (8000)\ttotal: 37m 46s\tremaining: 9m 26s\n",
            "8100:\tlearn: 0.1941208\ttest: 0.1941208\ttest1: 0.2414888\tbest: 0.2414888 (8100)\ttotal: 38m 15s\tremaining: 8m 58s\n",
            "8200:\tlearn: 0.1926512\ttest: 0.1926512\ttest1: 0.2402556\tbest: 0.2402556 (8200)\ttotal: 38m 43s\tremaining: 8m 29s\n",
            "8300:\tlearn: 0.1912633\ttest: 0.1912633\ttest1: 0.2390702\tbest: 0.2390702 (8300)\ttotal: 39m 11s\tremaining: 8m 1s\n",
            "8400:\tlearn: 0.1898903\ttest: 0.1898903\ttest1: 0.2378752\tbest: 0.2378752 (8400)\ttotal: 39m 39s\tremaining: 7m 32s\n",
            "8500:\tlearn: 0.1885343\ttest: 0.1885343\ttest1: 0.2367142\tbest: 0.2367142 (8500)\ttotal: 40m 7s\tremaining: 7m 4s\n",
            "8600:\tlearn: 0.1871723\ttest: 0.1871723\ttest1: 0.2355568\tbest: 0.2355568 (8600)\ttotal: 40m 35s\tremaining: 6m 36s\n",
            "8700:\tlearn: 0.1858650\ttest: 0.1858650\ttest1: 0.2344165\tbest: 0.2344165 (8700)\ttotal: 41m 4s\tremaining: 6m 7s\n",
            "8800:\tlearn: 0.1846666\ttest: 0.1846666\ttest1: 0.2334421\tbest: 0.2334421 (8800)\ttotal: 41m 32s\tremaining: 5m 39s\n",
            "8900:\tlearn: 0.1834089\ttest: 0.1834089\ttest1: 0.2323958\tbest: 0.2323958 (8900)\ttotal: 42m 1s\tremaining: 5m 11s\n",
            "9000:\tlearn: 0.1821929\ttest: 0.1821929\ttest1: 0.2313629\tbest: 0.2313629 (9000)\ttotal: 42m 28s\tremaining: 4m 42s\n",
            "9100:\tlearn: 0.1809783\ttest: 0.1809783\ttest1: 0.2303416\tbest: 0.2303416 (9100)\ttotal: 42m 55s\tremaining: 4m 14s\n",
            "9200:\tlearn: 0.1797736\ttest: 0.1797736\ttest1: 0.2293162\tbest: 0.2293162 (9200)\ttotal: 43m 23s\tremaining: 3m 46s\n",
            "9300:\tlearn: 0.1786072\ttest: 0.1786072\ttest1: 0.2283159\tbest: 0.2283159 (9300)\ttotal: 43m 51s\tremaining: 3m 17s\n",
            "9400:\tlearn: 0.1774140\ttest: 0.1774140\ttest1: 0.2273505\tbest: 0.2273505 (9400)\ttotal: 44m 19s\tremaining: 2m 49s\n",
            "9500:\tlearn: 0.1762709\ttest: 0.1762709\ttest1: 0.2263861\tbest: 0.2263861 (9500)\ttotal: 44m 46s\tremaining: 2m 21s\n",
            "9600:\tlearn: 0.1751087\ttest: 0.1751087\ttest1: 0.2254057\tbest: 0.2254057 (9600)\ttotal: 45m 15s\tremaining: 1m 52s\n",
            "9700:\tlearn: 0.1740115\ttest: 0.1740115\ttest1: 0.2245349\tbest: 0.2245349 (9700)\ttotal: 45m 43s\tremaining: 1m 24s\n",
            "9800:\tlearn: 0.1729325\ttest: 0.1729325\ttest1: 0.2236027\tbest: 0.2236027 (9800)\ttotal: 46m 10s\tremaining: 56.2s\n",
            "9900:\tlearn: 0.1718355\ttest: 0.1718355\ttest1: 0.2226749\tbest: 0.2226749 (9900)\ttotal: 46m 37s\tremaining: 28s\n",
            "9999:\tlearn: 0.1708328\ttest: 0.1708328\ttest1: 0.2218722\tbest: 0.2218722 (9999)\ttotal: 47m 4s\tremaining: 0us\n",
            "\n",
            "bestTest = 0.2218721724\n",
            "bestIteration = 9999\n",
            "\n"
          ]
        },
        {
          "output_type": "execute_result",
          "data": {
            "text/plain": [
              "<catboost.core.CatBoostRegressor at 0x7fb075ea70d0>"
            ]
          },
          "metadata": {},
          "execution_count": 61
        }
      ]
    },
    {
      "cell_type": "code",
      "source": [
        "reg_catb  = CatBoostRegressor(n_estimators= 12000, eval_metric= 'RMSE', learning_rate=0.15, random_seed= 1234)\n",
        "\n",
        "reg_catb.fit(X_train, y_train,eval_set=[(X_train, y_train), (X_test_tts, y_test)],verbose=100)"
      ],
      "metadata": {
        "colab": {
          "base_uri": "https://localhost:8080/"
        },
        "id": "4G4pehgRaYoj",
        "outputId": "5f83cc65-9ff7-4c02-e66a-6e0230c31024"
      },
      "execution_count": null,
      "outputs": [
        {
          "output_type": "stream",
          "name": "stdout",
          "text": [
            "0:\tlearn: 8.6240684\ttest: 8.6240684\ttest1: 8.6191663\tbest: 8.6191663 (0)\ttotal: 373ms\tremaining: 1h 14m 39s\n",
            "100:\tlearn: 1.2014598\ttest: 1.2014598\ttest1: 1.2038819\tbest: 1.2038819 (100)\ttotal: 28.4s\tremaining: 55m 45s\n",
            "200:\tlearn: 0.9317099\ttest: 0.9317099\ttest1: 0.9383944\tbest: 0.9383944 (200)\ttotal: 57s\tremaining: 55m 47s\n",
            "300:\tlearn: 0.8018299\ttest: 0.8018299\ttest1: 0.8118938\tbest: 0.8118938 (300)\ttotal: 1m 25s\tremaining: 55m 38s\n",
            "400:\tlearn: 0.7183685\ttest: 0.7183685\ttest1: 0.7302229\tbest: 0.7302229 (400)\ttotal: 1m 54s\tremaining: 55m 3s\n",
            "500:\tlearn: 0.6587461\ttest: 0.6587461\ttest1: 0.6733076\tbest: 0.6733076 (500)\ttotal: 2m 22s\tremaining: 54m 26s\n",
            "600:\tlearn: 0.6088791\ttest: 0.6088791\ttest1: 0.6250683\tbest: 0.6250683 (600)\ttotal: 2m 51s\tremaining: 54m 3s\n",
            "700:\tlearn: 0.5728726\ttest: 0.5728726\ttest1: 0.5907519\tbest: 0.5907519 (700)\ttotal: 3m 19s\tremaining: 53m 29s\n",
            "800:\tlearn: 0.5420765\ttest: 0.5420765\ttest1: 0.5614488\tbest: 0.5614488 (800)\ttotal: 3m 47s\tremaining: 52m 57s\n",
            "900:\tlearn: 0.5154538\ttest: 0.5154538\ttest1: 0.5361838\tbest: 0.5361838 (900)\ttotal: 4m 15s\tremaining: 52m 24s\n",
            "1000:\tlearn: 0.4917818\ttest: 0.4917818\ttest1: 0.5140809\tbest: 0.5140809 (1000)\ttotal: 4m 43s\tremaining: 51m 58s\n",
            "1100:\tlearn: 0.4713522\ttest: 0.4713522\ttest1: 0.4947847\tbest: 0.4947847 (1100)\ttotal: 5m 13s\tremaining: 51m 39s\n",
            "1200:\tlearn: 0.4530522\ttest: 0.4530522\ttest1: 0.4779583\tbest: 0.4779583 (1200)\ttotal: 5m 41s\tremaining: 51m 13s\n",
            "1300:\tlearn: 0.4361768\ttest: 0.4361768\ttest1: 0.4623623\tbest: 0.4623623 (1300)\ttotal: 6m 11s\tremaining: 50m 52s\n",
            "1400:\tlearn: 0.4214128\ttest: 0.4214128\ttest1: 0.4487132\tbest: 0.4487132 (1400)\ttotal: 6m 39s\tremaining: 50m 21s\n",
            "1500:\tlearn: 0.4082298\ttest: 0.4082298\ttest1: 0.4365280\tbest: 0.4365280 (1500)\ttotal: 7m 7s\tremaining: 49m 48s\n",
            "1600:\tlearn: 0.3959318\ttest: 0.3959318\ttest1: 0.4251685\tbest: 0.4251685 (1600)\ttotal: 7m 35s\tremaining: 49m 16s\n",
            "1700:\tlearn: 0.3847144\ttest: 0.3847144\ttest1: 0.4148486\tbest: 0.4148486 (1700)\ttotal: 8m 2s\tremaining: 48m 43s\n",
            "1800:\tlearn: 0.3739631\ttest: 0.3739631\ttest1: 0.4048093\tbest: 0.4048093 (1800)\ttotal: 8m 30s\tremaining: 48m 10s\n",
            "1900:\tlearn: 0.3641310\ttest: 0.3641310\ttest1: 0.3959214\tbest: 0.3959214 (1900)\ttotal: 8m 59s\tremaining: 47m 46s\n",
            "2000:\tlearn: 0.3548438\ttest: 0.3548438\ttest1: 0.3874313\tbest: 0.3874313 (2000)\ttotal: 9m 27s\tremaining: 47m 17s\n",
            "2100:\tlearn: 0.3459545\ttest: 0.3459545\ttest1: 0.3793518\tbest: 0.3793518 (2100)\ttotal: 9m 55s\tremaining: 46m 46s\n",
            "2200:\tlearn: 0.3379440\ttest: 0.3379440\ttest1: 0.3720026\tbest: 0.3720026 (2200)\ttotal: 10m 24s\tremaining: 46m 18s\n",
            "2300:\tlearn: 0.3302439\ttest: 0.3302439\ttest1: 0.3651609\tbest: 0.3651609 (2300)\ttotal: 10m 52s\tremaining: 45m 51s\n",
            "2400:\tlearn: 0.3228092\ttest: 0.3228092\ttest1: 0.3583467\tbest: 0.3583467 (2400)\ttotal: 11m 21s\tremaining: 45m 24s\n",
            "2500:\tlearn: 0.3159694\ttest: 0.3159694\ttest1: 0.3523476\tbest: 0.3523476 (2500)\ttotal: 11m 48s\tremaining: 44m 52s\n",
            "2600:\tlearn: 0.3094604\ttest: 0.3094604\ttest1: 0.3464333\tbest: 0.3464333 (2600)\ttotal: 12m 17s\tremaining: 44m 26s\n",
            "2700:\tlearn: 0.3032030\ttest: 0.3032030\ttest1: 0.3409509\tbest: 0.3409509 (2700)\ttotal: 12m 46s\tremaining: 43m 58s\n",
            "2800:\tlearn: 0.2973506\ttest: 0.2973506\ttest1: 0.3357243\tbest: 0.3357243 (2800)\ttotal: 13m 15s\tremaining: 43m 33s\n",
            "2900:\tlearn: 0.2918605\ttest: 0.2918605\ttest1: 0.3307717\tbest: 0.3307717 (2900)\ttotal: 13m 43s\tremaining: 43m 3s\n",
            "3000:\tlearn: 0.2864383\ttest: 0.2864383\ttest1: 0.3259508\tbest: 0.3259508 (3000)\ttotal: 14m 11s\tremaining: 42m 33s\n",
            "3100:\tlearn: 0.2814368\ttest: 0.2814368\ttest1: 0.3215247\tbest: 0.3215247 (3100)\ttotal: 14m 39s\tremaining: 42m 3s\n",
            "3200:\tlearn: 0.2766654\ttest: 0.2766654\ttest1: 0.3172222\tbest: 0.3172222 (3200)\ttotal: 15m 7s\tremaining: 41m 33s\n",
            "3300:\tlearn: 0.2720399\ttest: 0.2720399\ttest1: 0.3131207\tbest: 0.3131207 (3300)\ttotal: 15m 34s\tremaining: 41m 2s\n",
            "3400:\tlearn: 0.2677072\ttest: 0.2677072\ttest1: 0.3092811\tbest: 0.3092811 (3400)\ttotal: 16m 2s\tremaining: 40m 33s\n",
            "3500:\tlearn: 0.2634293\ttest: 0.2634293\ttest1: 0.3055209\tbest: 0.3055209 (3500)\ttotal: 16m 29s\tremaining: 40m 2s\n",
            "3600:\tlearn: 0.2594259\ttest: 0.2594259\ttest1: 0.3019949\tbest: 0.3019949 (3600)\ttotal: 16m 57s\tremaining: 39m 33s\n",
            "3700:\tlearn: 0.2554056\ttest: 0.2554056\ttest1: 0.2984382\tbest: 0.2984382 (3700)\ttotal: 17m 27s\tremaining: 39m 8s\n",
            "3800:\tlearn: 0.2516928\ttest: 0.2516928\ttest1: 0.2951729\tbest: 0.2951729 (3800)\ttotal: 17m 53s\tremaining: 38m 35s\n",
            "3900:\tlearn: 0.2480771\ttest: 0.2480771\ttest1: 0.2920494\tbest: 0.2920494 (3900)\ttotal: 18m 21s\tremaining: 38m 6s\n",
            "4000:\tlearn: 0.2445901\ttest: 0.2445901\ttest1: 0.2890179\tbest: 0.2890179 (4000)\ttotal: 18m 49s\tremaining: 37m 38s\n",
            "4100:\tlearn: 0.2411652\ttest: 0.2411652\ttest1: 0.2861113\tbest: 0.2861113 (4100)\ttotal: 19m 17s\tremaining: 37m 9s\n",
            "4200:\tlearn: 0.2379316\ttest: 0.2379316\ttest1: 0.2833190\tbest: 0.2833190 (4200)\ttotal: 19m 44s\tremaining: 36m 39s\n",
            "4300:\tlearn: 0.2348069\ttest: 0.2348069\ttest1: 0.2805904\tbest: 0.2805904 (4300)\ttotal: 20m 13s\tremaining: 36m 12s\n",
            "4400:\tlearn: 0.2315221\ttest: 0.2315221\ttest1: 0.2776653\tbest: 0.2776653 (4400)\ttotal: 20m 41s\tremaining: 35m 44s\n",
            "4500:\tlearn: 0.2286309\ttest: 0.2286309\ttest1: 0.2752082\tbest: 0.2752082 (4500)\ttotal: 21m 8s\tremaining: 35m 13s\n",
            "4600:\tlearn: 0.2257496\ttest: 0.2257496\ttest1: 0.2727186\tbest: 0.2727186 (4600)\ttotal: 21m 36s\tremaining: 34m 44s\n",
            "4700:\tlearn: 0.2228530\ttest: 0.2228530\ttest1: 0.2702037\tbest: 0.2702037 (4700)\ttotal: 22m 4s\tremaining: 34m 17s\n",
            "4800:\tlearn: 0.2201833\ttest: 0.2201833\ttest1: 0.2679001\tbest: 0.2679001 (4800)\ttotal: 22m 32s\tremaining: 33m 48s\n",
            "4900:\tlearn: 0.2175107\ttest: 0.2175107\ttest1: 0.2656140\tbest: 0.2656140 (4900)\ttotal: 23m 1s\tremaining: 33m 21s\n",
            "5000:\tlearn: 0.2149934\ttest: 0.2149934\ttest1: 0.2635066\tbest: 0.2635066 (5000)\ttotal: 23m 30s\tremaining: 32m 54s\n",
            "5100:\tlearn: 0.2124489\ttest: 0.2124489\ttest1: 0.2613617\tbest: 0.2613617 (5100)\ttotal: 23m 58s\tremaining: 32m 26s\n",
            "5200:\tlearn: 0.2100972\ttest: 0.2100972\ttest1: 0.2593618\tbest: 0.2593618 (5200)\ttotal: 24m 26s\tremaining: 31m 57s\n",
            "5300:\tlearn: 0.2077457\ttest: 0.2077457\ttest1: 0.2573452\tbest: 0.2573452 (5300)\ttotal: 24m 53s\tremaining: 31m 27s\n",
            "5400:\tlearn: 0.2055397\ttest: 0.2055397\ttest1: 0.2554407\tbest: 0.2554407 (5400)\ttotal: 25m 21s\tremaining: 30m 58s\n",
            "5500:\tlearn: 0.2032689\ttest: 0.2032689\ttest1: 0.2535479\tbest: 0.2535479 (5500)\ttotal: 25m 49s\tremaining: 30m 30s\n",
            "5600:\tlearn: 0.2011382\ttest: 0.2011382\ttest1: 0.2517491\tbest: 0.2517491 (5600)\ttotal: 26m 17s\tremaining: 30m 2s\n",
            "5700:\tlearn: 0.1990618\ttest: 0.1990618\ttest1: 0.2500507\tbest: 0.2500507 (5700)\ttotal: 26m 45s\tremaining: 29m 33s\n",
            "5800:\tlearn: 0.1970916\ttest: 0.1970916\ttest1: 0.2484062\tbest: 0.2484062 (5800)\ttotal: 27m 13s\tremaining: 29m 5s\n",
            "5900:\tlearn: 0.1952159\ttest: 0.1952159\ttest1: 0.2469142\tbest: 0.2469142 (5900)\ttotal: 27m 40s\tremaining: 28m 36s\n",
            "6000:\tlearn: 0.1932503\ttest: 0.1932503\ttest1: 0.2453185\tbest: 0.2453185 (6000)\ttotal: 28m 8s\tremaining: 28m 7s\n",
            "6100:\tlearn: 0.1913648\ttest: 0.1913648\ttest1: 0.2437511\tbest: 0.2437511 (6100)\ttotal: 28m 35s\tremaining: 27m 39s\n",
            "6200:\tlearn: 0.1894607\ttest: 0.1894607\ttest1: 0.2421747\tbest: 0.2421747 (6200)\ttotal: 29m 3s\tremaining: 27m 10s\n",
            "6300:\tlearn: 0.1876919\ttest: 0.1876919\ttest1: 0.2407346\tbest: 0.2407346 (6300)\ttotal: 29m 30s\tremaining: 26m 41s\n",
            "6400:\tlearn: 0.1859492\ttest: 0.1859492\ttest1: 0.2393531\tbest: 0.2393531 (6400)\ttotal: 29m 57s\tremaining: 26m 12s\n",
            "6500:\tlearn: 0.1842090\ttest: 0.1842090\ttest1: 0.2378768\tbest: 0.2378768 (6500)\ttotal: 30m 25s\tremaining: 25m 44s\n",
            "6600:\tlearn: 0.1825701\ttest: 0.1825701\ttest1: 0.2365529\tbest: 0.2365529 (6600)\ttotal: 30m 52s\tremaining: 25m 15s\n",
            "6700:\tlearn: 0.1809098\ttest: 0.1809098\ttest1: 0.2351924\tbest: 0.2351924 (6700)\ttotal: 31m 19s\tremaining: 24m 46s\n",
            "6800:\tlearn: 0.1792876\ttest: 0.1792876\ttest1: 0.2338852\tbest: 0.2338852 (6800)\ttotal: 31m 46s\tremaining: 24m 17s\n",
            "6900:\tlearn: 0.1777453\ttest: 0.1777453\ttest1: 0.2326687\tbest: 0.2326687 (6900)\ttotal: 32m 14s\tremaining: 23m 49s\n",
            "7000:\tlearn: 0.1762781\ttest: 0.1762781\ttest1: 0.2314838\tbest: 0.2314838 (7000)\ttotal: 32m 40s\tremaining: 23m 20s\n",
            "7100:\tlearn: 0.1747746\ttest: 0.1747746\ttest1: 0.2302730\tbest: 0.2302730 (7100)\ttotal: 33m 8s\tremaining: 22m 51s\n",
            "7200:\tlearn: 0.1732765\ttest: 0.1732765\ttest1: 0.2290083\tbest: 0.2290083 (7200)\ttotal: 33m 36s\tremaining: 22m 23s\n",
            "7300:\tlearn: 0.1717644\ttest: 0.1717644\ttest1: 0.2278213\tbest: 0.2278213 (7300)\ttotal: 34m 6s\tremaining: 21m 56s\n",
            "7400:\tlearn: 0.1703055\ttest: 0.1703055\ttest1: 0.2265918\tbest: 0.2265918 (7400)\ttotal: 34m 34s\tremaining: 21m 29s\n",
            "7500:\tlearn: 0.1689279\ttest: 0.1689279\ttest1: 0.2255475\tbest: 0.2255475 (7500)\ttotal: 35m 1s\tremaining: 21m\n",
            "7600:\tlearn: 0.1675755\ttest: 0.1675755\ttest1: 0.2244465\tbest: 0.2244465 (7600)\ttotal: 35m 27s\tremaining: 20m 31s\n",
            "7700:\tlearn: 0.1661940\ttest: 0.1661940\ttest1: 0.2233170\tbest: 0.2233170 (7700)\ttotal: 35m 54s\tremaining: 20m 2s\n",
            "7800:\tlearn: 0.1648917\ttest: 0.1648917\ttest1: 0.2222988\tbest: 0.2222988 (7800)\ttotal: 36m 21s\tremaining: 19m 34s\n",
            "7900:\tlearn: 0.1636441\ttest: 0.1636441\ttest1: 0.2213214\tbest: 0.2213214 (7900)\ttotal: 36m 48s\tremaining: 19m 5s\n",
            "8000:\tlearn: 0.1623946\ttest: 0.1623946\ttest1: 0.2203488\tbest: 0.2203488 (8000)\ttotal: 37m 16s\tremaining: 18m 37s\n",
            "8100:\tlearn: 0.1611705\ttest: 0.1611705\ttest1: 0.2193742\tbest: 0.2193742 (8100)\ttotal: 37m 42s\tremaining: 18m 9s\n",
            "8200:\tlearn: 0.1599316\ttest: 0.1599316\ttest1: 0.2183769\tbest: 0.2183769 (8200)\ttotal: 38m 10s\tremaining: 17m 41s\n",
            "8300:\tlearn: 0.1587126\ttest: 0.1587126\ttest1: 0.2174442\tbest: 0.2174442 (8300)\ttotal: 38m 38s\tremaining: 17m 13s\n",
            "8400:\tlearn: 0.1574999\ttest: 0.1574999\ttest1: 0.2164962\tbest: 0.2164962 (8400)\ttotal: 39m 6s\tremaining: 16m 45s\n",
            "8500:\tlearn: 0.1563208\ttest: 0.1563208\ttest1: 0.2155675\tbest: 0.2155675 (8500)\ttotal: 39m 33s\tremaining: 16m 17s\n",
            "8600:\tlearn: 0.1552361\ttest: 0.1552361\ttest1: 0.2147239\tbest: 0.2147239 (8600)\ttotal: 40m 3s\tremaining: 15m 49s\n",
            "8700:\tlearn: 0.1541457\ttest: 0.1541457\ttest1: 0.2138705\tbest: 0.2138705 (8700)\ttotal: 40m 30s\tremaining: 15m 21s\n",
            "8800:\tlearn: 0.1530441\ttest: 0.1530441\ttest1: 0.2130401\tbest: 0.2130401 (8800)\ttotal: 40m 58s\tremaining: 14m 53s\n",
            "8900:\tlearn: 0.1520166\ttest: 0.1520166\ttest1: 0.2122310\tbest: 0.2122310 (8900)\ttotal: 41m 25s\tremaining: 14m 25s\n",
            "9000:\tlearn: 0.1509719\ttest: 0.1509719\ttest1: 0.2114425\tbest: 0.2114425 (9000)\ttotal: 41m 52s\tremaining: 13m 57s\n",
            "9100:\tlearn: 0.1499439\ttest: 0.1499439\ttest1: 0.2105964\tbest: 0.2105964 (9100)\ttotal: 42m 18s\tremaining: 13m 28s\n",
            "9200:\tlearn: 0.1489277\ttest: 0.1489277\ttest1: 0.2098083\tbest: 0.2098083 (9200)\ttotal: 42m 46s\tremaining: 13m\n",
            "9300:\tlearn: 0.1479274\ttest: 0.1479274\ttest1: 0.2090234\tbest: 0.2090234 (9300)\ttotal: 43m 12s\tremaining: 12m 32s\n",
            "9400:\tlearn: 0.1469412\ttest: 0.1469412\ttest1: 0.2083061\tbest: 0.2083061 (9400)\ttotal: 43m 39s\tremaining: 12m 4s\n",
            "9500:\tlearn: 0.1459536\ttest: 0.1459536\ttest1: 0.2075659\tbest: 0.2075659 (9500)\ttotal: 44m 6s\tremaining: 11m 36s\n",
            "9600:\tlearn: 0.1450284\ttest: 0.1450284\ttest1: 0.2068275\tbest: 0.2068275 (9600)\ttotal: 44m 33s\tremaining: 11m 7s\n",
            "9700:\tlearn: 0.1441317\ttest: 0.1441317\ttest1: 0.2061451\tbest: 0.2061451 (9700)\ttotal: 44m 59s\tremaining: 10m 39s\n",
            "9800:\tlearn: 0.1431841\ttest: 0.1431841\ttest1: 0.2054188\tbest: 0.2054188 (9800)\ttotal: 45m 26s\tremaining: 10m 11s\n",
            "9900:\tlearn: 0.1422753\ttest: 0.1422753\ttest1: 0.2047507\tbest: 0.2047507 (9900)\ttotal: 45m 53s\tremaining: 9m 43s\n",
            "10000:\tlearn: 0.1414112\ttest: 0.1414112\ttest1: 0.2040941\tbest: 0.2040941 (10000)\ttotal: 46m 22s\tremaining: 9m 16s\n",
            "10100:\tlearn: 0.1405225\ttest: 0.1405225\ttest1: 0.2034670\tbest: 0.2034670 (10100)\ttotal: 46m 49s\tremaining: 8m 48s\n",
            "10200:\tlearn: 0.1396390\ttest: 0.1396390\ttest1: 0.2028151\tbest: 0.2028151 (10200)\ttotal: 47m 17s\tremaining: 8m 20s\n",
            "10300:\tlearn: 0.1387684\ttest: 0.1387684\ttest1: 0.2021625\tbest: 0.2021625 (10300)\ttotal: 47m 44s\tremaining: 7m 52s\n",
            "10400:\tlearn: 0.1379262\ttest: 0.1379262\ttest1: 0.2015218\tbest: 0.2015218 (10400)\ttotal: 48m 11s\tremaining: 7m 24s\n",
            "10500:\tlearn: 0.1371547\ttest: 0.1371547\ttest1: 0.2009320\tbest: 0.2009320 (10500)\ttotal: 48m 38s\tremaining: 6m 56s\n",
            "10600:\tlearn: 0.1363138\ttest: 0.1363138\ttest1: 0.2002951\tbest: 0.2002951 (10600)\ttotal: 49m 5s\tremaining: 6m 28s\n",
            "10700:\tlearn: 0.1354760\ttest: 0.1354760\ttest1: 0.1996278\tbest: 0.1996278 (10700)\ttotal: 49m 32s\tremaining: 6m\n",
            "10800:\tlearn: 0.1347002\ttest: 0.1347002\ttest1: 0.1990657\tbest: 0.1990657 (10800)\ttotal: 49m 59s\tremaining: 5m 32s\n",
            "10900:\tlearn: 0.1339148\ttest: 0.1339148\ttest1: 0.1984778\tbest: 0.1984778 (10900)\ttotal: 50m 26s\tremaining: 5m 5s\n",
            "11000:\tlearn: 0.1331456\ttest: 0.1331456\ttest1: 0.1979114\tbest: 0.1979114 (11000)\ttotal: 50m 54s\tremaining: 4m 37s\n",
            "11100:\tlearn: 0.1323578\ttest: 0.1323578\ttest1: 0.1973259\tbest: 0.1973259 (11100)\ttotal: 51m 21s\tremaining: 4m 9s\n",
            "11200:\tlearn: 0.1315754\ttest: 0.1315754\ttest1: 0.1967548\tbest: 0.1967548 (11200)\ttotal: 51m 49s\tremaining: 3m 41s\n",
            "11300:\tlearn: 0.1308356\ttest: 0.1308356\ttest1: 0.1962203\tbest: 0.1962203 (11300)\ttotal: 52m 16s\tremaining: 3m 13s\n",
            "11400:\tlearn: 0.1301231\ttest: 0.1301231\ttest1: 0.1957116\tbest: 0.1957116 (11400)\ttotal: 52m 43s\tremaining: 2m 46s\n",
            "11500:\tlearn: 0.1293874\ttest: 0.1293874\ttest1: 0.1951891\tbest: 0.1951891 (11500)\ttotal: 53m 9s\tremaining: 2m 18s\n",
            "11600:\tlearn: 0.1286555\ttest: 0.1286555\ttest1: 0.1946351\tbest: 0.1946351 (11600)\ttotal: 53m 36s\tremaining: 1m 50s\n",
            "11700:\tlearn: 0.1279272\ttest: 0.1279272\ttest1: 0.1940893\tbest: 0.1940893 (11700)\ttotal: 54m 4s\tremaining: 1m 22s\n",
            "11800:\tlearn: 0.1272367\ttest: 0.1272367\ttest1: 0.1935813\tbest: 0.1935813 (11800)\ttotal: 54m 31s\tremaining: 55.2s\n",
            "11900:\tlearn: 0.1265292\ttest: 0.1265292\ttest1: 0.1930652\tbest: 0.1930652 (11900)\ttotal: 54m 57s\tremaining: 27.4s\n",
            "11999:\tlearn: 0.1258433\ttest: 0.1258433\ttest1: 0.1925555\tbest: 0.1925555 (11999)\ttotal: 55m 24s\tremaining: 0us\n",
            "\n",
            "bestTest = 0.1925555269\n",
            "bestIteration = 11999\n",
            "\n"
          ]
        },
        {
          "output_type": "execute_result",
          "data": {
            "text/plain": [
              "<catboost.core.CatBoostRegressor at 0x7fb075e534f0>"
            ]
          },
          "metadata": {},
          "execution_count": 68
        }
      ]
    },
    {
      "cell_type": "code",
      "source": [
        "X_test_prediction_cat = reg_catb.predict(X_test_tts)"
      ],
      "metadata": {
        "id": "4pfRVcrgM5GB"
      },
      "execution_count": null,
      "outputs": []
    },
    {
      "cell_type": "code",
      "source": [
        "#error on test dataset\n",
        "\n",
        "score = np.sqrt(mean_squared_error(y_test, X_test_prediction_cat))\n",
        "print(f'RMSE Score on Test set: {score:0.2f}')"
      ],
      "metadata": {
        "colab": {
          "base_uri": "https://localhost:8080/"
        },
        "id": "hVXJfno5M5R2",
        "outputId": "0d7d16ca-b23a-4c3a-f532-67aec07ac9ab"
      },
      "execution_count": null,
      "outputs": [
        {
          "output_type": "stream",
          "name": "stdout",
          "text": [
            "RMSE Score on Test set: 0.19\n"
          ]
        }
      ]
    },
    {
      "cell_type": "markdown",
      "source": [
        "## Ver 3"
      ],
      "metadata": {
        "id": "k4qL2O8a25Mu"
      }
    },
    {
      "cell_type": "code",
      "source": [
        "reg_catb  = CatBoostRegressor(n_estimators= 30000, eval_metric= 'RMSE', learning_rate=0.15, random_seed= 42)\n",
        "\n",
        "reg_catb.fit(X_train, y_train,eval_set=[(X_train, y_train), (X_test_tts, y_test)],verbose=100)"
      ],
      "metadata": {
        "colab": {
          "base_uri": "https://localhost:8080/"
        },
        "id": "37Ifjuhn27Io",
        "outputId": "1ba6e2bd-7865-4f5f-8419-226d81e79a2c"
      },
      "execution_count": 50,
      "outputs": [
        {
          "output_type": "stream",
          "name": "stdout",
          "text": [
            "0:\tlearn: 8.5819399\ttest: 8.5819399\ttest1: 8.5758662\tbest: 8.5758662 (0)\ttotal: 266ms\tremaining: 2h 13m 6s\n",
            "100:\tlearn: 1.1658706\ttest: 1.1658706\ttest1: 1.1724754\tbest: 1.1724754 (100)\ttotal: 16.2s\tremaining: 1h 19m 55s\n",
            "200:\tlearn: 0.9261924\ttest: 0.9261924\ttest1: 0.9383602\tbest: 0.9383602 (200)\ttotal: 34s\tremaining: 1h 23m 53s\n",
            "300:\tlearn: 0.8118722\ttest: 0.8118722\ttest1: 0.8267001\tbest: 0.8267001 (300)\ttotal: 49.9s\tremaining: 1h 22m 1s\n",
            "400:\tlearn: 0.7310998\ttest: 0.7310998\ttest1: 0.7474112\tbest: 0.7474112 (400)\ttotal: 1m 5s\tremaining: 1h 20m 34s\n",
            "500:\tlearn: 0.6690482\ttest: 0.6690482\ttest1: 0.6864287\tbest: 0.6864287 (500)\ttotal: 1m 22s\tremaining: 1h 20m 50s\n",
            "600:\tlearn: 0.6257710\ttest: 0.6257710\ttest1: 0.6450650\tbest: 0.6450650 (600)\ttotal: 1m 38s\tremaining: 1h 20m 1s\n",
            "700:\tlearn: 0.5869752\ttest: 0.5869752\ttest1: 0.6073652\tbest: 0.6073652 (700)\ttotal: 1m 54s\tremaining: 1h 19m 30s\n",
            "800:\tlearn: 0.5541922\ttest: 0.5541922\ttest1: 0.5757883\tbest: 0.5757883 (800)\ttotal: 2m 10s\tremaining: 1h 19m 25s\n",
            "900:\tlearn: 0.5258451\ttest: 0.5258451\ttest1: 0.5485336\tbest: 0.5485336 (900)\ttotal: 2m 26s\tremaining: 1h 18m 54s\n",
            "1000:\tlearn: 0.5010831\ttest: 0.5010831\ttest1: 0.5250586\tbest: 0.5250586 (1000)\ttotal: 2m 43s\tremaining: 1h 19m 4s\n",
            "1100:\tlearn: 0.4800854\ttest: 0.4800854\ttest1: 0.5054682\tbest: 0.5054682 (1100)\ttotal: 3m 1s\tremaining: 1h 19m 19s\n",
            "1200:\tlearn: 0.4618878\ttest: 0.4618878\ttest1: 0.4885260\tbest: 0.4885260 (1200)\ttotal: 3m 17s\tremaining: 1h 18m 50s\n",
            "1300:\tlearn: 0.4451965\ttest: 0.4451965\ttest1: 0.4729521\tbest: 0.4729521 (1300)\ttotal: 3m 33s\tremaining: 1h 18m 27s\n",
            "1400:\tlearn: 0.4304069\ttest: 0.4304069\ttest1: 0.4594195\tbest: 0.4594195 (1400)\ttotal: 3m 50s\tremaining: 1h 18m 28s\n",
            "1500:\tlearn: 0.4164339\ttest: 0.4164339\ttest1: 0.4462286\tbest: 0.4462286 (1500)\ttotal: 4m 6s\tremaining: 1h 18m 1s\n",
            "1600:\tlearn: 0.4037089\ttest: 0.4037089\ttest1: 0.4343938\tbest: 0.4343938 (1600)\ttotal: 4m 23s\tremaining: 1h 17m 51s\n",
            "1700:\tlearn: 0.3919315\ttest: 0.3919315\ttest1: 0.4235746\tbest: 0.4235746 (1700)\ttotal: 4m 39s\tremaining: 1h 17m 33s\n",
            "1800:\tlearn: 0.3808102\ttest: 0.3808102\ttest1: 0.4133191\tbest: 0.4133191 (1800)\ttotal: 4m 55s\tremaining: 1h 17m 8s\n",
            "1900:\tlearn: 0.3713920\ttest: 0.3713920\ttest1: 0.4049917\tbest: 0.4049917 (1900)\ttotal: 5m 12s\tremaining: 1h 17m 6s\n",
            "2000:\tlearn: 0.3625381\ttest: 0.3625381\ttest1: 0.3968935\tbest: 0.3968935 (2000)\ttotal: 5m 28s\tremaining: 1h 16m 40s\n",
            "2100:\tlearn: 0.3542191\ttest: 0.3542191\ttest1: 0.3893851\tbest: 0.3893851 (2100)\ttotal: 5m 46s\tremaining: 1h 16m 44s\n",
            "2200:\tlearn: 0.3455643\ttest: 0.3455643\ttest1: 0.3813725\tbest: 0.3813725 (2200)\ttotal: 6m 3s\tremaining: 1h 16m 33s\n",
            "2300:\tlearn: 0.3376155\ttest: 0.3376155\ttest1: 0.3742944\tbest: 0.3742944 (2300)\ttotal: 6m 19s\tremaining: 1h 16m 8s\n",
            "2400:\tlearn: 0.3304415\ttest: 0.3304415\ttest1: 0.3679519\tbest: 0.3679519 (2400)\ttotal: 6m 35s\tremaining: 1h 15m 42s\n",
            "2500:\tlearn: 0.3237813\ttest: 0.3237813\ttest1: 0.3620175\tbest: 0.3620175 (2500)\ttotal: 6m 51s\tremaining: 1h 15m 29s\n",
            "2600:\tlearn: 0.3172622\ttest: 0.3172622\ttest1: 0.3561006\tbest: 0.3561006 (2600)\ttotal: 7m 7s\tremaining: 1h 15m 6s\n",
            "2700:\tlearn: 0.3109480\ttest: 0.3109480\ttest1: 0.3504791\tbest: 0.3504791 (2700)\ttotal: 7m 24s\tremaining: 1h 14m 54s\n",
            "2800:\tlearn: 0.3050557\ttest: 0.3050557\ttest1: 0.3452325\tbest: 0.3452325 (2800)\ttotal: 7m 41s\tremaining: 1h 14m 39s\n",
            "2900:\tlearn: 0.2993579\ttest: 0.2993579\ttest1: 0.3401938\tbest: 0.3401938 (2900)\ttotal: 7m 57s\tremaining: 1h 14m 21s\n",
            "3000:\tlearn: 0.2941371\ttest: 0.2941371\ttest1: 0.3355648\tbest: 0.3355648 (3000)\ttotal: 8m 13s\tremaining: 1h 13m 56s\n",
            "3100:\tlearn: 0.2889466\ttest: 0.2889466\ttest1: 0.3308598\tbest: 0.3308598 (3100)\ttotal: 8m 29s\tremaining: 1h 13m 41s\n",
            "3200:\tlearn: 0.2841212\ttest: 0.2841212\ttest1: 0.3266030\tbest: 0.3266030 (3200)\ttotal: 8m 45s\tremaining: 1h 13m 20s\n",
            "3300:\tlearn: 0.2796890\ttest: 0.2796890\ttest1: 0.3228896\tbest: 0.3228896 (3300)\ttotal: 9m 1s\tremaining: 1h 13m\n",
            "3400:\tlearn: 0.2752995\ttest: 0.2752995\ttest1: 0.3191271\tbest: 0.3191271 (3400)\ttotal: 9m 18s\tremaining: 1h 12m 46s\n",
            "3500:\tlearn: 0.2710385\ttest: 0.2710385\ttest1: 0.3155043\tbest: 0.3155043 (3500)\ttotal: 9m 34s\tremaining: 1h 12m 26s\n",
            "3600:\tlearn: 0.2668184\ttest: 0.2668184\ttest1: 0.3117499\tbest: 0.3117499 (3600)\ttotal: 9m 52s\tremaining: 1h 12m 20s\n",
            "3700:\tlearn: 0.2626956\ttest: 0.2626956\ttest1: 0.3081279\tbest: 0.3081279 (3700)\ttotal: 10m 8s\tremaining: 1h 12m 3s\n",
            "3800:\tlearn: 0.2588326\ttest: 0.2588326\ttest1: 0.3047748\tbest: 0.3047748 (3800)\ttotal: 10m 24s\tremaining: 1h 11m 43s\n",
            "3900:\tlearn: 0.2553455\ttest: 0.2553455\ttest1: 0.3018143\tbest: 0.3018143 (3900)\ttotal: 10m 41s\tremaining: 1h 11m 29s\n",
            "4000:\tlearn: 0.2518148\ttest: 0.2518148\ttest1: 0.2988312\tbest: 0.2988312 (4000)\ttotal: 10m 57s\tremaining: 1h 11m 10s\n",
            "4100:\tlearn: 0.2486198\ttest: 0.2486198\ttest1: 0.2960531\tbest: 0.2960531 (4100)\ttotal: 11m 12s\tremaining: 1h 10m 48s\n",
            "4200:\tlearn: 0.2452934\ttest: 0.2452934\ttest1: 0.2932299\tbest: 0.2932299 (4200)\ttotal: 11m 29s\tremaining: 1h 10m 33s\n",
            "4300:\tlearn: 0.2421950\ttest: 0.2421950\ttest1: 0.2905947\tbest: 0.2905947 (4300)\ttotal: 11m 45s\tremaining: 1h 10m 13s\n",
            "4400:\tlearn: 0.2392036\ttest: 0.2392036\ttest1: 0.2880852\tbest: 0.2880852 (4400)\ttotal: 12m 1s\tremaining: 1h 9m 59s\n",
            "4500:\tlearn: 0.2361662\ttest: 0.2361662\ttest1: 0.2855509\tbest: 0.2855509 (4500)\ttotal: 12m 18s\tremaining: 1h 9m 45s\n",
            "4600:\tlearn: 0.2332419\ttest: 0.2332419\ttest1: 0.2831260\tbest: 0.2831260 (4600)\ttotal: 12m 34s\tremaining: 1h 9m 24s\n",
            "4700:\tlearn: 0.2303202\ttest: 0.2303202\ttest1: 0.2806638\tbest: 0.2806638 (4700)\ttotal: 12m 50s\tremaining: 1h 9m 7s\n",
            "4800:\tlearn: 0.2275440\ttest: 0.2275440\ttest1: 0.2783785\tbest: 0.2783785 (4800)\ttotal: 13m 7s\tremaining: 1h 8m 53s\n",
            "4900:\tlearn: 0.2250074\ttest: 0.2250074\ttest1: 0.2762683\tbest: 0.2762683 (4900)\ttotal: 13m 23s\tremaining: 1h 8m 33s\n",
            "5000:\tlearn: 0.2224614\ttest: 0.2224614\ttest1: 0.2741205\tbest: 0.2741205 (5000)\ttotal: 13m 39s\tremaining: 1h 8m 16s\n",
            "5100:\tlearn: 0.2200576\ttest: 0.2200576\ttest1: 0.2721508\tbest: 0.2721508 (5100)\ttotal: 13m 56s\tremaining: 1h 8m 3s\n",
            "5200:\tlearn: 0.2176276\ttest: 0.2176276\ttest1: 0.2700678\tbest: 0.2700678 (5200)\ttotal: 14m 14s\tremaining: 1h 7m 52s\n",
            "5300:\tlearn: 0.2151780\ttest: 0.2151780\ttest1: 0.2680074\tbest: 0.2680074 (5300)\ttotal: 14m 31s\tremaining: 1h 7m 42s\n",
            "5400:\tlearn: 0.2127835\ttest: 0.2127835\ttest1: 0.2659976\tbest: 0.2659976 (5400)\ttotal: 14m 48s\tremaining: 1h 7m 27s\n",
            "5500:\tlearn: 0.2105912\ttest: 0.2105912\ttest1: 0.2641820\tbest: 0.2641820 (5500)\ttotal: 15m 4s\tremaining: 1h 7m 8s\n",
            "5600:\tlearn: 0.2083514\ttest: 0.2083514\ttest1: 0.2623054\tbest: 0.2623054 (5600)\ttotal: 15m 21s\tremaining: 1h 6m 53s\n",
            "5700:\tlearn: 0.2061433\ttest: 0.2061433\ttest1: 0.2604554\tbest: 0.2604554 (5700)\ttotal: 15m 37s\tremaining: 1h 6m 35s\n",
            "5800:\tlearn: 0.2038987\ttest: 0.2038987\ttest1: 0.2585769\tbest: 0.2585769 (5800)\ttotal: 15m 53s\tremaining: 1h 6m 18s\n",
            "5900:\tlearn: 0.2019665\ttest: 0.2019665\ttest1: 0.2570096\tbest: 0.2570096 (5900)\ttotal: 16m 10s\tremaining: 1h 6m 1s\n",
            "6000:\tlearn: 0.2000562\ttest: 0.2000562\ttest1: 0.2554072\tbest: 0.2554072 (6000)\ttotal: 16m 25s\tremaining: 1h 5m 42s\n",
            "6100:\tlearn: 0.1982143\ttest: 0.1982143\ttest1: 0.2539112\tbest: 0.2539112 (6100)\ttotal: 16m 42s\tremaining: 1h 5m 26s\n",
            "6200:\tlearn: 0.1962608\ttest: 0.1962608\ttest1: 0.2523176\tbest: 0.2523176 (6200)\ttotal: 16m 59s\tremaining: 1h 5m 11s\n",
            "6300:\tlearn: 0.1944506\ttest: 0.1944506\ttest1: 0.2508617\tbest: 0.2508617 (6300)\ttotal: 17m 14s\tremaining: 1h 4m 51s\n",
            "6400:\tlearn: 0.1927151\ttest: 0.1927151\ttest1: 0.2495077\tbest: 0.2495077 (6400)\ttotal: 17m 30s\tremaining: 1h 4m 31s\n",
            "6500:\tlearn: 0.1909362\ttest: 0.1909362\ttest1: 0.2481266\tbest: 0.2481266 (6500)\ttotal: 17m 46s\tremaining: 1h 4m 16s\n",
            "6600:\tlearn: 0.1892127\ttest: 0.1892127\ttest1: 0.2466952\tbest: 0.2466952 (6600)\ttotal: 18m 2s\tremaining: 1h 3m 57s\n",
            "6700:\tlearn: 0.1875287\ttest: 0.1875287\ttest1: 0.2453076\tbest: 0.2453076 (6700)\ttotal: 18m 18s\tremaining: 1h 3m 38s\n",
            "6800:\tlearn: 0.1859085\ttest: 0.1859085\ttest1: 0.2440140\tbest: 0.2440140 (6800)\ttotal: 18m 34s\tremaining: 1h 3m 21s\n",
            "6900:\tlearn: 0.1843371\ttest: 0.1843371\ttest1: 0.2427392\tbest: 0.2427392 (6900)\ttotal: 18m 50s\tremaining: 1h 3m 2s\n",
            "7000:\tlearn: 0.1828010\ttest: 0.1828010\ttest1: 0.2415326\tbest: 0.2415326 (7000)\ttotal: 19m 6s\tremaining: 1h 2m 47s\n",
            "7100:\tlearn: 0.1812909\ttest: 0.1812909\ttest1: 0.2403322\tbest: 0.2403322 (7100)\ttotal: 19m 22s\tremaining: 1h 2m 28s\n",
            "7200:\tlearn: 0.1797922\ttest: 0.1797922\ttest1: 0.2391519\tbest: 0.2391519 (7200)\ttotal: 19m 38s\tremaining: 1h 2m 12s\n",
            "7300:\tlearn: 0.1783653\ttest: 0.1783653\ttest1: 0.2380128\tbest: 0.2380128 (7300)\ttotal: 19m 54s\tremaining: 1h 1m 53s\n",
            "7400:\tlearn: 0.1769598\ttest: 0.1769598\ttest1: 0.2369140\tbest: 0.2369140 (7400)\ttotal: 20m 9s\tremaining: 1h 1m 34s\n",
            "7500:\tlearn: 0.1755322\ttest: 0.1755322\ttest1: 0.2357785\tbest: 0.2357785 (7500)\ttotal: 20m 26s\tremaining: 1h 1m 18s\n",
            "7600:\tlearn: 0.1741803\ttest: 0.1741803\ttest1: 0.2347491\tbest: 0.2347491 (7600)\ttotal: 20m 42s\tremaining: 1h 1m\n",
            "7700:\tlearn: 0.1728913\ttest: 0.1728913\ttest1: 0.2337591\tbest: 0.2337591 (7700)\ttotal: 20m 57s\tremaining: 1h 41s\n",
            "7800:\tlearn: 0.1715828\ttest: 0.1715828\ttest1: 0.2327240\tbest: 0.2327240 (7800)\ttotal: 21m 14s\tremaining: 1h 25s\n",
            "7900:\tlearn: 0.1702679\ttest: 0.1702679\ttest1: 0.2317215\tbest: 0.2317215 (7900)\ttotal: 21m 30s\tremaining: 1h 10s\n",
            "8000:\tlearn: 0.1689182\ttest: 0.1689182\ttest1: 0.2306716\tbest: 0.2306716 (8000)\ttotal: 21m 46s\tremaining: 59m 52s\n",
            "8100:\tlearn: 0.1676489\ttest: 0.1676489\ttest1: 0.2297103\tbest: 0.2297103 (8100)\ttotal: 22m 3s\tremaining: 59m 37s\n",
            "8200:\tlearn: 0.1664049\ttest: 0.1664049\ttest1: 0.2287513\tbest: 0.2287513 (8200)\ttotal: 22m 18s\tremaining: 59m 18s\n",
            "8300:\tlearn: 0.1652318\ttest: 0.1652318\ttest1: 0.2278656\tbest: 0.2278656 (8300)\ttotal: 22m 34s\tremaining: 59m\n",
            "8400:\tlearn: 0.1640622\ttest: 0.1640622\ttest1: 0.2269548\tbest: 0.2269548 (8400)\ttotal: 22m 50s\tremaining: 58m 44s\n",
            "8500:\tlearn: 0.1628420\ttest: 0.1628420\ttest1: 0.2259818\tbest: 0.2259818 (8500)\ttotal: 23m 6s\tremaining: 58m 26s\n",
            "8600:\tlearn: 0.1616882\ttest: 0.1616882\ttest1: 0.2251144\tbest: 0.2251144 (8600)\ttotal: 23m 22s\tremaining: 58m 8s\n",
            "8700:\tlearn: 0.1606081\ttest: 0.1606081\ttest1: 0.2243161\tbest: 0.2243161 (8700)\ttotal: 23m 39s\tremaining: 57m 54s\n",
            "8800:\tlearn: 0.1595234\ttest: 0.1595234\ttest1: 0.2234900\tbest: 0.2234900 (8800)\ttotal: 23m 55s\tremaining: 57m 37s\n",
            "8900:\tlearn: 0.1584188\ttest: 0.1584188\ttest1: 0.2226714\tbest: 0.2226714 (8900)\ttotal: 24m 10s\tremaining: 57m 19s\n",
            "9000:\tlearn: 0.1573652\ttest: 0.1573652\ttest1: 0.2219054\tbest: 0.2219054 (9000)\ttotal: 24m 27s\tremaining: 57m 3s\n",
            "9100:\tlearn: 0.1562872\ttest: 0.1562872\ttest1: 0.2210802\tbest: 0.2210802 (9100)\ttotal: 24m 43s\tremaining: 56m 45s\n",
            "9200:\tlearn: 0.1552551\ttest: 0.1552551\ttest1: 0.2202913\tbest: 0.2202913 (9200)\ttotal: 24m 58s\tremaining: 56m 28s\n",
            "9300:\tlearn: 0.1542225\ttest: 0.1542225\ttest1: 0.2195034\tbest: 0.2195034 (9300)\ttotal: 25m 15s\tremaining: 56m 11s\n",
            "9400:\tlearn: 0.1531956\ttest: 0.1531956\ttest1: 0.2187072\tbest: 0.2187072 (9400)\ttotal: 25m 31s\tremaining: 55m 54s\n",
            "9500:\tlearn: 0.1522061\ttest: 0.1522061\ttest1: 0.2179896\tbest: 0.2179896 (9500)\ttotal: 25m 46s\tremaining: 55m 36s\n",
            "9600:\tlearn: 0.1512429\ttest: 0.1512429\ttest1: 0.2172531\tbest: 0.2172531 (9600)\ttotal: 26m 4s\tremaining: 55m 23s\n",
            "9700:\tlearn: 0.1503028\ttest: 0.1503028\ttest1: 0.2165763\tbest: 0.2165763 (9700)\ttotal: 26m 19s\tremaining: 55m 4s\n",
            "9800:\tlearn: 0.1493546\ttest: 0.1493546\ttest1: 0.2158729\tbest: 0.2158729 (9800)\ttotal: 26m 34s\tremaining: 54m 46s\n",
            "9900:\tlearn: 0.1484424\ttest: 0.1484424\ttest1: 0.2152304\tbest: 0.2152304 (9900)\ttotal: 26m 50s\tremaining: 54m 28s\n",
            "10000:\tlearn: 0.1475239\ttest: 0.1475239\ttest1: 0.2145303\tbest: 0.2145303 (10000)\ttotal: 27m 6s\tremaining: 54m 12s\n",
            "10100:\tlearn: 0.1466014\ttest: 0.1466014\ttest1: 0.2138540\tbest: 0.2138540 (10100)\ttotal: 27m 22s\tremaining: 53m 55s\n",
            "10200:\tlearn: 0.1457157\ttest: 0.1457157\ttest1: 0.2132176\tbest: 0.2132176 (10200)\ttotal: 27m 37s\tremaining: 53m 37s\n",
            "10300:\tlearn: 0.1447855\ttest: 0.1447855\ttest1: 0.2125178\tbest: 0.2125178 (10300)\ttotal: 27m 54s\tremaining: 53m 22s\n",
            "10400:\tlearn: 0.1439498\ttest: 0.1439498\ttest1: 0.2118744\tbest: 0.2118744 (10400)\ttotal: 28m 9s\tremaining: 53m 4s\n",
            "10500:\tlearn: 0.1431262\ttest: 0.1431262\ttest1: 0.2112855\tbest: 0.2112855 (10500)\ttotal: 28m 26s\tremaining: 52m 48s\n",
            "10600:\tlearn: 0.1422928\ttest: 0.1422928\ttest1: 0.2106938\tbest: 0.2106938 (10600)\ttotal: 28m 42s\tremaining: 52m 32s\n",
            "10700:\tlearn: 0.1414460\ttest: 0.1414460\ttest1: 0.2100283\tbest: 0.2100283 (10700)\ttotal: 28m 58s\tremaining: 52m 15s\n",
            "10800:\tlearn: 0.1406261\ttest: 0.1406261\ttest1: 0.2094553\tbest: 0.2094553 (10800)\ttotal: 29m 13s\tremaining: 51m 57s\n",
            "10900:\tlearn: 0.1397931\ttest: 0.1397931\ttest1: 0.2088476\tbest: 0.2088476 (10900)\ttotal: 29m 30s\tremaining: 51m 41s\n",
            "11000:\tlearn: 0.1390124\ttest: 0.1390124\ttest1: 0.2082703\tbest: 0.2082703 (11000)\ttotal: 29m 46s\tremaining: 51m 24s\n",
            "11100:\tlearn: 0.1382017\ttest: 0.1382017\ttest1: 0.2076767\tbest: 0.2076767 (11100)\ttotal: 30m 2s\tremaining: 51m 8s\n",
            "11200:\tlearn: 0.1374237\ttest: 0.1374237\ttest1: 0.2071242\tbest: 0.2071242 (11200)\ttotal: 30m 18s\tremaining: 50m 52s\n",
            "11300:\tlearn: 0.1366696\ttest: 0.1366696\ttest1: 0.2065886\tbest: 0.2065886 (11300)\ttotal: 30m 34s\tremaining: 50m 35s\n",
            "11400:\tlearn: 0.1359326\ttest: 0.1359326\ttest1: 0.2060765\tbest: 0.2060765 (11400)\ttotal: 30m 50s\tremaining: 50m 18s\n",
            "11500:\tlearn: 0.1351358\ttest: 0.1351358\ttest1: 0.2054977\tbest: 0.2054977 (11500)\ttotal: 31m 8s\tremaining: 50m 5s\n",
            "11600:\tlearn: 0.1344106\ttest: 0.1344106\ttest1: 0.2049956\tbest: 0.2049956 (11600)\ttotal: 31m 25s\tremaining: 49m 50s\n",
            "11700:\tlearn: 0.1336628\ttest: 0.1336628\ttest1: 0.2044914\tbest: 0.2044914 (11700)\ttotal: 31m 44s\tremaining: 49m 38s\n",
            "11800:\tlearn: 0.1329191\ttest: 0.1329191\ttest1: 0.2039703\tbest: 0.2039703 (11800)\ttotal: 32m 2s\tremaining: 49m 24s\n",
            "11900:\tlearn: 0.1322369\ttest: 0.1322369\ttest1: 0.2034994\tbest: 0.2034994 (11900)\ttotal: 32m 21s\tremaining: 49m 12s\n",
            "12000:\tlearn: 0.1315219\ttest: 0.1315219\ttest1: 0.2029637\tbest: 0.2029637 (12000)\ttotal: 32m 37s\tremaining: 48m 55s\n",
            "12100:\tlearn: 0.1308074\ttest: 0.1308074\ttest1: 0.2024560\tbest: 0.2024560 (12100)\ttotal: 32m 52s\tremaining: 48m 38s\n",
            "12200:\tlearn: 0.1301099\ttest: 0.1301099\ttest1: 0.2019648\tbest: 0.2019648 (12200)\ttotal: 33m 9s\tremaining: 48m 22s\n",
            "12300:\tlearn: 0.1294186\ttest: 0.1294186\ttest1: 0.2015030\tbest: 0.2015030 (12300)\ttotal: 33m 26s\tremaining: 48m 6s\n",
            "12400:\tlearn: 0.1287529\ttest: 0.1287529\ttest1: 0.2010243\tbest: 0.2010243 (12400)\ttotal: 33m 42s\tremaining: 47m 50s\n",
            "12500:\tlearn: 0.1281125\ttest: 0.1281125\ttest1: 0.2005713\tbest: 0.2005713 (12500)\ttotal: 33m 58s\tremaining: 47m 33s\n",
            "12600:\tlearn: 0.1274414\ttest: 0.1274414\ttest1: 0.2000969\tbest: 0.2000969 (12600)\ttotal: 34m 14s\tremaining: 47m 16s\n",
            "12700:\tlearn: 0.1267961\ttest: 0.1267961\ttest1: 0.1996456\tbest: 0.1996456 (12700)\ttotal: 34m 30s\tremaining: 46m 59s\n",
            "12800:\tlearn: 0.1261578\ttest: 0.1261578\ttest1: 0.1992077\tbest: 0.1992077 (12800)\ttotal: 34m 46s\tremaining: 46m 43s\n",
            "12900:\tlearn: 0.1255384\ttest: 0.1255384\ttest1: 0.1987809\tbest: 0.1987809 (12900)\ttotal: 35m 1s\tremaining: 46m 25s\n",
            "13000:\tlearn: 0.1249173\ttest: 0.1249173\ttest1: 0.1983592\tbest: 0.1983592 (13000)\ttotal: 35m 16s\tremaining: 46m 7s\n",
            "13100:\tlearn: 0.1242835\ttest: 0.1242835\ttest1: 0.1979459\tbest: 0.1979459 (13100)\ttotal: 35m 33s\tremaining: 45m 51s\n",
            "13200:\tlearn: 0.1236679\ttest: 0.1236679\ttest1: 0.1975175\tbest: 0.1975175 (13200)\ttotal: 35m 49s\tremaining: 45m 35s\n",
            "13300:\tlearn: 0.1230667\ttest: 0.1230667\ttest1: 0.1971186\tbest: 0.1971186 (13300)\ttotal: 36m 4s\tremaining: 45m 17s\n",
            "13400:\tlearn: 0.1224568\ttest: 0.1224568\ttest1: 0.1967055\tbest: 0.1967055 (13400)\ttotal: 36m 21s\tremaining: 45m 1s\n",
            "13500:\tlearn: 0.1218865\ttest: 0.1218865\ttest1: 0.1963289\tbest: 0.1963289 (13500)\ttotal: 36m 36s\tremaining: 44m 44s\n",
            "13600:\tlearn: 0.1213119\ttest: 0.1213119\ttest1: 0.1959568\tbest: 0.1959568 (13600)\ttotal: 36m 52s\tremaining: 44m 27s\n",
            "13700:\tlearn: 0.1207407\ttest: 0.1207407\ttest1: 0.1955656\tbest: 0.1955656 (13700)\ttotal: 37m 7s\tremaining: 44m 9s\n",
            "13800:\tlearn: 0.1201584\ttest: 0.1201584\ttest1: 0.1951744\tbest: 0.1951744 (13800)\ttotal: 37m 23s\tremaining: 43m 53s\n",
            "13900:\tlearn: 0.1196080\ttest: 0.1196080\ttest1: 0.1948245\tbest: 0.1948245 (13900)\ttotal: 37m 39s\tremaining: 43m 36s\n",
            "14000:\tlearn: 0.1190431\ttest: 0.1190431\ttest1: 0.1944562\tbest: 0.1944562 (14000)\ttotal: 37m 54s\tremaining: 43m 19s\n",
            "14100:\tlearn: 0.1184862\ttest: 0.1184862\ttest1: 0.1940915\tbest: 0.1940915 (14100)\ttotal: 38m 11s\tremaining: 43m 3s\n",
            "14200:\tlearn: 0.1179385\ttest: 0.1179385\ttest1: 0.1936866\tbest: 0.1936866 (14200)\ttotal: 38m 27s\tremaining: 42m 46s\n",
            "14300:\tlearn: 0.1173785\ttest: 0.1173785\ttest1: 0.1933157\tbest: 0.1933157 (14300)\ttotal: 38m 43s\tremaining: 42m 30s\n",
            "14400:\tlearn: 0.1168329\ttest: 0.1168329\ttest1: 0.1929612\tbest: 0.1929612 (14400)\ttotal: 38m 59s\tremaining: 42m 13s\n",
            "14500:\tlearn: 0.1163200\ttest: 0.1163200\ttest1: 0.1926126\tbest: 0.1926126 (14500)\ttotal: 39m 14s\tremaining: 41m 56s\n",
            "14600:\tlearn: 0.1157969\ttest: 0.1157969\ttest1: 0.1922737\tbest: 0.1922737 (14600)\ttotal: 39m 30s\tremaining: 41m 40s\n",
            "14700:\tlearn: 0.1152634\ttest: 0.1152634\ttest1: 0.1919226\tbest: 0.1919226 (14700)\ttotal: 39m 47s\tremaining: 41m 24s\n",
            "14800:\tlearn: 0.1147457\ttest: 0.1147457\ttest1: 0.1915738\tbest: 0.1915738 (14800)\ttotal: 40m 2s\tremaining: 41m 7s\n",
            "14900:\tlearn: 0.1142520\ttest: 0.1142520\ttest1: 0.1912538\tbest: 0.1912538 (14900)\ttotal: 40m 17s\tremaining: 40m 49s\n",
            "15000:\tlearn: 0.1137521\ttest: 0.1137521\ttest1: 0.1909273\tbest: 0.1909273 (15000)\ttotal: 40m 33s\tremaining: 40m 32s\n",
            "15100:\tlearn: 0.1132771\ttest: 0.1132771\ttest1: 0.1906229\tbest: 0.1906229 (15100)\ttotal: 40m 50s\tremaining: 40m 17s\n",
            "15200:\tlearn: 0.1127890\ttest: 0.1127890\ttest1: 0.1903262\tbest: 0.1903262 (15200)\ttotal: 41m 5s\tremaining: 40m\n",
            "15300:\tlearn: 0.1122781\ttest: 0.1122781\ttest1: 0.1899814\tbest: 0.1899814 (15300)\ttotal: 41m 20s\tremaining: 39m 43s\n",
            "15400:\tlearn: 0.1117935\ttest: 0.1117935\ttest1: 0.1896539\tbest: 0.1896539 (15400)\ttotal: 41m 36s\tremaining: 39m 26s\n",
            "15500:\tlearn: 0.1113048\ttest: 0.1113048\ttest1: 0.1893327\tbest: 0.1893327 (15500)\ttotal: 41m 52s\tremaining: 39m 9s\n",
            "15600:\tlearn: 0.1108410\ttest: 0.1108410\ttest1: 0.1890311\tbest: 0.1890311 (15600)\ttotal: 42m 7s\tremaining: 38m 52s\n",
            "15700:\tlearn: 0.1103605\ttest: 0.1103605\ttest1: 0.1887297\tbest: 0.1887297 (15700)\ttotal: 42m 23s\tremaining: 38m 36s\n",
            "15800:\tlearn: 0.1099088\ttest: 0.1099088\ttest1: 0.1884530\tbest: 0.1884530 (15800)\ttotal: 42m 39s\tremaining: 38m 19s\n",
            "15900:\tlearn: 0.1094612\ttest: 0.1094612\ttest1: 0.1881698\tbest: 0.1881698 (15900)\ttotal: 42m 54s\tremaining: 38m 2s\n",
            "16000:\tlearn: 0.1089979\ttest: 0.1089979\ttest1: 0.1878708\tbest: 0.1878708 (16000)\ttotal: 43m 10s\tremaining: 37m 46s\n",
            "16100:\tlearn: 0.1085336\ttest: 0.1085336\ttest1: 0.1875840\tbest: 0.1875840 (16100)\ttotal: 43m 27s\tremaining: 37m 30s\n",
            "16200:\tlearn: 0.1080964\ttest: 0.1080964\ttest1: 0.1872986\tbest: 0.1872986 (16200)\ttotal: 43m 42s\tremaining: 37m 13s\n",
            "16300:\tlearn: 0.1076541\ttest: 0.1076541\ttest1: 0.1870165\tbest: 0.1870165 (16300)\ttotal: 43m 58s\tremaining: 36m 57s\n",
            "16400:\tlearn: 0.1072275\ttest: 0.1072275\ttest1: 0.1867521\tbest: 0.1867521 (16400)\ttotal: 44m 14s\tremaining: 36m 40s\n",
            "16500:\tlearn: 0.1067883\ttest: 0.1067883\ttest1: 0.1864706\tbest: 0.1864706 (16500)\ttotal: 44m 30s\tremaining: 36m 24s\n",
            "16600:\tlearn: 0.1063569\ttest: 0.1063569\ttest1: 0.1862116\tbest: 0.1862116 (16600)\ttotal: 44m 45s\tremaining: 36m 7s\n",
            "16700:\tlearn: 0.1059171\ttest: 0.1059171\ttest1: 0.1859153\tbest: 0.1859153 (16700)\ttotal: 45m 2s\tremaining: 35m 51s\n",
            "16800:\tlearn: 0.1055088\ttest: 0.1055088\ttest1: 0.1856447\tbest: 0.1856447 (16800)\ttotal: 45m 17s\tremaining: 35m 34s\n",
            "16900:\tlearn: 0.1050844\ttest: 0.1050844\ttest1: 0.1853844\tbest: 0.1853844 (16900)\ttotal: 45m 32s\tremaining: 35m 18s\n",
            "17000:\tlearn: 0.1046574\ttest: 0.1046574\ttest1: 0.1851128\tbest: 0.1851128 (17000)\ttotal: 45m 49s\tremaining: 35m 2s\n",
            "17100:\tlearn: 0.1042244\ttest: 0.1042244\ttest1: 0.1848525\tbest: 0.1848525 (17100)\ttotal: 46m 6s\tremaining: 34m 46s\n",
            "17200:\tlearn: 0.1038132\ttest: 0.1038132\ttest1: 0.1845946\tbest: 0.1845946 (17200)\ttotal: 46m 21s\tremaining: 34m 29s\n",
            "17300:\tlearn: 0.1034182\ttest: 0.1034182\ttest1: 0.1843516\tbest: 0.1843516 (17300)\ttotal: 46m 37s\tremaining: 34m 13s\n",
            "17400:\tlearn: 0.1029930\ttest: 0.1029930\ttest1: 0.1840775\tbest: 0.1840775 (17400)\ttotal: 46m 53s\tremaining: 33m 57s\n",
            "17500:\tlearn: 0.1025893\ttest: 0.1025893\ttest1: 0.1838164\tbest: 0.1838164 (17500)\ttotal: 47m 8s\tremaining: 33m 40s\n",
            "17600:\tlearn: 0.1021810\ttest: 0.1021810\ttest1: 0.1835673\tbest: 0.1835673 (17600)\ttotal: 47m 24s\tremaining: 33m 23s\n",
            "17700:\tlearn: 0.1017794\ttest: 0.1017794\ttest1: 0.1833330\tbest: 0.1833330 (17700)\ttotal: 47m 40s\tremaining: 33m 7s\n",
            "17800:\tlearn: 0.1013960\ttest: 0.1013960\ttest1: 0.1830883\tbest: 0.1830883 (17800)\ttotal: 47m 55s\tremaining: 32m 50s\n",
            "17900:\tlearn: 0.1010196\ttest: 0.1010196\ttest1: 0.1828343\tbest: 0.1828343 (17900)\ttotal: 48m 11s\tremaining: 32m 34s\n",
            "18000:\tlearn: 0.1006330\ttest: 0.1006330\ttest1: 0.1825837\tbest: 0.1825837 (18000)\ttotal: 48m 27s\tremaining: 32m 18s\n",
            "18100:\tlearn: 0.1002558\ttest: 0.1002558\ttest1: 0.1823583\tbest: 0.1823583 (18100)\ttotal: 48m 43s\tremaining: 32m 2s\n",
            "18200:\tlearn: 0.0998700\ttest: 0.0998700\ttest1: 0.1821256\tbest: 0.1821256 (18200)\ttotal: 48m 59s\tremaining: 31m 45s\n",
            "18300:\tlearn: 0.0994913\ttest: 0.0994913\ttest1: 0.1818928\tbest: 0.1818928 (18300)\ttotal: 49m 15s\tremaining: 31m 29s\n",
            "18400:\tlearn: 0.0990929\ttest: 0.0990929\ttest1: 0.1816452\tbest: 0.1816452 (18400)\ttotal: 49m 31s\tremaining: 31m 12s\n",
            "18500:\tlearn: 0.0987322\ttest: 0.0987322\ttest1: 0.1814351\tbest: 0.1814351 (18500)\ttotal: 49m 47s\tremaining: 30m 56s\n",
            "18600:\tlearn: 0.0983477\ttest: 0.0983477\ttest1: 0.1812087\tbest: 0.1812087 (18600)\ttotal: 50m 3s\tremaining: 30m 40s\n",
            "18700:\tlearn: 0.0980016\ttest: 0.0980016\ttest1: 0.1810030\tbest: 0.1810030 (18700)\ttotal: 50m 18s\tremaining: 30m 23s\n",
            "18800:\tlearn: 0.0976454\ttest: 0.0976454\ttest1: 0.1807903\tbest: 0.1807903 (18800)\ttotal: 50m 33s\tremaining: 30m 7s\n",
            "18900:\tlearn: 0.0972930\ttest: 0.0972930\ttest1: 0.1805705\tbest: 0.1805705 (18900)\ttotal: 50m 49s\tremaining: 29m 50s\n",
            "19000:\tlearn: 0.0969281\ttest: 0.0969281\ttest1: 0.1803526\tbest: 0.1803526 (19000)\ttotal: 51m 6s\tremaining: 29m 35s\n",
            "19100:\tlearn: 0.0965836\ttest: 0.0965836\ttest1: 0.1801374\tbest: 0.1801374 (19100)\ttotal: 51m 22s\tremaining: 29m 18s\n",
            "19200:\tlearn: 0.0962372\ttest: 0.0962372\ttest1: 0.1799290\tbest: 0.1799290 (19200)\ttotal: 51m 37s\tremaining: 29m 2s\n",
            "19300:\tlearn: 0.0958686\ttest: 0.0958686\ttest1: 0.1796881\tbest: 0.1796881 (19300)\ttotal: 51m 54s\tremaining: 28m 46s\n",
            "19400:\tlearn: 0.0955135\ttest: 0.0955135\ttest1: 0.1794731\tbest: 0.1794731 (19400)\ttotal: 52m 10s\tremaining: 28m 30s\n",
            "19500:\tlearn: 0.0951753\ttest: 0.0951753\ttest1: 0.1792776\tbest: 0.1792776 (19500)\ttotal: 52m 25s\tremaining: 28m 13s\n",
            "19600:\tlearn: 0.0948399\ttest: 0.0948399\ttest1: 0.1790894\tbest: 0.1790894 (19600)\ttotal: 52m 41s\tremaining: 27m 57s\n",
            "19700:\tlearn: 0.0944876\ttest: 0.0944876\ttest1: 0.1788781\tbest: 0.1788781 (19700)\ttotal: 52m 57s\tremaining: 27m 41s\n",
            "19800:\tlearn: 0.0941610\ttest: 0.0941610\ttest1: 0.1786850\tbest: 0.1786850 (19800)\ttotal: 53m 12s\tremaining: 27m 24s\n",
            "19900:\tlearn: 0.0937988\ttest: 0.0937988\ttest1: 0.1784552\tbest: 0.1784552 (19900)\ttotal: 53m 28s\tremaining: 27m 8s\n",
            "20000:\tlearn: 0.0934704\ttest: 0.0934704\ttest1: 0.1782502\tbest: 0.1782502 (20000)\ttotal: 53m 45s\tremaining: 26m 52s\n",
            "20100:\tlearn: 0.0931445\ttest: 0.0931445\ttest1: 0.1780529\tbest: 0.1780529 (20100)\ttotal: 54m 1s\tremaining: 26m 36s\n",
            "20200:\tlearn: 0.0928048\ttest: 0.0928048\ttest1: 0.1778407\tbest: 0.1778407 (20200)\ttotal: 54m 17s\tremaining: 26m 20s\n",
            "20300:\tlearn: 0.0924878\ttest: 0.0924878\ttest1: 0.1776503\tbest: 0.1776503 (20300)\ttotal: 54m 33s\tremaining: 26m 3s\n",
            "20400:\tlearn: 0.0921795\ttest: 0.0921795\ttest1: 0.1774819\tbest: 0.1774819 (20400)\ttotal: 54m 48s\tremaining: 25m 47s\n",
            "20500:\tlearn: 0.0918655\ttest: 0.0918655\ttest1: 0.1772987\tbest: 0.1772987 (20500)\ttotal: 55m 3s\tremaining: 25m 30s\n",
            "20600:\tlearn: 0.0915371\ttest: 0.0915371\ttest1: 0.1770938\tbest: 0.1770938 (20600)\ttotal: 55m 20s\tremaining: 25m 14s\n",
            "20700:\tlearn: 0.0912304\ttest: 0.0912304\ttest1: 0.1769160\tbest: 0.1769160 (20700)\ttotal: 55m 35s\tremaining: 24m 58s\n",
            "20800:\tlearn: 0.0909178\ttest: 0.0909178\ttest1: 0.1767469\tbest: 0.1767469 (20800)\ttotal: 55m 50s\tremaining: 24m 41s\n",
            "20900:\tlearn: 0.0906177\ttest: 0.0906177\ttest1: 0.1765880\tbest: 0.1765880 (20900)\ttotal: 56m 6s\tremaining: 24m 25s\n",
            "21000:\tlearn: 0.0903215\ttest: 0.0903215\ttest1: 0.1764180\tbest: 0.1764180 (21000)\ttotal: 56m 22s\tremaining: 24m 9s\n",
            "21100:\tlearn: 0.0900305\ttest: 0.0900305\ttest1: 0.1762494\tbest: 0.1762494 (21100)\ttotal: 56m 38s\tremaining: 23m 53s\n",
            "21200:\tlearn: 0.0897180\ttest: 0.0897180\ttest1: 0.1760509\tbest: 0.1760509 (21200)\ttotal: 56m 53s\tremaining: 23m 36s\n",
            "21300:\tlearn: 0.0894265\ttest: 0.0894265\ttest1: 0.1758785\tbest: 0.1758785 (21300)\ttotal: 57m 9s\tremaining: 23m 20s\n",
            "21400:\tlearn: 0.0891326\ttest: 0.0891326\ttest1: 0.1757025\tbest: 0.1757025 (21400)\ttotal: 57m 25s\tremaining: 23m 4s\n",
            "21500:\tlearn: 0.0888365\ttest: 0.0888365\ttest1: 0.1755304\tbest: 0.1755304 (21500)\ttotal: 57m 40s\tremaining: 22m 48s\n",
            "21600:\tlearn: 0.0885532\ttest: 0.0885532\ttest1: 0.1753723\tbest: 0.1753723 (21600)\ttotal: 57m 57s\tremaining: 22m 31s\n",
            "21700:\tlearn: 0.0882651\ttest: 0.0882651\ttest1: 0.1752096\tbest: 0.1752096 (21700)\ttotal: 58m 12s\tremaining: 22m 15s\n",
            "21800:\tlearn: 0.0879681\ttest: 0.0879681\ttest1: 0.1750588\tbest: 0.1750588 (21800)\ttotal: 58m 28s\tremaining: 21m 59s\n",
            "21900:\tlearn: 0.0876764\ttest: 0.0876764\ttest1: 0.1749045\tbest: 0.1749045 (21900)\ttotal: 58m 44s\tremaining: 21m 43s\n",
            "22000:\tlearn: 0.0873896\ttest: 0.0873896\ttest1: 0.1747473\tbest: 0.1747473 (22000)\ttotal: 59m 1s\tremaining: 21m 27s\n",
            "22100:\tlearn: 0.0871073\ttest: 0.0871073\ttest1: 0.1745977\tbest: 0.1745977 (22100)\ttotal: 59m 16s\tremaining: 21m 11s\n",
            "22200:\tlearn: 0.0868293\ttest: 0.0868293\ttest1: 0.1744471\tbest: 0.1744471 (22200)\ttotal: 59m 32s\tremaining: 20m 55s\n",
            "22300:\tlearn: 0.0865530\ttest: 0.0865530\ttest1: 0.1743026\tbest: 0.1743026 (22300)\ttotal: 59m 48s\tremaining: 20m 38s\n",
            "22400:\tlearn: 0.0862750\ttest: 0.0862750\ttest1: 0.1741387\tbest: 0.1741387 (22400)\ttotal: 1h 3s\tremaining: 20m 22s\n",
            "22500:\tlearn: 0.0860019\ttest: 0.0860019\ttest1: 0.1739924\tbest: 0.1739924 (22500)\ttotal: 1h 19s\tremaining: 20m 6s\n",
            "22600:\tlearn: 0.0857344\ttest: 0.0857344\ttest1: 0.1738410\tbest: 0.1738410 (22600)\ttotal: 1h 35s\tremaining: 19m 50s\n",
            "22700:\tlearn: 0.0854599\ttest: 0.0854599\ttest1: 0.1736870\tbest: 0.1736870 (22700)\ttotal: 1h 51s\tremaining: 19m 34s\n",
            "22800:\tlearn: 0.0851890\ttest: 0.0851890\ttest1: 0.1735409\tbest: 0.1735409 (22800)\ttotal: 1h 1m 6s\tremaining: 19m 17s\n",
            "22900:\tlearn: 0.0849193\ttest: 0.0849193\ttest1: 0.1734118\tbest: 0.1734118 (22900)\ttotal: 1h 1m 23s\tremaining: 19m 1s\n",
            "23000:\tlearn: 0.0846485\ttest: 0.0846485\ttest1: 0.1732643\tbest: 0.1732643 (23000)\ttotal: 1h 1m 40s\tremaining: 18m 46s\n",
            "23100:\tlearn: 0.0843798\ttest: 0.0843798\ttest1: 0.1731072\tbest: 0.1731072 (23100)\ttotal: 1h 1m 56s\tremaining: 18m 29s\n",
            "23200:\tlearn: 0.0841253\ttest: 0.0841253\ttest1: 0.1729653\tbest: 0.1729653 (23200)\ttotal: 1h 2m 12s\tremaining: 18m 13s\n",
            "23300:\tlearn: 0.0838759\ttest: 0.0838759\ttest1: 0.1728344\tbest: 0.1728344 (23300)\ttotal: 1h 2m 27s\tremaining: 17m 57s\n",
            "23400:\tlearn: 0.0836141\ttest: 0.0836141\ttest1: 0.1726869\tbest: 0.1726869 (23400)\ttotal: 1h 2m 43s\tremaining: 17m 41s\n",
            "23500:\tlearn: 0.0833567\ttest: 0.0833567\ttest1: 0.1725533\tbest: 0.1725533 (23500)\ttotal: 1h 3m\tremaining: 17m 25s\n",
            "23600:\tlearn: 0.0831139\ttest: 0.0831139\ttest1: 0.1724286\tbest: 0.1724286 (23600)\ttotal: 1h 3m 16s\tremaining: 17m 9s\n",
            "23700:\tlearn: 0.0828480\ttest: 0.0828480\ttest1: 0.1722874\tbest: 0.1722874 (23700)\ttotal: 1h 3m 32s\tremaining: 16m 53s\n",
            "23800:\tlearn: 0.0825850\ttest: 0.0825850\ttest1: 0.1721494\tbest: 0.1721494 (23800)\ttotal: 1h 3m 50s\tremaining: 16m 37s\n",
            "23900:\tlearn: 0.0823134\ttest: 0.0823134\ttest1: 0.1720065\tbest: 0.1720065 (23900)\ttotal: 1h 4m 7s\tremaining: 16m 21s\n",
            "24000:\tlearn: 0.0820668\ttest: 0.0820668\ttest1: 0.1718699\tbest: 0.1718699 (24000)\ttotal: 1h 4m 23s\tremaining: 16m 5s\n",
            "24100:\tlearn: 0.0818100\ttest: 0.0818100\ttest1: 0.1717339\tbest: 0.1717339 (24100)\ttotal: 1h 4m 39s\tremaining: 15m 49s\n",
            "24200:\tlearn: 0.0815591\ttest: 0.0815591\ttest1: 0.1715920\tbest: 0.1715916 (24199)\ttotal: 1h 4m 54s\tremaining: 15m 33s\n",
            "24300:\tlearn: 0.0812997\ttest: 0.0812997\ttest1: 0.1714477\tbest: 0.1714477 (24300)\ttotal: 1h 5m 11s\tremaining: 15m 17s\n",
            "24400:\tlearn: 0.0810575\ttest: 0.0810575\ttest1: 0.1713280\tbest: 0.1713280 (24400)\ttotal: 1h 5m 26s\tremaining: 15m 1s\n",
            "24500:\tlearn: 0.0808009\ttest: 0.0808009\ttest1: 0.1711945\tbest: 0.1711945 (24500)\ttotal: 1h 5m 43s\tremaining: 14m 45s\n",
            "24600:\tlearn: 0.0805667\ttest: 0.0805667\ttest1: 0.1710689\tbest: 0.1710689 (24600)\ttotal: 1h 5m 59s\tremaining: 14m 29s\n",
            "24700:\tlearn: 0.0803206\ttest: 0.0803206\ttest1: 0.1709416\tbest: 0.1709416 (24700)\ttotal: 1h 6m 15s\tremaining: 14m 12s\n",
            "24800:\tlearn: 0.0800875\ttest: 0.0800875\ttest1: 0.1708157\tbest: 0.1708157 (24800)\ttotal: 1h 6m 31s\tremaining: 13m 56s\n",
            "24900:\tlearn: 0.0798336\ttest: 0.0798336\ttest1: 0.1706837\tbest: 0.1706837 (24900)\ttotal: 1h 6m 48s\tremaining: 13m 40s\n",
            "25000:\tlearn: 0.0795991\ttest: 0.0795991\ttest1: 0.1705542\tbest: 0.1705542 (25000)\ttotal: 1h 7m 4s\tremaining: 13m 24s\n",
            "25100:\tlearn: 0.0793623\ttest: 0.0793623\ttest1: 0.1704435\tbest: 0.1704435 (25100)\ttotal: 1h 7m 20s\tremaining: 13m 8s\n",
            "25200:\tlearn: 0.0791271\ttest: 0.0791271\ttest1: 0.1703224\tbest: 0.1703224 (25200)\ttotal: 1h 7m 35s\tremaining: 12m 52s\n",
            "25300:\tlearn: 0.0788803\ttest: 0.0788803\ttest1: 0.1701853\tbest: 0.1701853 (25300)\ttotal: 1h 7m 52s\tremaining: 12m 36s\n",
            "25400:\tlearn: 0.0786394\ttest: 0.0786394\ttest1: 0.1700510\tbest: 0.1700510 (25400)\ttotal: 1h 8m 8s\tremaining: 12m 20s\n",
            "25500:\tlearn: 0.0784057\ttest: 0.0784057\ttest1: 0.1699346\tbest: 0.1699346 (25500)\ttotal: 1h 8m 23s\tremaining: 12m 4s\n",
            "25600:\tlearn: 0.0781842\ttest: 0.0781842\ttest1: 0.1698141\tbest: 0.1698141 (25600)\ttotal: 1h 8m 40s\tremaining: 11m 47s\n",
            "25700:\tlearn: 0.0779660\ttest: 0.0779660\ttest1: 0.1696899\tbest: 0.1696899 (25700)\ttotal: 1h 8m 55s\tremaining: 11m 31s\n",
            "25800:\tlearn: 0.0777253\ttest: 0.0777253\ttest1: 0.1695696\tbest: 0.1695696 (25800)\ttotal: 1h 9m 11s\tremaining: 11m 15s\n",
            "25900:\tlearn: 0.0774995\ttest: 0.0774995\ttest1: 0.1694464\tbest: 0.1694464 (25900)\ttotal: 1h 9m 29s\tremaining: 10m 59s\n",
            "26000:\tlearn: 0.0772683\ttest: 0.0772683\ttest1: 0.1693297\tbest: 0.1693297 (26000)\ttotal: 1h 9m 45s\tremaining: 10m 43s\n",
            "26100:\tlearn: 0.0770462\ttest: 0.0770462\ttest1: 0.1692155\tbest: 0.1692155 (26100)\ttotal: 1h 10m\tremaining: 10m 27s\n",
            "26200:\tlearn: 0.0768320\ttest: 0.0768320\ttest1: 0.1691040\tbest: 0.1691040 (26200)\ttotal: 1h 10m 17s\tremaining: 10m 11s\n",
            "26300:\tlearn: 0.0766233\ttest: 0.0766233\ttest1: 0.1689892\tbest: 0.1689892 (26300)\ttotal: 1h 10m 32s\tremaining: 9m 55s\n",
            "26400:\tlearn: 0.0764149\ttest: 0.0764149\ttest1: 0.1688846\tbest: 0.1688846 (26400)\ttotal: 1h 10m 48s\tremaining: 9m 39s\n",
            "26500:\tlearn: 0.0761861\ttest: 0.0761861\ttest1: 0.1687620\tbest: 0.1687620 (26500)\ttotal: 1h 11m 3s\tremaining: 9m 22s\n",
            "26600:\tlearn: 0.0759782\ttest: 0.0759782\ttest1: 0.1686532\tbest: 0.1686531 (26599)\ttotal: 1h 11m 19s\tremaining: 9m 6s\n",
            "26700:\tlearn: 0.0757663\ttest: 0.0757663\ttest1: 0.1685463\tbest: 0.1685463 (26700)\ttotal: 1h 11m 35s\tremaining: 8m 50s\n",
            "26800:\tlearn: 0.0755488\ttest: 0.0755488\ttest1: 0.1684334\tbest: 0.1684334 (26800)\ttotal: 1h 11m 51s\tremaining: 8m 34s\n",
            "26900:\tlearn: 0.0753279\ttest: 0.0753279\ttest1: 0.1683178\tbest: 0.1683178 (26900)\ttotal: 1h 12m 8s\tremaining: 8m 18s\n",
            "27000:\tlearn: 0.0751042\ttest: 0.0751042\ttest1: 0.1682193\tbest: 0.1682193 (27000)\ttotal: 1h 12m 23s\tremaining: 8m 2s\n",
            "27100:\tlearn: 0.0748902\ttest: 0.0748902\ttest1: 0.1681041\tbest: 0.1681041 (27100)\ttotal: 1h 12m 39s\tremaining: 7m 46s\n",
            "27200:\tlearn: 0.0746831\ttest: 0.0746831\ttest1: 0.1679931\tbest: 0.1679931 (27200)\ttotal: 1h 12m 55s\tremaining: 7m 30s\n",
            "27300:\tlearn: 0.0744679\ttest: 0.0744679\ttest1: 0.1678761\tbest: 0.1678761 (27300)\ttotal: 1h 13m 11s\tremaining: 7m 14s\n",
            "27400:\tlearn: 0.0742479\ttest: 0.0742479\ttest1: 0.1677514\tbest: 0.1677514 (27400)\ttotal: 1h 13m 27s\tremaining: 6m 58s\n",
            "27500:\tlearn: 0.0740425\ttest: 0.0740425\ttest1: 0.1676458\tbest: 0.1676458 (27500)\ttotal: 1h 13m 43s\tremaining: 6m 41s\n",
            "27600:\tlearn: 0.0738279\ttest: 0.0738279\ttest1: 0.1675500\tbest: 0.1675500 (27600)\ttotal: 1h 13m 59s\tremaining: 6m 25s\n",
            "27700:\tlearn: 0.0736280\ttest: 0.0736280\ttest1: 0.1674606\tbest: 0.1674606 (27700)\ttotal: 1h 14m 14s\tremaining: 6m 9s\n",
            "27800:\tlearn: 0.0734204\ttest: 0.0734204\ttest1: 0.1673598\tbest: 0.1673598 (27800)\ttotal: 1h 14m 32s\tremaining: 5m 53s\n",
            "27900:\tlearn: 0.0732092\ttest: 0.0732092\ttest1: 0.1672525\tbest: 0.1672525 (27900)\ttotal: 1h 14m 47s\tremaining: 5m 37s\n",
            "28000:\tlearn: 0.0730132\ttest: 0.0730132\ttest1: 0.1671579\tbest: 0.1671579 (28000)\ttotal: 1h 15m 3s\tremaining: 5m 21s\n",
            "28100:\tlearn: 0.0728179\ttest: 0.0728179\ttest1: 0.1670640\tbest: 0.1670640 (28100)\ttotal: 1h 15m 19s\tremaining: 5m 5s\n",
            "28200:\tlearn: 0.0726171\ttest: 0.0726171\ttest1: 0.1669690\tbest: 0.1669690 (28200)\ttotal: 1h 15m 34s\tremaining: 4m 49s\n",
            "28300:\tlearn: 0.0724213\ttest: 0.0724213\ttest1: 0.1668568\tbest: 0.1668568 (28300)\ttotal: 1h 15m 49s\tremaining: 4m 33s\n",
            "28400:\tlearn: 0.0722189\ttest: 0.0722189\ttest1: 0.1667614\tbest: 0.1667614 (28400)\ttotal: 1h 16m 5s\tremaining: 4m 17s\n",
            "28500:\tlearn: 0.0720185\ttest: 0.0720185\ttest1: 0.1666620\tbest: 0.1666620 (28500)\ttotal: 1h 16m 22s\tremaining: 4m\n",
            "28600:\tlearn: 0.0718228\ttest: 0.0718228\ttest1: 0.1665648\tbest: 0.1665648 (28600)\ttotal: 1h 16m 37s\tremaining: 3m 44s\n",
            "28700:\tlearn: 0.0716384\ttest: 0.0716384\ttest1: 0.1664820\tbest: 0.1664820 (28700)\ttotal: 1h 16m 53s\tremaining: 3m 28s\n",
            "28800:\tlearn: 0.0714469\ttest: 0.0714469\ttest1: 0.1663882\tbest: 0.1663882 (28800)\ttotal: 1h 17m 10s\tremaining: 3m 12s\n",
            "28900:\tlearn: 0.0712494\ttest: 0.0712494\ttest1: 0.1662843\tbest: 0.1662843 (28900)\ttotal: 1h 17m 25s\tremaining: 2m 56s\n",
            "29000:\tlearn: 0.0710551\ttest: 0.0710551\ttest1: 0.1662004\tbest: 0.1662004 (29000)\ttotal: 1h 17m 41s\tremaining: 2m 40s\n",
            "29100:\tlearn: 0.0708702\ttest: 0.0708702\ttest1: 0.1661170\tbest: 0.1661170 (29100)\ttotal: 1h 17m 57s\tremaining: 2m 24s\n",
            "29200:\tlearn: 0.0706763\ttest: 0.0706763\ttest1: 0.1660319\tbest: 0.1660319 (29200)\ttotal: 1h 18m 12s\tremaining: 2m 8s\n",
            "29300:\tlearn: 0.0704884\ttest: 0.0704884\ttest1: 0.1659414\tbest: 0.1659414 (29300)\ttotal: 1h 18m 28s\tremaining: 1m 52s\n",
            "29400:\tlearn: 0.0702933\ttest: 0.0702933\ttest1: 0.1658461\tbest: 0.1658461 (29400)\ttotal: 1h 18m 44s\tremaining: 1m 36s\n",
            "29500:\tlearn: 0.0701108\ttest: 0.0701108\ttest1: 0.1657540\tbest: 0.1657540 (29500)\ttotal: 1h 18m 59s\tremaining: 1m 20s\n",
            "29600:\tlearn: 0.0699240\ttest: 0.0699240\ttest1: 0.1656669\tbest: 0.1656669 (29600)\ttotal: 1h 19m 15s\tremaining: 1m 4s\n",
            "29700:\tlearn: 0.0697434\ttest: 0.0697434\ttest1: 0.1655701\tbest: 0.1655701 (29700)\ttotal: 1h 19m 30s\tremaining: 48s\n",
            "29800:\tlearn: 0.0695613\ttest: 0.0695613\ttest1: 0.1654785\tbest: 0.1654785 (29800)\ttotal: 1h 19m 48s\tremaining: 32s\n",
            "29900:\tlearn: 0.0693831\ttest: 0.0693831\ttest1: 0.1653880\tbest: 0.1653880 (29900)\ttotal: 1h 20m 5s\tremaining: 15.9s\n",
            "29999:\tlearn: 0.0692083\ttest: 0.0692083\ttest1: 0.1653066\tbest: 0.1653066 (29999)\ttotal: 1h 20m 30s\tremaining: 0us\n",
            "\n",
            "bestTest = 0.1653065693\n",
            "bestIteration = 29999\n",
            "\n"
          ]
        },
        {
          "output_type": "execute_result",
          "data": {
            "text/plain": [
              "<catboost.core.CatBoostRegressor at 0x7fde13e86340>"
            ]
          },
          "metadata": {},
          "execution_count": 50
        }
      ]
    },
    {
      "cell_type": "code",
      "source": [
        "X_test_prediction_cat = reg_catb.predict(X_test_tts)"
      ],
      "metadata": {
        "id": "HPjJPPRA27LO"
      },
      "execution_count": 51,
      "outputs": []
    },
    {
      "cell_type": "code",
      "source": [
        "#error on test dataset\n",
        "\n",
        "score = np.sqrt(mean_squared_error(y_test, X_test_prediction_cat))\n",
        "print(f'RMSE Score on Test set: {score:0.2f}')"
      ],
      "metadata": {
        "colab": {
          "base_uri": "https://localhost:8080/"
        },
        "id": "8bCJjzfM27Of",
        "outputId": "584cd1a5-1371-4081-c0ea-3875492871d7"
      },
      "execution_count": 52,
      "outputs": [
        {
          "output_type": "stream",
          "name": "stdout",
          "text": [
            "RMSE Score on Test set: 0.17\n"
          ]
        }
      ]
    },
    {
      "cell_type": "markdown",
      "source": [
        "## Ver 4: No check correlation"
      ],
      "metadata": {
        "id": "s5uNeE_iMCfm"
      }
    },
    {
      "cell_type": "code",
      "source": [
        "reg_catb  = CatBoostRegressor(n_estimators= 20000, eval_metric= 'RMSE', learning_rate=0.17, random_seed= 42)\n",
        "\n",
        "reg_catb.fit(X_train, y_train,eval_set=[(X_train, y_train), (X_test_tts, y_test)],verbose=100)"
      ],
      "metadata": {
        "colab": {
          "base_uri": "https://localhost:8080/"
        },
        "id": "piK7BB_2Mp2D",
        "outputId": "8bc9ded7-b09f-46a7-aa01-07ddef8bfb3d"
      },
      "execution_count": 71,
      "outputs": [
        {
          "output_type": "stream",
          "name": "stdout",
          "text": [
            "0:\tlearn: 8.4077480\ttest: 8.4077480\ttest1: 8.4032619\tbest: 8.4032619 (0)\ttotal: 210ms\tremaining: 1h 10m 6s\n",
            "100:\tlearn: 1.0845160\ttest: 1.0845160\ttest1: 1.0909668\tbest: 1.0909668 (100)\ttotal: 17.9s\tremaining: 58m 50s\n",
            "200:\tlearn: 0.8560163\ttest: 0.8560163\ttest1: 0.8657638\tbest: 0.8657638 (200)\ttotal: 39.6s\tremaining: 1h 4m 58s\n",
            "300:\tlearn: 0.7406082\ttest: 0.7406082\ttest1: 0.7529990\tbest: 0.7529990 (300)\ttotal: 59.6s\tremaining: 1h 5m 2s\n",
            "400:\tlearn: 0.6673964\ttest: 0.6673964\ttest1: 0.6821718\tbest: 0.6821718 (400)\ttotal: 1m 18s\tremaining: 1h 3m 37s\n",
            "500:\tlearn: 0.6135137\ttest: 0.6135137\ttest1: 0.6305271\tbest: 0.6305271 (500)\ttotal: 1m 37s\tremaining: 1h 3m 17s\n",
            "600:\tlearn: 0.5708888\ttest: 0.5708888\ttest1: 0.5898954\tbest: 0.5898954 (600)\ttotal: 1m 55s\tremaining: 1h 2m 21s\n",
            "700:\tlearn: 0.5362203\ttest: 0.5362203\ttest1: 0.5567881\tbest: 0.5567881 (700)\ttotal: 2m 16s\tremaining: 1h 2m 35s\n",
            "800:\tlearn: 0.5074167\ttest: 0.5074167\ttest1: 0.5291921\tbest: 0.5291921 (800)\ttotal: 2m 34s\tremaining: 1h 1m 48s\n",
            "900:\tlearn: 0.4833762\ttest: 0.4833762\ttest1: 0.5066099\tbest: 0.5066099 (900)\ttotal: 2m 53s\tremaining: 1h 1m 18s\n",
            "1000:\tlearn: 0.4613699\ttest: 0.4613699\ttest1: 0.4859916\tbest: 0.4859916 (1000)\ttotal: 3m 12s\tremaining: 1h 51s\n",
            "1100:\tlearn: 0.4421556\ttest: 0.4421556\ttest1: 0.4680062\tbest: 0.4680062 (1100)\ttotal: 3m 31s\tremaining: 1h 27s\n",
            "1200:\tlearn: 0.4249104\ttest: 0.4249104\ttest1: 0.4521788\tbest: 0.4521788 (1200)\ttotal: 3m 49s\tremaining: 59m 58s\n",
            "1300:\tlearn: 0.4094838\ttest: 0.4094838\ttest1: 0.4378883\tbest: 0.4378883 (1300)\ttotal: 4m 8s\tremaining: 59m 32s\n",
            "1400:\tlearn: 0.3955704\ttest: 0.3955704\ttest1: 0.4252413\tbest: 0.4252413 (1400)\ttotal: 4m 27s\tremaining: 59m 8s\n",
            "1500:\tlearn: 0.3830119\ttest: 0.3830119\ttest1: 0.4136903\tbest: 0.4136903 (1500)\ttotal: 4m 45s\tremaining: 58m 37s\n",
            "1600:\tlearn: 0.3717875\ttest: 0.3717875\ttest1: 0.4035596\tbest: 0.4035596 (1600)\ttotal: 5m 4s\tremaining: 58m 21s\n",
            "1700:\tlearn: 0.3611793\ttest: 0.3611793\ttest1: 0.3939021\tbest: 0.3939021 (1700)\ttotal: 5m 22s\tremaining: 57m 49s\n",
            "1800:\tlearn: 0.3510643\ttest: 0.3510643\ttest1: 0.3847095\tbest: 0.3847095 (1800)\ttotal: 5m 41s\tremaining: 57m 29s\n",
            "1900:\tlearn: 0.3417631\ttest: 0.3417631\ttest1: 0.3763201\tbest: 0.3763201 (1900)\ttotal: 5m 59s\tremaining: 57m 4s\n",
            "2000:\tlearn: 0.3330128\ttest: 0.3330128\ttest1: 0.3684504\tbest: 0.3684504 (2000)\ttotal: 6m 18s\tremaining: 56m 47s\n",
            "2100:\tlearn: 0.3242486\ttest: 0.3242486\ttest1: 0.3606200\tbest: 0.3606200 (2100)\ttotal: 6m 38s\tremaining: 56m 30s\n",
            "2200:\tlearn: 0.3168954\ttest: 0.3168954\ttest1: 0.3541057\tbest: 0.3541057 (2200)\ttotal: 6m 55s\tremaining: 56m 3s\n",
            "2300:\tlearn: 0.3097607\ttest: 0.3097607\ttest1: 0.3477868\tbest: 0.3477868 (2300)\ttotal: 7m 14s\tremaining: 55m 43s\n",
            "2400:\tlearn: 0.3030514\ttest: 0.3030514\ttest1: 0.3417601\tbest: 0.3417601 (2400)\ttotal: 7m 33s\tremaining: 55m 22s\n",
            "2500:\tlearn: 0.2967365\ttest: 0.2967365\ttest1: 0.3361384\tbest: 0.3361384 (2500)\ttotal: 7m 52s\tremaining: 55m 4s\n",
            "2600:\tlearn: 0.2906452\ttest: 0.2906452\ttest1: 0.3306858\tbest: 0.3306858 (2600)\ttotal: 8m 10s\tremaining: 54m 41s\n",
            "2700:\tlearn: 0.2849234\ttest: 0.2849234\ttest1: 0.3256633\tbest: 0.3256633 (2700)\ttotal: 8m 29s\tremaining: 54m 21s\n",
            "2800:\tlearn: 0.2795510\ttest: 0.2795510\ttest1: 0.3209527\tbest: 0.3209527 (2800)\ttotal: 8m 46s\tremaining: 53m 55s\n",
            "2900:\tlearn: 0.2743338\ttest: 0.2743338\ttest1: 0.3164988\tbest: 0.3164988 (2900)\ttotal: 9m 6s\tremaining: 53m 40s\n",
            "3000:\tlearn: 0.2693164\ttest: 0.2693164\ttest1: 0.3121120\tbest: 0.3121120 (3000)\ttotal: 9m 24s\tremaining: 53m 18s\n",
            "3100:\tlearn: 0.2646601\ttest: 0.2646601\ttest1: 0.3080931\tbest: 0.3080931 (3100)\ttotal: 9m 43s\tremaining: 52m 59s\n",
            "3200:\tlearn: 0.2601619\ttest: 0.2601619\ttest1: 0.3042254\tbest: 0.3042254 (3200)\ttotal: 10m 1s\tremaining: 52m 37s\n",
            "3300:\tlearn: 0.2558380\ttest: 0.2558380\ttest1: 0.3004933\tbest: 0.3004933 (3300)\ttotal: 10m 21s\tremaining: 52m 24s\n",
            "3400:\tlearn: 0.2517615\ttest: 0.2517615\ttest1: 0.2969800\tbest: 0.2969800 (3400)\ttotal: 10m 42s\tremaining: 52m 14s\n",
            "3500:\tlearn: 0.2476825\ttest: 0.2476825\ttest1: 0.2934956\tbest: 0.2934956 (3500)\ttotal: 11m\tremaining: 51m 51s\n",
            "3600:\tlearn: 0.2439010\ttest: 0.2439010\ttest1: 0.2902160\tbest: 0.2902160 (3600)\ttotal: 11m 19s\tremaining: 51m 33s\n",
            "3700:\tlearn: 0.2402949\ttest: 0.2402949\ttest1: 0.2871365\tbest: 0.2871365 (3700)\ttotal: 11m 37s\tremaining: 51m 10s\n",
            "3800:\tlearn: 0.2367985\ttest: 0.2367985\ttest1: 0.2841657\tbest: 0.2841657 (3800)\ttotal: 11m 56s\tremaining: 50m 51s\n",
            "3900:\tlearn: 0.2332474\ttest: 0.2332474\ttest1: 0.2811836\tbest: 0.2811836 (3900)\ttotal: 12m 14s\tremaining: 50m 30s\n",
            "4000:\tlearn: 0.2300232\ttest: 0.2300232\ttest1: 0.2784758\tbest: 0.2784758 (4000)\ttotal: 12m 33s\tremaining: 50m 11s\n",
            "4100:\tlearn: 0.2269856\ttest: 0.2269856\ttest1: 0.2758875\tbest: 0.2758875 (4100)\ttotal: 12m 52s\tremaining: 49m 54s\n",
            "4200:\tlearn: 0.2238889\ttest: 0.2238889\ttest1: 0.2733969\tbest: 0.2733969 (4200)\ttotal: 13m 10s\tremaining: 49m 34s\n",
            "4300:\tlearn: 0.2207650\ttest: 0.2207650\ttest1: 0.2707158\tbest: 0.2707158 (4300)\ttotal: 13m 30s\tremaining: 49m 17s\n",
            "4400:\tlearn: 0.2179437\ttest: 0.2179437\ttest1: 0.2683489\tbest: 0.2683489 (4400)\ttotal: 13m 48s\tremaining: 48m 57s\n",
            "4500:\tlearn: 0.2151788\ttest: 0.2151788\ttest1: 0.2660578\tbest: 0.2660578 (4500)\ttotal: 14m 8s\tremaining: 48m 41s\n",
            "4600:\tlearn: 0.2125125\ttest: 0.2125125\ttest1: 0.2638394\tbest: 0.2638394 (4600)\ttotal: 14m 26s\tremaining: 48m 20s\n",
            "4700:\tlearn: 0.2098810\ttest: 0.2098810\ttest1: 0.2616227\tbest: 0.2616227 (4700)\ttotal: 14m 45s\tremaining: 48m 2s\n",
            "4800:\tlearn: 0.2073615\ttest: 0.2073615\ttest1: 0.2594988\tbest: 0.2594988 (4800)\ttotal: 15m 3s\tremaining: 47m 41s\n",
            "4900:\tlearn: 0.2048866\ttest: 0.2048866\ttest1: 0.2573771\tbest: 0.2573771 (4900)\ttotal: 15m 23s\tremaining: 47m 26s\n",
            "5000:\tlearn: 0.2024532\ttest: 0.2024532\ttest1: 0.2553292\tbest: 0.2553292 (5000)\ttotal: 15m 42s\tremaining: 47m 5s\n",
            "5100:\tlearn: 0.2001605\ttest: 0.2001605\ttest1: 0.2533905\tbest: 0.2533905 (5100)\ttotal: 16m\tremaining: 46m 45s\n",
            "5200:\tlearn: 0.1979242\ttest: 0.1979242\ttest1: 0.2515795\tbest: 0.2515795 (5200)\ttotal: 16m 19s\tremaining: 46m 27s\n",
            "5300:\tlearn: 0.1957307\ttest: 0.1957307\ttest1: 0.2497971\tbest: 0.2497971 (5300)\ttotal: 16m 37s\tremaining: 46m 6s\n",
            "5400:\tlearn: 0.1936658\ttest: 0.1936658\ttest1: 0.2480312\tbest: 0.2480312 (5400)\ttotal: 16m 56s\tremaining: 45m 47s\n",
            "5500:\tlearn: 0.1916587\ttest: 0.1916587\ttest1: 0.2463877\tbest: 0.2463877 (5500)\ttotal: 17m 14s\tremaining: 45m 26s\n",
            "5600:\tlearn: 0.1897267\ttest: 0.1897267\ttest1: 0.2448588\tbest: 0.2448588 (5600)\ttotal: 17m 33s\tremaining: 45m 7s\n",
            "5700:\tlearn: 0.1876947\ttest: 0.1876947\ttest1: 0.2431885\tbest: 0.2431885 (5700)\ttotal: 17m 51s\tremaining: 44m 47s\n",
            "5800:\tlearn: 0.1858107\ttest: 0.1858107\ttest1: 0.2416775\tbest: 0.2416775 (5800)\ttotal: 18m 11s\tremaining: 44m 32s\n",
            "5900:\tlearn: 0.1839567\ttest: 0.1839567\ttest1: 0.2401776\tbest: 0.2401776 (5900)\ttotal: 18m 29s\tremaining: 44m 12s\n",
            "6000:\tlearn: 0.1820967\ttest: 0.1820967\ttest1: 0.2386882\tbest: 0.2386882 (6000)\ttotal: 18m 48s\tremaining: 43m 52s\n",
            "6100:\tlearn: 0.1802582\ttest: 0.1802582\ttest1: 0.2372670\tbest: 0.2372670 (6100)\ttotal: 19m 7s\tremaining: 43m 33s\n",
            "6200:\tlearn: 0.1785867\ttest: 0.1785867\ttest1: 0.2358921\tbest: 0.2358921 (6200)\ttotal: 19m 25s\tremaining: 43m 13s\n",
            "6300:\tlearn: 0.1769227\ttest: 0.1769227\ttest1: 0.2346098\tbest: 0.2346098 (6300)\ttotal: 19m 43s\tremaining: 42m 52s\n",
            "6400:\tlearn: 0.1752947\ttest: 0.1752947\ttest1: 0.2333272\tbest: 0.2333272 (6400)\ttotal: 20m 1s\tremaining: 42m 32s\n",
            "6500:\tlearn: 0.1736389\ttest: 0.1736389\ttest1: 0.2319754\tbest: 0.2319754 (6500)\ttotal: 20m 20s\tremaining: 42m 13s\n",
            "6600:\tlearn: 0.1720051\ttest: 0.1720051\ttest1: 0.2307130\tbest: 0.2307130 (6600)\ttotal: 20m 38s\tremaining: 41m 54s\n",
            "6700:\tlearn: 0.1704056\ttest: 0.1704056\ttest1: 0.2294823\tbest: 0.2294823 (6700)\ttotal: 20m 58s\tremaining: 41m 37s\n",
            "6800:\tlearn: 0.1688964\ttest: 0.1688964\ttest1: 0.2282654\tbest: 0.2282654 (6800)\ttotal: 21m 16s\tremaining: 41m 16s\n",
            "6900:\tlearn: 0.1673714\ttest: 0.1673714\ttest1: 0.2270566\tbest: 0.2270566 (6900)\ttotal: 21m 34s\tremaining: 40m 58s\n",
            "7000:\tlearn: 0.1659021\ttest: 0.1659021\ttest1: 0.2258725\tbest: 0.2258725 (7000)\ttotal: 21m 53s\tremaining: 40m 37s\n",
            "7100:\tlearn: 0.1645223\ttest: 0.1645223\ttest1: 0.2247859\tbest: 0.2247859 (7100)\ttotal: 22m 11s\tremaining: 40m 19s\n",
            "7200:\tlearn: 0.1632252\ttest: 0.1632252\ttest1: 0.2237974\tbest: 0.2237974 (7200)\ttotal: 22m 29s\tremaining: 39m 58s\n",
            "7300:\tlearn: 0.1618853\ttest: 0.1618853\ttest1: 0.2227600\tbest: 0.2227600 (7300)\ttotal: 22m 47s\tremaining: 39m 39s\n",
            "7400:\tlearn: 0.1606060\ttest: 0.1606060\ttest1: 0.2217917\tbest: 0.2217917 (7400)\ttotal: 23m 5s\tremaining: 39m 19s\n",
            "7500:\tlearn: 0.1593544\ttest: 0.1593544\ttest1: 0.2208198\tbest: 0.2208198 (7500)\ttotal: 23m 25s\tremaining: 39m 1s\n",
            "7600:\tlearn: 0.1580299\ttest: 0.1580299\ttest1: 0.2197728\tbest: 0.2197728 (7600)\ttotal: 23m 43s\tremaining: 38m 41s\n",
            "7700:\tlearn: 0.1567186\ttest: 0.1567186\ttest1: 0.2187720\tbest: 0.2187720 (7700)\ttotal: 24m 2s\tremaining: 38m 23s\n",
            "7800:\tlearn: 0.1554593\ttest: 0.1554593\ttest1: 0.2178406\tbest: 0.2178406 (7800)\ttotal: 24m 20s\tremaining: 38m 3s\n",
            "7900:\tlearn: 0.1542299\ttest: 0.1542299\ttest1: 0.2168798\tbest: 0.2168798 (7900)\ttotal: 24m 39s\tremaining: 37m 45s\n",
            "8000:\tlearn: 0.1530734\ttest: 0.1530734\ttest1: 0.2160038\tbest: 0.2160038 (8000)\ttotal: 24m 57s\tremaining: 37m 25s\n",
            "8100:\tlearn: 0.1518757\ttest: 0.1518757\ttest1: 0.2151173\tbest: 0.2151173 (8100)\ttotal: 25m 16s\tremaining: 37m 7s\n",
            "8200:\tlearn: 0.1507293\ttest: 0.1507293\ttest1: 0.2142380\tbest: 0.2142380 (8200)\ttotal: 25m 35s\tremaining: 36m 49s\n",
            "8300:\tlearn: 0.1496522\ttest: 0.1496522\ttest1: 0.2134376\tbest: 0.2134376 (8300)\ttotal: 25m 53s\tremaining: 36m 29s\n",
            "8400:\tlearn: 0.1485508\ttest: 0.1485508\ttest1: 0.2126140\tbest: 0.2126140 (8400)\ttotal: 26m 13s\tremaining: 36m 12s\n",
            "8500:\tlearn: 0.1473833\ttest: 0.1473833\ttest1: 0.2117149\tbest: 0.2117149 (8500)\ttotal: 26m 31s\tremaining: 35m 52s\n",
            "8600:\tlearn: 0.1463597\ttest: 0.1463597\ttest1: 0.2109688\tbest: 0.2109688 (8600)\ttotal: 26m 49s\tremaining: 35m 33s\n",
            "8700:\tlearn: 0.1453093\ttest: 0.1453093\ttest1: 0.2102056\tbest: 0.2102056 (8700)\ttotal: 27m 7s\tremaining: 35m 13s\n",
            "8800:\tlearn: 0.1443522\ttest: 0.1443522\ttest1: 0.2095024\tbest: 0.2095024 (8800)\ttotal: 27m 26s\tremaining: 34m 54s\n",
            "8900:\tlearn: 0.1433290\ttest: 0.1433290\ttest1: 0.2087480\tbest: 0.2087480 (8900)\ttotal: 27m 43s\tremaining: 34m 34s\n",
            "9000:\tlearn: 0.1423813\ttest: 0.1423813\ttest1: 0.2080660\tbest: 0.2080660 (9000)\ttotal: 28m 2s\tremaining: 34m 16s\n",
            "9100:\tlearn: 0.1413986\ttest: 0.1413986\ttest1: 0.2073525\tbest: 0.2073525 (9100)\ttotal: 28m 20s\tremaining: 33m 56s\n",
            "9200:\tlearn: 0.1404410\ttest: 0.1404410\ttest1: 0.2066445\tbest: 0.2066445 (9200)\ttotal: 28m 40s\tremaining: 33m 39s\n",
            "9300:\tlearn: 0.1394879\ttest: 0.1394879\ttest1: 0.2059189\tbest: 0.2059189 (9300)\ttotal: 28m 59s\tremaining: 33m 20s\n",
            "9400:\tlearn: 0.1385441\ttest: 0.1385441\ttest1: 0.2052168\tbest: 0.2052168 (9400)\ttotal: 29m 18s\tremaining: 33m 2s\n",
            "9500:\tlearn: 0.1376221\ttest: 0.1376221\ttest1: 0.2045749\tbest: 0.2045749 (9500)\ttotal: 29m 35s\tremaining: 32m 42s\n",
            "9600:\tlearn: 0.1367234\ttest: 0.1367234\ttest1: 0.2039427\tbest: 0.2039427 (9600)\ttotal: 29m 54s\tremaining: 32m 23s\n",
            "9700:\tlearn: 0.1358415\ttest: 0.1358415\ttest1: 0.2033437\tbest: 0.2033437 (9700)\ttotal: 30m 12s\tremaining: 32m 4s\n",
            "9800:\tlearn: 0.1350112\ttest: 0.1350112\ttest1: 0.2027531\tbest: 0.2027531 (9800)\ttotal: 30m 30s\tremaining: 31m 45s\n",
            "9900:\tlearn: 0.1341974\ttest: 0.1341974\ttest1: 0.2022087\tbest: 0.2022087 (9900)\ttotal: 30m 48s\tremaining: 31m 25s\n",
            "10000:\tlearn: 0.1333701\ttest: 0.1333701\ttest1: 0.2016251\tbest: 0.2016251 (10000)\ttotal: 31m 6s\tremaining: 31m 6s\n",
            "10100:\tlearn: 0.1325403\ttest: 0.1325403\ttest1: 0.2010147\tbest: 0.2010147 (10100)\ttotal: 31m 26s\tremaining: 30m 48s\n",
            "10200:\tlearn: 0.1317220\ttest: 0.1317220\ttest1: 0.2004446\tbest: 0.2004446 (10200)\ttotal: 31m 44s\tremaining: 30m 29s\n",
            "10300:\tlearn: 0.1308909\ttest: 0.1308909\ttest1: 0.1998728\tbest: 0.1998728 (10300)\ttotal: 32m 3s\tremaining: 30m 11s\n",
            "10400:\tlearn: 0.1300835\ttest: 0.1300835\ttest1: 0.1992931\tbest: 0.1992931 (10400)\ttotal: 32m 21s\tremaining: 29m 51s\n",
            "10500:\tlearn: 0.1293021\ttest: 0.1293021\ttest1: 0.1987382\tbest: 0.1987382 (10500)\ttotal: 32m 39s\tremaining: 29m 32s\n",
            "10600:\tlearn: 0.1285134\ttest: 0.1285134\ttest1: 0.1982224\tbest: 0.1982224 (10600)\ttotal: 32m 57s\tremaining: 29m 13s\n",
            "10700:\tlearn: 0.1277386\ttest: 0.1277386\ttest1: 0.1976866\tbest: 0.1976866 (10700)\ttotal: 33m 15s\tremaining: 28m 54s\n",
            "10800:\tlearn: 0.1269669\ttest: 0.1269669\ttest1: 0.1971360\tbest: 0.1971360 (10800)\ttotal: 33m 33s\tremaining: 28m 35s\n",
            "10900:\tlearn: 0.1262219\ttest: 0.1262219\ttest1: 0.1966325\tbest: 0.1966325 (10900)\ttotal: 33m 53s\tremaining: 28m 17s\n",
            "11000:\tlearn: 0.1254834\ttest: 0.1254834\ttest1: 0.1961244\tbest: 0.1961244 (11000)\ttotal: 34m 11s\tremaining: 27m 58s\n",
            "11100:\tlearn: 0.1247612\ttest: 0.1247612\ttest1: 0.1956080\tbest: 0.1956080 (11100)\ttotal: 34m 29s\tremaining: 27m 39s\n",
            "11200:\tlearn: 0.1240451\ttest: 0.1240451\ttest1: 0.1951012\tbest: 0.1951012 (11200)\ttotal: 34m 47s\tremaining: 27m 19s\n",
            "11300:\tlearn: 0.1233641\ttest: 0.1233641\ttest1: 0.1946338\tbest: 0.1946338 (11300)\ttotal: 35m 6s\tremaining: 27m 1s\n",
            "11400:\tlearn: 0.1226826\ttest: 0.1226826\ttest1: 0.1941838\tbest: 0.1941838 (11400)\ttotal: 35m 23s\tremaining: 26m 41s\n",
            "11500:\tlearn: 0.1219945\ttest: 0.1219945\ttest1: 0.1937095\tbest: 0.1937095 (11500)\ttotal: 35m 43s\tremaining: 26m 23s\n",
            "11600:\tlearn: 0.1213129\ttest: 0.1213129\ttest1: 0.1932356\tbest: 0.1932356 (11600)\ttotal: 36m 1s\tremaining: 26m 4s\n",
            "11700:\tlearn: 0.1206700\ttest: 0.1206700\ttest1: 0.1927889\tbest: 0.1927889 (11700)\ttotal: 36m 21s\tremaining: 25m 47s\n",
            "11800:\tlearn: 0.1199897\ttest: 0.1199897\ttest1: 0.1923212\tbest: 0.1923212 (11800)\ttotal: 36m 39s\tremaining: 25m 28s\n",
            "11900:\tlearn: 0.1193336\ttest: 0.1193336\ttest1: 0.1918935\tbest: 0.1918935 (11900)\ttotal: 36m 58s\tremaining: 25m 10s\n",
            "12000:\tlearn: 0.1186872\ttest: 0.1186872\ttest1: 0.1914630\tbest: 0.1914630 (12000)\ttotal: 37m 17s\tremaining: 24m 51s\n",
            "12100:\tlearn: 0.1180395\ttest: 0.1180395\ttest1: 0.1910242\tbest: 0.1910242 (12100)\ttotal: 37m 36s\tremaining: 24m 32s\n",
            "12200:\tlearn: 0.1174269\ttest: 0.1174269\ttest1: 0.1906418\tbest: 0.1906418 (12200)\ttotal: 37m 54s\tremaining: 24m 14s\n",
            "12300:\tlearn: 0.1168107\ttest: 0.1168107\ttest1: 0.1902194\tbest: 0.1902194 (12300)\ttotal: 38m 13s\tremaining: 23m 55s\n",
            "12400:\tlearn: 0.1161896\ttest: 0.1161896\ttest1: 0.1898048\tbest: 0.1898048 (12400)\ttotal: 38m 32s\tremaining: 23m 37s\n",
            "12500:\tlearn: 0.1155792\ttest: 0.1155792\ttest1: 0.1894040\tbest: 0.1894040 (12500)\ttotal: 38m 51s\tremaining: 23m 18s\n",
            "12600:\tlearn: 0.1150098\ttest: 0.1150098\ttest1: 0.1890476\tbest: 0.1890476 (12600)\ttotal: 39m 10s\tremaining: 23m\n",
            "12700:\tlearn: 0.1143848\ttest: 0.1143848\ttest1: 0.1886263\tbest: 0.1886263 (12700)\ttotal: 39m 28s\tremaining: 22m 41s\n",
            "12800:\tlearn: 0.1138283\ttest: 0.1138283\ttest1: 0.1882683\tbest: 0.1882683 (12800)\ttotal: 39m 47s\tremaining: 22m 22s\n",
            "12900:\tlearn: 0.1132182\ttest: 0.1132182\ttest1: 0.1878576\tbest: 0.1878576 (12900)\ttotal: 40m 5s\tremaining: 22m 3s\n",
            "13000:\tlearn: 0.1126394\ttest: 0.1126394\ttest1: 0.1874897\tbest: 0.1874897 (13000)\ttotal: 40m 24s\tremaining: 21m 45s\n",
            "13100:\tlearn: 0.1120731\ttest: 0.1120731\ttest1: 0.1871123\tbest: 0.1871123 (13100)\ttotal: 40m 42s\tremaining: 21m 26s\n",
            "13200:\tlearn: 0.1115234\ttest: 0.1115234\ttest1: 0.1867547\tbest: 0.1867547 (13200)\ttotal: 41m 1s\tremaining: 21m 7s\n",
            "13300:\tlearn: 0.1109557\ttest: 0.1109557\ttest1: 0.1863668\tbest: 0.1863668 (13300)\ttotal: 41m 21s\tremaining: 20m 49s\n",
            "13400:\tlearn: 0.1104084\ttest: 0.1104084\ttest1: 0.1859945\tbest: 0.1859945 (13400)\ttotal: 41m 39s\tremaining: 20m 30s\n",
            "13500:\tlearn: 0.1098475\ttest: 0.1098475\ttest1: 0.1856307\tbest: 0.1856307 (13500)\ttotal: 41m 58s\tremaining: 20m 12s\n",
            "13600:\tlearn: 0.1093197\ttest: 0.1093197\ttest1: 0.1852761\tbest: 0.1852761 (13600)\ttotal: 42m 16s\tremaining: 19m 53s\n",
            "13700:\tlearn: 0.1087999\ttest: 0.1087999\ttest1: 0.1849524\tbest: 0.1849524 (13700)\ttotal: 42m 35s\tremaining: 19m 34s\n",
            "13800:\tlearn: 0.1082690\ttest: 0.1082690\ttest1: 0.1846255\tbest: 0.1846255 (13800)\ttotal: 42m 53s\tremaining: 19m 15s\n",
            "13900:\tlearn: 0.1077591\ttest: 0.1077591\ttest1: 0.1842893\tbest: 0.1842893 (13900)\ttotal: 43m 11s\tremaining: 18m 57s\n",
            "14000:\tlearn: 0.1072618\ttest: 0.1072618\ttest1: 0.1839793\tbest: 0.1839793 (14000)\ttotal: 43m 29s\tremaining: 18m 38s\n",
            "14100:\tlearn: 0.1067461\ttest: 0.1067461\ttest1: 0.1836587\tbest: 0.1836587 (14100)\ttotal: 43m 50s\tremaining: 18m 20s\n",
            "14200:\tlearn: 0.1062469\ttest: 0.1062469\ttest1: 0.1833560\tbest: 0.1833560 (14200)\ttotal: 44m 8s\tremaining: 18m 1s\n",
            "14300:\tlearn: 0.1057380\ttest: 0.1057380\ttest1: 0.1830302\tbest: 0.1830302 (14300)\ttotal: 44m 26s\tremaining: 17m 42s\n",
            "14400:\tlearn: 0.1052359\ttest: 0.1052359\ttest1: 0.1827196\tbest: 0.1827196 (14400)\ttotal: 44m 44s\tremaining: 17m 23s\n",
            "14500:\tlearn: 0.1047494\ttest: 0.1047494\ttest1: 0.1824144\tbest: 0.1824144 (14500)\ttotal: 45m 3s\tremaining: 17m 5s\n",
            "14600:\tlearn: 0.1042513\ttest: 0.1042513\ttest1: 0.1820878\tbest: 0.1820878 (14600)\ttotal: 45m 21s\tremaining: 16m 46s\n",
            "14700:\tlearn: 0.1037705\ttest: 0.1037705\ttest1: 0.1817877\tbest: 0.1817877 (14700)\ttotal: 45m 40s\tremaining: 16m 27s\n",
            "14800:\tlearn: 0.1032808\ttest: 0.1032808\ttest1: 0.1814487\tbest: 0.1814487 (14800)\ttotal: 45m 59s\tremaining: 16m 9s\n",
            "14900:\tlearn: 0.1028101\ttest: 0.1028101\ttest1: 0.1811775\tbest: 0.1811775 (14900)\ttotal: 46m 19s\tremaining: 15m 50s\n",
            "15000:\tlearn: 0.1023594\ttest: 0.1023594\ttest1: 0.1809192\tbest: 0.1809192 (15000)\ttotal: 46m 37s\tremaining: 15m 32s\n",
            "15100:\tlearn: 0.1018865\ttest: 0.1018865\ttest1: 0.1806237\tbest: 0.1806237 (15100)\ttotal: 46m 55s\tremaining: 15m 13s\n",
            "15200:\tlearn: 0.1014185\ttest: 0.1014185\ttest1: 0.1803440\tbest: 0.1803440 (15200)\ttotal: 47m 15s\tremaining: 14m 55s\n",
            "15300:\tlearn: 0.1009831\ttest: 0.1009831\ttest1: 0.1800998\tbest: 0.1800998 (15300)\ttotal: 47m 33s\tremaining: 14m 36s\n",
            "15400:\tlearn: 0.1005273\ttest: 0.1005273\ttest1: 0.1798343\tbest: 0.1798343 (15400)\ttotal: 47m 52s\tremaining: 14m 17s\n",
            "15500:\tlearn: 0.1000920\ttest: 0.1000920\ttest1: 0.1795493\tbest: 0.1795492 (15499)\ttotal: 48m 10s\tremaining: 13m 59s\n",
            "15600:\tlearn: 0.0996661\ttest: 0.0996661\ttest1: 0.1792937\tbest: 0.1792937 (15600)\ttotal: 48m 29s\tremaining: 13m 40s\n",
            "15700:\tlearn: 0.0992238\ttest: 0.0992238\ttest1: 0.1790115\tbest: 0.1790115 (15700)\ttotal: 48m 48s\tremaining: 13m 21s\n",
            "15800:\tlearn: 0.0987899\ttest: 0.0987899\ttest1: 0.1787271\tbest: 0.1787271 (15800)\ttotal: 49m 8s\tremaining: 13m 3s\n",
            "15900:\tlearn: 0.0983744\ttest: 0.0983744\ttest1: 0.1784577\tbest: 0.1784577 (15900)\ttotal: 49m 26s\tremaining: 12m 44s\n",
            "16000:\tlearn: 0.0979394\ttest: 0.0979394\ttest1: 0.1781926\tbest: 0.1781926 (16000)\ttotal: 49m 46s\tremaining: 12m 26s\n",
            "16100:\tlearn: 0.0975196\ttest: 0.0975196\ttest1: 0.1779513\tbest: 0.1779513 (16100)\ttotal: 50m 4s\tremaining: 12m 7s\n",
            "16200:\tlearn: 0.0970879\ttest: 0.0970879\ttest1: 0.1776824\tbest: 0.1776824 (16200)\ttotal: 50m 23s\tremaining: 11m 49s\n",
            "16300:\tlearn: 0.0966891\ttest: 0.0966891\ttest1: 0.1774347\tbest: 0.1774347 (16300)\ttotal: 50m 42s\tremaining: 11m 30s\n",
            "16400:\tlearn: 0.0962659\ttest: 0.0962659\ttest1: 0.1771640\tbest: 0.1771640 (16400)\ttotal: 51m\tremaining: 11m 11s\n",
            "16500:\tlearn: 0.0958731\ttest: 0.0958731\ttest1: 0.1769123\tbest: 0.1769120 (16499)\ttotal: 51m 20s\tremaining: 10m 53s\n",
            "16600:\tlearn: 0.0954408\ttest: 0.0954408\ttest1: 0.1766449\tbest: 0.1766449 (16600)\ttotal: 51m 38s\tremaining: 10m 34s\n",
            "16700:\tlearn: 0.0950332\ttest: 0.0950332\ttest1: 0.1763907\tbest: 0.1763907 (16700)\ttotal: 51m 58s\tremaining: 10m 15s\n",
            "16800:\tlearn: 0.0946494\ttest: 0.0946494\ttest1: 0.1761637\tbest: 0.1761637 (16800)\ttotal: 52m 16s\tremaining: 9m 57s\n",
            "16900:\tlearn: 0.0942487\ttest: 0.0942487\ttest1: 0.1759152\tbest: 0.1759152 (16900)\ttotal: 52m 35s\tremaining: 9m 38s\n",
            "17000:\tlearn: 0.0938659\ttest: 0.0938659\ttest1: 0.1756899\tbest: 0.1756899 (17000)\ttotal: 52m 54s\tremaining: 9m 19s\n",
            "17100:\tlearn: 0.0934721\ttest: 0.0934721\ttest1: 0.1754627\tbest: 0.1754627 (17100)\ttotal: 53m 14s\tremaining: 9m 1s\n",
            "17200:\tlearn: 0.0930847\ttest: 0.0930847\ttest1: 0.1752206\tbest: 0.1752206 (17200)\ttotal: 53m 34s\tremaining: 8m 43s\n",
            "17300:\tlearn: 0.0927073\ttest: 0.0927073\ttest1: 0.1750064\tbest: 0.1750064 (17300)\ttotal: 53m 53s\tremaining: 8m 24s\n",
            "17400:\tlearn: 0.0923546\ttest: 0.0923546\ttest1: 0.1748001\tbest: 0.1748001 (17400)\ttotal: 54m 12s\tremaining: 8m 5s\n",
            "17500:\tlearn: 0.0919656\ttest: 0.0919656\ttest1: 0.1745721\tbest: 0.1745721 (17500)\ttotal: 54m 31s\tremaining: 7m 47s\n",
            "17600:\tlearn: 0.0915857\ttest: 0.0915857\ttest1: 0.1743471\tbest: 0.1743471 (17600)\ttotal: 54m 51s\tremaining: 7m 28s\n",
            "17700:\tlearn: 0.0912345\ttest: 0.0912345\ttest1: 0.1741574\tbest: 0.1741574 (17700)\ttotal: 55m 10s\tremaining: 7m 9s\n",
            "17800:\tlearn: 0.0908719\ttest: 0.0908719\ttest1: 0.1739220\tbest: 0.1739220 (17800)\ttotal: 55m 29s\tremaining: 6m 51s\n",
            "17900:\tlearn: 0.0905100\ttest: 0.0905100\ttest1: 0.1737118\tbest: 0.1737118 (17900)\ttotal: 55m 49s\tremaining: 6m 32s\n",
            "18000:\tlearn: 0.0901488\ttest: 0.0901488\ttest1: 0.1734869\tbest: 0.1734869 (18000)\ttotal: 56m 8s\tremaining: 6m 14s\n",
            "18100:\tlearn: 0.0897858\ttest: 0.0897858\ttest1: 0.1732826\tbest: 0.1732826 (18100)\ttotal: 56m 28s\tremaining: 5m 55s\n",
            "18200:\tlearn: 0.0894364\ttest: 0.0894364\ttest1: 0.1730734\tbest: 0.1730734 (18200)\ttotal: 56m 47s\tremaining: 5m 36s\n",
            "18300:\tlearn: 0.0890766\ttest: 0.0890766\ttest1: 0.1728711\tbest: 0.1728711 (18300)\ttotal: 57m 7s\tremaining: 5m 18s\n",
            "18400:\tlearn: 0.0887285\ttest: 0.0887285\ttest1: 0.1726604\tbest: 0.1726604 (18400)\ttotal: 57m 27s\tremaining: 4m 59s\n",
            "18500:\tlearn: 0.0883879\ttest: 0.0883879\ttest1: 0.1724758\tbest: 0.1724758 (18500)\ttotal: 57m 46s\tremaining: 4m 40s\n",
            "18600:\tlearn: 0.0880622\ttest: 0.0880622\ttest1: 0.1722991\tbest: 0.1722991 (18600)\ttotal: 58m 6s\tremaining: 4m 22s\n",
            "18700:\tlearn: 0.0877025\ttest: 0.0877025\ttest1: 0.1720905\tbest: 0.1720905 (18700)\ttotal: 58m 25s\tremaining: 4m 3s\n",
            "18800:\tlearn: 0.0873682\ttest: 0.0873682\ttest1: 0.1719090\tbest: 0.1719090 (18800)\ttotal: 58m 45s\tremaining: 3m 44s\n",
            "18900:\tlearn: 0.0870273\ttest: 0.0870273\ttest1: 0.1717164\tbest: 0.1717164 (18900)\ttotal: 59m 4s\tremaining: 3m 26s\n",
            "19000:\tlearn: 0.0867018\ttest: 0.0867018\ttest1: 0.1715309\tbest: 0.1715309 (19000)\ttotal: 59m 23s\tremaining: 3m 7s\n",
            "19100:\tlearn: 0.0863885\ttest: 0.0863885\ttest1: 0.1713442\tbest: 0.1713442 (19100)\ttotal: 59m 42s\tremaining: 2m 48s\n",
            "19200:\tlearn: 0.0860679\ttest: 0.0860679\ttest1: 0.1711692\tbest: 0.1711692 (19200)\ttotal: 1h\tremaining: 2m 29s\n",
            "19300:\tlearn: 0.0857564\ttest: 0.0857564\ttest1: 0.1709953\tbest: 0.1709953 (19300)\ttotal: 1h 20s\tremaining: 2m 11s\n",
            "19400:\tlearn: 0.0854303\ttest: 0.0854303\ttest1: 0.1708258\tbest: 0.1708258 (19400)\ttotal: 1h 39s\tremaining: 1m 52s\n",
            "19500:\tlearn: 0.0850925\ttest: 0.0850925\ttest1: 0.1706366\tbest: 0.1706366 (19500)\ttotal: 1h 58s\tremaining: 1m 33s\n",
            "19600:\tlearn: 0.0847727\ttest: 0.0847727\ttest1: 0.1704486\tbest: 0.1704486 (19600)\ttotal: 1h 1m 18s\tremaining: 1m 14s\n",
            "19700:\tlearn: 0.0844657\ttest: 0.0844657\ttest1: 0.1702875\tbest: 0.1702875 (19700)\ttotal: 1h 1m 37s\tremaining: 56.1s\n",
            "19800:\tlearn: 0.0841400\ttest: 0.0841400\ttest1: 0.1701151\tbest: 0.1701151 (19800)\ttotal: 1h 1m 56s\tremaining: 37.4s\n",
            "19900:\tlearn: 0.0838360\ttest: 0.0838360\ttest1: 0.1699485\tbest: 0.1699485 (19900)\ttotal: 1h 2m 15s\tremaining: 18.6s\n",
            "19999:\tlearn: 0.0835515\ttest: 0.0835515\ttest1: 0.1697931\tbest: 0.1697931 (19999)\ttotal: 1h 2m 33s\tremaining: 0us\n",
            "\n",
            "bestTest = 0.1697930618\n",
            "bestIteration = 19999\n",
            "\n"
          ]
        },
        {
          "output_type": "execute_result",
          "data": {
            "text/plain": [
              "<catboost.core.CatBoostRegressor at 0x7fde13d3c820>"
            ]
          },
          "metadata": {},
          "execution_count": 71
        }
      ]
    },
    {
      "cell_type": "code",
      "source": [
        "X_test_prediction_cat = reg_catb.predict(X_test_tts)\n",
        "#error on test dataset\n",
        "\n",
        "score = np.sqrt(mean_squared_error(y_test, X_test_prediction_cat))\n",
        "print(f'RMSE Score on Test set: {score:0.2f}')"
      ],
      "metadata": {
        "colab": {
          "base_uri": "https://localhost:8080/"
        },
        "id": "h4o4Epq4MqJc",
        "outputId": "02d9f1d1-4078-4106-d836-5be857758fe7"
      },
      "execution_count": 72,
      "outputs": [
        {
          "output_type": "stream",
          "name": "stdout",
          "text": [
            "RMSE Score on Test set: 0.17\n"
          ]
        }
      ]
    },
    {
      "cell_type": "markdown",
      "source": [
        "## Ver 5: Handle same with the references"
      ],
      "metadata": {
        "id": "NOSF3iecofmC"
      }
    },
    {
      "cell_type": "code",
      "source": [
        "cb_params = {'iterations': 15000,\n",
        "            'learning_rate': 0.01,\n",
        "            'depth': 6,\n",
        "            'l2_leaf_reg': 3,\n",
        "            'bagging_temperature': 0,\n",
        "            'border_count': 128,\n",
        "            'loss_function': 'RMSE',\n",
        "            'random_seed': 42,\n",
        "            'task_type': 'GPU',\n",
        "            'verbose': 500}"
      ],
      "metadata": {
        "id": "KqA0c7_Bom1j"
      },
      "execution_count": 72,
      "outputs": []
    },
    {
      "cell_type": "code",
      "source": [
        "reg_catb = CatBoostRegressor(**cb_params)\n",
        "reg_catb.fit(X_train, y_train, eval_set=(X_test_tts, y_test))"
      ],
      "metadata": {
        "colab": {
          "base_uri": "https://localhost:8080/"
        },
        "id": "pkf8DWuzopc4",
        "outputId": "7d59fb3f-9f90-4781-c2a3-92447f9f5222"
      },
      "execution_count": 73,
      "outputs": [
        {
          "output_type": "stream",
          "name": "stdout",
          "text": [
            "0:\tlearn: 9.7853421\ttest: 9.7785477\tbest: 9.7785477 (0)\ttotal: 15.1ms\tremaining: 3m 46s\n",
            "500:\tlearn: 1.6550481\ttest: 1.6584516\tbest: 1.6584516 (500)\ttotal: 4.2s\tremaining: 2m 1s\n",
            "1000:\tlearn: 1.3505870\ttest: 1.3536296\tbest: 1.3536296 (1000)\ttotal: 10.1s\tremaining: 2m 20s\n",
            "1500:\tlearn: 1.1866081\ttest: 1.1908622\tbest: 1.1908622 (1500)\ttotal: 14s\tremaining: 2m 5s\n",
            "2000:\tlearn: 1.0646104\ttest: 1.0699215\tbest: 1.0699215 (2000)\ttotal: 19.2s\tremaining: 2m 4s\n",
            "2500:\tlearn: 0.9796317\ttest: 0.9860627\tbest: 0.9860627 (2500)\ttotal: 23.8s\tremaining: 1m 59s\n",
            "3000:\tlearn: 0.9143857\ttest: 0.9215923\tbest: 0.9215923 (3000)\ttotal: 27.9s\tremaining: 1m 51s\n",
            "3500:\tlearn: 0.8604122\ttest: 0.8681295\tbest: 0.8681295 (3500)\ttotal: 33.7s\tremaining: 1m 50s\n",
            "4000:\tlearn: 0.8169116\ttest: 0.8254190\tbest: 0.8254190 (4000)\ttotal: 37.8s\tremaining: 1m 43s\n",
            "4500:\tlearn: 0.7792106\ttest: 0.7884562\tbest: 0.7884562 (4500)\ttotal: 41.8s\tremaining: 1m 37s\n",
            "5000:\tlearn: 0.7469047\ttest: 0.7566913\tbest: 0.7566913 (5000)\ttotal: 48.9s\tremaining: 1m 37s\n",
            "5500:\tlearn: 0.7176355\ttest: 0.7281482\tbest: 0.7281482 (5500)\ttotal: 52.9s\tremaining: 1m 31s\n",
            "6000:\tlearn: 0.6920948\ttest: 0.7032414\tbest: 0.7032414 (6000)\ttotal: 59s\tremaining: 1m 28s\n",
            "6500:\tlearn: 0.6686725\ttest: 0.6805172\tbest: 0.6805172 (6500)\ttotal: 1m 3s\tremaining: 1m 22s\n",
            "7000:\tlearn: 0.6485446\ttest: 0.6609509\tbest: 0.6609509 (7000)\ttotal: 1m 8s\tremaining: 1m 17s\n",
            "7500:\tlearn: 0.6305912\ttest: 0.6434605\tbest: 0.6434605 (7500)\ttotal: 1m 14s\tremaining: 1m 14s\n",
            "8000:\tlearn: 0.6133514\ttest: 0.6266352\tbest: 0.6266352 (8000)\ttotal: 1m 18s\tremaining: 1m 8s\n",
            "8500:\tlearn: 0.5975551\ttest: 0.6112998\tbest: 0.6112998 (8500)\ttotal: 1m 24s\tremaining: 1m 4s\n",
            "9000:\tlearn: 0.5833318\ttest: 0.5975367\tbest: 0.5975367 (9000)\ttotal: 1m 28s\tremaining: 59.2s\n",
            "9500:\tlearn: 0.5702076\ttest: 0.5849047\tbest: 0.5849047 (9500)\ttotal: 1m 32s\tremaining: 53.7s\n",
            "10000:\tlearn: 0.5574487\ttest: 0.5726077\tbest: 0.5726077 (10000)\ttotal: 1m 38s\tremaining: 49.3s\n",
            "10500:\tlearn: 0.5456231\ttest: 0.5611485\tbest: 0.5611485 (10500)\ttotal: 1m 42s\tremaining: 44s\n",
            "11000:\tlearn: 0.5350097\ttest: 0.5510504\tbest: 0.5510504 (11000)\ttotal: 1m 46s\tremaining: 38.9s\n",
            "11500:\tlearn: 0.5246053\ttest: 0.5410662\tbest: 0.5410662 (11500)\ttotal: 1m 52s\tremaining: 34.3s\n",
            "12000:\tlearn: 0.5152819\ttest: 0.5322362\tbest: 0.5322362 (12000)\ttotal: 1m 56s\tremaining: 29.1s\n",
            "12500:\tlearn: 0.5069258\ttest: 0.5243275\tbest: 0.5243275 (12500)\ttotal: 2m 2s\tremaining: 24.5s\n",
            "13000:\tlearn: 0.4986839\ttest: 0.5164946\tbest: 0.5164946 (13000)\ttotal: 2m 6s\tremaining: 19.5s\n",
            "13500:\tlearn: 0.4909759\ttest: 0.5091535\tbest: 0.5091535 (13500)\ttotal: 2m 10s\tremaining: 14.5s\n",
            "14000:\tlearn: 0.4834386\ttest: 0.5019729\tbest: 0.5019729 (14000)\ttotal: 2m 16s\tremaining: 9.74s\n",
            "14500:\tlearn: 0.4761776\ttest: 0.4951148\tbest: 0.4951148 (14500)\ttotal: 2m 20s\tremaining: 4.84s\n",
            "14999:\tlearn: 0.4694232\ttest: 0.4887607\tbest: 0.4887607 (14999)\ttotal: 2m 25s\tremaining: 0us\n",
            "bestTest = 0.4887607472\n",
            "bestIteration = 14999\n"
          ]
        },
        {
          "output_type": "execute_result",
          "data": {
            "text/plain": [
              "<catboost.core.CatBoostRegressor at 0x7f791da3a4f0>"
            ]
          },
          "metadata": {},
          "execution_count": 73
        }
      ]
    },
    {
      "cell_type": "code",
      "source": [
        "X_test_prediction_cat = reg_catb.predict(X_test_tts)\n",
        "#error on test dataset\n",
        "\n",
        "score = np.sqrt(mean_squared_error(y_test, X_test_prediction_cat))\n",
        "print(f'RMSE Score on Test set: {score:0.2f}')"
      ],
      "metadata": {
        "colab": {
          "base_uri": "https://localhost:8080/"
        },
        "id": "JcDUVaGBqG2k",
        "outputId": "64de927e-3993-4e1b-85f9-9609ecc94049"
      },
      "execution_count": 74,
      "outputs": [
        {
          "output_type": "stream",
          "name": "stdout",
          "text": [
            "RMSE Score on Test set: 0.49\n"
          ]
        }
      ]
    },
    {
      "cell_type": "code",
      "source": [
        "#cc_test_pred_cat = reg_catb.predict(cc_test_reduced)\n",
        "cc_test_pred_cat = reg_catb.predict(X_test.copy())"
      ],
      "metadata": {
        "id": "4xxaEdi2p_8s"
      },
      "execution_count": 75,
      "outputs": []
    },
    {
      "cell_type": "code",
      "source": [
        "reg_catb.save_model('reg_catb_w_feat_importance_v2')"
      ],
      "metadata": {
        "id": "5u6xX9W6qZlq"
      },
      "execution_count": null,
      "outputs": []
    },
    {
      "cell_type": "code",
      "source": [
        "cc_test_copy_cat = cc_test.copy()\n",
        "cc_test_copy_cat[target] = cc_test_pred_cat\n",
        "cc_test_copy_cat[[target,\"index\"]].to_csv(\"cat_predictions_mxb_260223_version9.csv\",index = False)"
      ],
      "metadata": {
        "id": "YdJCTXr-p1Ik"
      },
      "execution_count": 76,
      "outputs": []
    },
    {
      "cell_type": "code",
      "source": [
        "from google.colab import files"
      ],
      "metadata": {
        "id": "IdMN9mKjrUk7"
      },
      "execution_count": 42,
      "outputs": []
    },
    {
      "cell_type": "code",
      "source": [
        "files.download('/content/cat_predictions_mxb_260223_version9.csv') "
      ],
      "metadata": {
        "colab": {
          "base_uri": "https://localhost:8080/",
          "height": 17
        },
        "id": "k-ADGYkXrEZ_",
        "outputId": "4b16ddd0-a1d0-4542-8d68-e550b57fb852"
      },
      "execution_count": 77,
      "outputs": [
        {
          "output_type": "display_data",
          "data": {
            "text/plain": [
              "<IPython.core.display.Javascript object>"
            ],
            "application/javascript": [
              "\n",
              "    async function download(id, filename, size) {\n",
              "      if (!google.colab.kernel.accessAllowed) {\n",
              "        return;\n",
              "      }\n",
              "      const div = document.createElement('div');\n",
              "      const label = document.createElement('label');\n",
              "      label.textContent = `Downloading \"${filename}\": `;\n",
              "      div.appendChild(label);\n",
              "      const progress = document.createElement('progress');\n",
              "      progress.max = size;\n",
              "      div.appendChild(progress);\n",
              "      document.body.appendChild(div);\n",
              "\n",
              "      const buffers = [];\n",
              "      let downloaded = 0;\n",
              "\n",
              "      const channel = await google.colab.kernel.comms.open(id);\n",
              "      // Send a message to notify the kernel that we're ready.\n",
              "      channel.send({})\n",
              "\n",
              "      for await (const message of channel.messages) {\n",
              "        // Send a message to notify the kernel that we're ready.\n",
              "        channel.send({})\n",
              "        if (message.buffers) {\n",
              "          for (const buffer of message.buffers) {\n",
              "            buffers.push(buffer);\n",
              "            downloaded += buffer.byteLength;\n",
              "            progress.value = downloaded;\n",
              "          }\n",
              "        }\n",
              "      }\n",
              "      const blob = new Blob(buffers, {type: 'application/binary'});\n",
              "      const a = document.createElement('a');\n",
              "      a.href = window.URL.createObjectURL(blob);\n",
              "      a.download = filename;\n",
              "      div.appendChild(a);\n",
              "      a.click();\n",
              "      div.remove();\n",
              "    }\n",
              "  "
            ]
          },
          "metadata": {}
        },
        {
          "output_type": "display_data",
          "data": {
            "text/plain": [
              "<IPython.core.display.Javascript object>"
            ],
            "application/javascript": [
              "download(\"download_b3820909-1a7a-437e-be6a-004a45b3a9a3\", \"cat_predictions_mxb_260223_version9.csv\", 800430)"
            ]
          },
          "metadata": {}
        }
      ]
    },
    {
      "cell_type": "markdown",
      "source": [
        "*Save model*"
      ],
      "metadata": {
        "id": "qU3H2QgRvs0e"
      }
    },
    {
      "cell_type": "code",
      "source": [
        "reg_catb.save_model('reg_catb_w_feat_importance')"
      ],
      "metadata": {
        "id": "zKGlvBx8n0P_"
      },
      "execution_count": 73,
      "outputs": []
    },
    {
      "cell_type": "code",
      "source": [
        "feature_importance = reg_catb.feature_importances_\n",
        "sorted_idx = np.argsort(feature_importance)\n",
        "fig = plt.figure(figsize=(12, 6))\n",
        "plt.barh(range(len(sorted_idx))[:30], feature_importance[sorted_idx][:30], align='center')\n",
        "plt.yticks(range(len(sorted_idx))[:30], np.array(X_test.columns)[sorted_idx][:30])\n",
        "plt.title('Feature Importance')"
      ],
      "metadata": {
        "colab": {
          "base_uri": "https://localhost:8080/",
          "height": 408
        },
        "id": "AsTkaxRfJu9W",
        "outputId": "9d406cc7-a321-427a-83b2-696ec549d821"
      },
      "execution_count": 80,
      "outputs": [
        {
          "output_type": "execute_result",
          "data": {
            "text/plain": [
              "Text(0.5, 1.0, 'Feature Importance')"
            ]
          },
          "metadata": {},
          "execution_count": 80
        },
        {
          "output_type": "display_data",
          "data": {
            "text/plain": [
              "<Figure size 864x432 with 1 Axes>"
            ],
            "image/png": "[encoded data removed]"
          },
          "metadata": {
            "needs_background": "light"
          }
        }
      ]
    },
    {
      "cell_type": "code",
      "source": [
        "np.array(X_test.columns)[sorted_idx][:15]"
      ],
      "metadata": {
        "colab": {
          "base_uri": "https://localhost:8080/"
        },
        "id": "Hs4WFJP3K4Hn",
        "outputId": "996e177a-6306-49eb-aaff-66b53418f93a"
      },
      "execution_count": 75,
      "outputs": [
        {
          "output_type": "execute_result",
          "data": {
            "text/plain": [
              "array(['wind-uwnd-250-2010-17', 'month', 'wind-hgt-500-2010-5', 'day',\n",
              "       'wind-vwnd-925-2010-6', 'sst-2010-9', 'sst-2010-7',\n",
              "       'wind-uwnd-925-2010-18', 'wind-uwnd-250-2010-14',\n",
              "       'wind-vwnd-925-2010-5', 'wind-hgt-10-2010-10',\n",
              "       'wind-vwnd-925-2010-4', 'wind-vwnd-250-2010-12', 'sst-2010-3',\n",
              "       'icec-2010-6'], dtype=object)"
            ]
          },
          "metadata": {},
          "execution_count": 75
        }
      ]
    },
    {
      "cell_type": "code",
      "source": [
        "reg_catb.get_feature_importance()"
      ],
      "metadata": {
        "colab": {
          "base_uri": "https://localhost:8080/"
        },
        "id": "tt05Xv5uJ5fH",
        "outputId": "23ff2c38-067b-46d5-e584-750510b27005"
      },
      "execution_count": 76,
      "outputs": [
        {
          "output_type": "execute_result",
          "data": {
            "text/plain": [
              "array([3.47603395e+00, 3.24077385e+00, 4.19596306e+00, 4.33436002e-02,\n",
              "       5.36285922e-02, 6.11369626e-02, 3.37173822e-02, 2.52096064e-02,\n",
              "       7.44374730e-02, 6.51050902e-02, 5.32228085e-02, 9.07674115e-02,\n",
              "       8.02432621e-03, 2.77007500e-02, 1.31544997e-02, 5.53778113e-02,\n",
              "       4.01276719e-02, 1.05596743e+00, 7.05575547e+00, 3.23202188e-02,\n",
              "       9.46775506e+00, 7.27871972e+00, 2.68170933e+00, 2.01671248e+00,\n",
              "       2.45327091e-01, 8.96912412e-02, 5.69022739e-02, 6.52868064e-02,\n",
              "       2.76420816e-02, 6.50776207e-02, 4.35815967e-02, 4.58172333e-02,\n",
              "       2.77311675e-02, 7.02347623e-02, 3.50670226e-02, 1.48422453e+00,\n",
              "       4.89761457e-02, 4.96251196e-02, 8.68572525e-02, 5.14611498e-02,\n",
              "       4.24908315e-02, 4.30583701e-02, 5.55063893e-02, 1.23193654e-01,\n",
              "       6.65039172e-02, 4.41595886e-02, 6.94547735e-02, 5.18719839e-02,\n",
              "       1.21362841e-01, 9.35360133e-02, 3.90247570e-02, 3.70809456e-02,\n",
              "       9.29681950e-02, 8.26372143e-02, 5.34268368e-02, 3.07600171e-02,\n",
              "       4.13546737e+00, 7.15710538e-01, 8.03929401e-02, 1.57079068e-02,\n",
              "       4.20524106e-02, 1.78929533e-02, 2.29699877e-02, 5.50368465e-02,\n",
              "       4.95422950e-02, 1.39830147e-02, 9.12807097e-02, 8.22602034e-03,\n",
              "       1.91964322e+00, 2.48259374e-01, 3.12905514e-02, 1.86551540e-02,\n",
              "       2.86655447e-02, 1.29154557e-02, 6.23715262e+00, 1.01932874e-01,\n",
              "       1.35846652e-01, 1.07760821e+01, 3.50646121e+00, 1.88825615e+00,\n",
              "       3.39438009e+00, 2.08631071e-01, 6.72260759e-01, 1.75055160e-01,\n",
              "       3.58310234e-01, 7.98056644e+00, 3.85093964e-02, 4.22420961e-02,\n",
              "       3.43233939e-02, 2.23648320e-02, 1.91114821e-02, 1.20880806e-01,\n",
              "       5.60588897e-02, 1.47238826e-01, 9.60270863e-03, 8.05260465e-02,\n",
              "       1.15822650e-02, 9.86412462e-02, 7.53807069e-02, 4.50213500e-02,\n",
              "       6.98365650e-02, 4.60742100e-02, 1.20972269e-02, 7.89483107e-01,\n",
              "       5.43270595e-02, 5.50801662e-02, 9.42112919e-03, 1.64097537e-01,\n",
              "       4.50042687e-03, 1.21703383e-01, 6.84690580e-03, 7.00307535e-03,\n",
              "       1.12737680e-02, 2.45384773e-02, 7.23311028e-03, 5.95828303e-01,\n",
              "       8.30215446e-03, 5.74672096e-03, 8.07166877e-01, 1.75776619e-02,\n",
              "       6.50847427e-03, 4.98800036e-02, 2.76855987e-02, 2.04157263e-02,\n",
              "       3.59414508e-02, 4.26886841e-02, 1.08331584e-01, 1.32977285e-02,\n",
              "       4.64722533e-01, 5.69594021e-03, 3.52916456e-03, 6.35276925e-03,\n",
              "       1.63758473e-01, 3.55972442e-04, 2.89973313e-01, 5.28798565e-03,\n",
              "       6.86047841e-03, 4.95027637e-03, 5.78134843e-01, 9.47649010e-03,\n",
              "       4.96995102e-03, 5.86467151e-03, 1.53496437e-02, 4.36003946e-01,\n",
              "       1.84672977e-02, 6.36044999e-01, 1.05809495e-01, 1.22211333e-02,\n",
              "       1.92802279e-02, 8.05871700e-02, 4.86215124e-02, 6.02828585e-02,\n",
              "       9.26742975e-02, 1.45773771e-01, 4.52078665e-03, 1.58393592e-02,\n",
              "       4.34638369e-02, 3.44795841e-02, 3.11288215e-03, 1.08736726e-02,\n",
              "       2.98069198e-03, 7.89376825e-02, 6.77106938e-03, 6.80739414e-01,\n",
              "       6.03293251e-02, 1.76233262e-01, 1.19691740e-03, 1.82954246e-02,\n",
              "       2.01895919e-02, 4.90491895e-02, 1.57761903e-02, 3.24175072e-02,\n",
              "       1.40649341e-02, 1.13773139e-02, 2.13684052e-02, 4.90778344e-03,\n",
              "       5.07785174e-03, 4.67679864e-03, 4.91717415e-03, 6.77876701e-02,\n",
              "       1.02861021e-02, 2.32618093e-02, 8.42827740e-03, 1.01289987e-02,\n",
              "       4.65161749e-01, 1.15879347e-02, 8.09640230e-03, 1.21428620e-02,\n",
              "       2.71884309e-02, 1.61361767e-02, 3.59897643e-02, 3.88818566e-02,\n",
              "       4.09292992e-02, 8.76928357e-03, 2.24864947e-02, 8.66803775e-03,\n",
              "       2.63518653e-02, 9.84067123e-02, 5.72512082e-02, 3.49147283e-03,\n",
              "       1.27762503e-02, 7.00103221e-03, 5.24418513e-03, 2.13131104e-02,\n",
              "       5.41431758e-02, 8.39609984e-03, 5.12653057e-03, 2.88221770e-02,\n",
              "       1.54853526e-02, 4.77889757e-03, 1.42212245e-02, 3.72456682e-03,\n",
              "       5.87996769e-03, 2.75916392e-02, 4.89535805e-01, 7.23742412e-02,\n",
              "       5.59103848e-03, 3.11412846e-02, 3.26732540e-02, 5.97570820e-03,\n",
              "       1.64935176e-02, 1.24435910e-01, 9.75845046e-03, 4.80175896e-02,\n",
              "       7.07770867e-02, 3.83403012e-03, 3.55962138e-03, 1.68632462e-03,\n",
              "       5.03825314e-01, 1.59646875e-02, 1.06548619e-02, 1.06192977e-01,\n",
              "       4.06289066e-01, 2.20769306e-01, 5.77056621e-02, 1.39465396e-02,\n",
              "       1.64331043e-01, 2.49990376e-02, 1.10493736e-02, 6.97438650e-02,\n",
              "       9.92523082e-02, 1.68960798e-02, 4.77142937e-02, 5.33917259e-04,\n",
              "       1.49251127e-03])"
            ]
          },
          "metadata": {},
          "execution_count": 76
        }
      ]
    },
    {
      "cell_type": "code",
      "source": [
        "cc_test_pred_cat = reg_catb.predict(cc_test_reduced)"
      ],
      "metadata": {
        "id": "8rSMvxNK3c9Z"
      },
      "execution_count": 77,
      "outputs": []
    },
    {
      "cell_type": "code",
      "source": [
        "cc_test_copy_cat = cc_test.copy()"
      ],
      "metadata": {
        "id": "IZ_doPp5MHUB"
      },
      "execution_count": 78,
      "outputs": []
    },
    {
      "cell_type": "code",
      "source": [
        "cc_test_copy_cat[target] = cc_test_pred_cat\n",
        "cc_test_copy_cat[[target,\"index\"]].to_csv(\"cat_predictions_mxb_260223_version5.csv\",index = False)"
      ],
      "metadata": {
        "id": "fM-6icWr3c9Z"
      },
      "execution_count": 79,
      "outputs": []
    },
    {
      "cell_type": "code",
      "source": [
        "from google.colab import files\n",
        "files.download('/content/cat_predictions_mxb_260223_version5.csv') "
      ],
      "metadata": {
        "colab": {
          "base_uri": "https://localhost:8080/",
          "height": 17
        },
        "id": "bpEQNYkvT2Lh",
        "outputId": "e5bb0605-6851-472f-dff7-515f1cbccf9e"
      },
      "execution_count": 80,
      "outputs": [
        {
          "output_type": "display_data",
          "data": {
            "text/plain": [
              "<IPython.core.display.Javascript object>"
            ],
            "application/javascript": [
              "\n",
              "    async function download(id, filename, size) {\n",
              "      if (!google.colab.kernel.accessAllowed) {\n",
              "        return;\n",
              "      }\n",
              "      const div = document.createElement('div');\n",
              "      const label = document.createElement('label');\n",
              "      label.textContent = `Downloading \"${filename}\": `;\n",
              "      div.appendChild(label);\n",
              "      const progress = document.createElement('progress');\n",
              "      progress.max = size;\n",
              "      div.appendChild(progress);\n",
              "      document.body.appendChild(div);\n",
              "\n",
              "      const buffers = [];\n",
              "      let downloaded = 0;\n",
              "\n",
              "      const channel = await google.colab.kernel.comms.open(id);\n",
              "      // Send a message to notify the kernel that we're ready.\n",
              "      channel.send({})\n",
              "\n",
              "      for await (const message of channel.messages) {\n",
              "        // Send a message to notify the kernel that we're ready.\n",
              "        channel.send({})\n",
              "        if (message.buffers) {\n",
              "          for (const buffer of message.buffers) {\n",
              "            buffers.push(buffer);\n",
              "            downloaded += buffer.byteLength;\n",
              "            progress.value = downloaded;\n",
              "          }\n",
              "        }\n",
              "      }\n",
              "      const blob = new Blob(buffers, {type: 'application/binary'});\n",
              "      const a = document.createElement('a');\n",
              "      a.href = window.URL.createObjectURL(blob);\n",
              "      a.download = filename;\n",
              "      div.appendChild(a);\n",
              "      a.click();\n",
              "      div.remove();\n",
              "    }\n",
              "  "
            ]
          },
          "metadata": {}
        },
        {
          "output_type": "display_data",
          "data": {
            "text/plain": [
              "<IPython.core.display.Javascript object>"
            ],
            "application/javascript": [
              "download(\"download_5fd9a293-a91f-4681-8395-f6985631ef95\", \"cat_predictions_mxb_260223_version5.csv\", 799889)"
            ]
          },
          "metadata": {}
        }
      ]
    },
    {
      "cell_type": "code",
      "source": [
        "files.download('/content/reg_catb_w_feat_importance')"
      ],
      "metadata": {
        "colab": {
          "base_uri": "https://localhost:8080/",
          "height": 17
        },
        "id": "qyC45Le5-fQU",
        "outputId": "257fce54-7af1-4afa-acd2-3d748392d54e"
      },
      "execution_count": 82,
      "outputs": [
        {
          "output_type": "display_data",
          "data": {
            "text/plain": [
              "<IPython.core.display.Javascript object>"
            ],
            "application/javascript": [
              "\n",
              "    async function download(id, filename, size) {\n",
              "      if (!google.colab.kernel.accessAllowed) {\n",
              "        return;\n",
              "      }\n",
              "      const div = document.createElement('div');\n",
              "      const label = document.createElement('label');\n",
              "      label.textContent = `Downloading \"${filename}\": `;\n",
              "      div.appendChild(label);\n",
              "      const progress = document.createElement('progress');\n",
              "      progress.max = size;\n",
              "      div.appendChild(progress);\n",
              "      document.body.appendChild(div);\n",
              "\n",
              "      const buffers = [];\n",
              "      let downloaded = 0;\n",
              "\n",
              "      const channel = await google.colab.kernel.comms.open(id);\n",
              "      // Send a message to notify the kernel that we're ready.\n",
              "      channel.send({})\n",
              "\n",
              "      for await (const message of channel.messages) {\n",
              "        // Send a message to notify the kernel that we're ready.\n",
              "        channel.send({})\n",
              "        if (message.buffers) {\n",
              "          for (const buffer of message.buffers) {\n",
              "            buffers.push(buffer);\n",
              "            downloaded += buffer.byteLength;\n",
              "            progress.value = downloaded;\n",
              "          }\n",
              "        }\n",
              "      }\n",
              "      const blob = new Blob(buffers, {type: 'application/binary'});\n",
              "      const a = document.createElement('a');\n",
              "      a.href = window.URL.createObjectURL(blob);\n",
              "      a.download = filename;\n",
              "      div.appendChild(a);\n",
              "      a.click();\n",
              "      div.remove();\n",
              "    }\n",
              "  "
            ]
          },
          "metadata": {}
        },
        {
          "output_type": "display_data",
          "data": {
            "text/plain": [
              "<IPython.core.display.Javascript object>"
            ],
            "application/javascript": [
              "download(\"download_a476bf0a-6ddd-4d19-9fef-d7925402d1ef\", \"reg_catb_w_feat_importance\", 21758384)"
            ]
          },
          "metadata": {}
        }
      ]
    },
    {
      "cell_type": "markdown",
      "source": [],
      "metadata": {
        "id": "a3nLtmAAh0JC"
      }
    }
  ]
}